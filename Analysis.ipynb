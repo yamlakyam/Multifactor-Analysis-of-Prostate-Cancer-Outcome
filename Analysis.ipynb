{
 "cells": [
  {
   "cell_type": "code",
   "execution_count": 1,
   "id": "57a84183",
   "metadata": {},
   "outputs": [
    {
     "name": "stdout",
     "output_type": "stream",
     "text": [
      " Volume in drive C is Windows \n",
      " Volume Serial Number is 04F5-FC96\n",
      "\n",
      " Directory of C:\\Users\\Yamlak\\Documents\\IU PhD Journey\\ML for BioInformatics\\Multifactor Analysis of Prostate Cancer\n",
      "\n",
      "26/03/2025  18:12    <DIR>          .\n",
      "24/04/2025  07:55    <DIR>          ..\n",
      "22/03/2025  11:13                44 .gitignore\n",
      "22/03/2025  10:27    <DIR>          .ipynb_checkpoints\n",
      "26/03/2025  18:12         1,364,750 Analysis.ipynb\n",
      "22/03/2025  10:21       127,450,102 data_curated_trans.csv\n",
      "               3 File(s)    128,814,896 bytes\n",
      "               3 Dir(s)   8,667,721,728 bytes free\n"
     ]
    }
   ],
   "source": [
    "ls\n"
   ]
  },
  {
   "cell_type": "code",
   "execution_count": 92,
   "id": "43799c38",
   "metadata": {},
   "outputs": [
    {
     "name": "stdout",
     "output_type": "stream",
     "text": [
      "Collecting xgboostNote: you may need to restart the kernel to use updated packages.\n"
     ]
    },
    {
     "name": "stderr",
     "output_type": "stream",
     "text": [
      "WARNING: Ignoring invalid distribution -atplotlib (c:\\users\\yamlak\\anaconda3\\lib\\site-packages)\n"
     ]
    },
    {
     "name": "stdout",
     "output_type": "stream",
     "text": [
      "\n",
      "  Downloading xgboost-2.1.4-py3-none-win_amd64.whl (124.9 MB)\n",
      "     ------------------------------------- 124.9/124.9 MB 11.5 MB/s eta 0:00:00\n",
      "Requirement already satisfied: numpy in c:\\users\\yamlak\\anaconda3\\lib\\site-packages (from xgboost) (1.21.5)\n",
      "Requirement already satisfied: scipy in c:\\users\\yamlak\\anaconda3\\lib\\site-packages (from xgboost) (1.7.3)\n",
      "Installing collected packages: xgboost\n",
      "Successfully installed xgboost-2.1.4\n"
     ]
    },
    {
     "name": "stderr",
     "output_type": "stream",
     "text": [
      "WARNING: Ignoring invalid distribution -rotobuf (c:\\users\\yamlak\\anaconda3\\lib\\site-packages)\n",
      "WARNING: Ignoring invalid distribution -atplotlib (c:\\users\\yamlak\\anaconda3\\lib\\site-packages)\n",
      "WARNING: Ignoring invalid distribution -rotobuf (c:\\users\\yamlak\\anaconda3\\lib\\site-packages)\n",
      "\n",
      "[notice] A new release of pip is available: 23.1.2 -> 25.1.1\n",
      "[notice] To update, run: python.exe -m pip install --upgrade pip\n"
     ]
    }
   ],
   "source": [
    "pip install xgboost"
   ]
  },
  {
   "cell_type": "code",
   "execution_count": 3,
   "id": "30a92aef",
   "metadata": {},
   "outputs": [],
   "source": [
    "import pandas as pd\n",
    "import matplotlib.pyplot as plt\n",
    "import numpy as np\n"
   ]
  },
  {
   "cell_type": "code",
   "execution_count": 4,
   "id": "ff31855c",
   "metadata": {},
   "outputs": [],
   "source": [
    "data = pd.read_csv('data_curated_trans.csv')"
   ]
  },
  {
   "cell_type": "code",
   "execution_count": 5,
   "id": "603a77ca",
   "metadata": {},
   "outputs": [
    {
     "name": "stdout",
     "output_type": "stream",
     "text": [
      "<class 'pandas.core.frame.DataFrame'>\n",
      "RangeIndex: 489 entries, 0 to 488\n",
      "Columns: 45606 entries, PATIENT_ID to hsa-mir-224\n",
      "dtypes: float64(45605), object(1)\n",
      "memory usage: 170.1+ MB\n"
     ]
    }
   ],
   "source": [
    "data.info()"
   ]
  },
  {
   "cell_type": "code",
   "execution_count": 19,
   "id": "298423b3",
   "metadata": {},
   "outputs": [
    {
     "name": "stdout",
     "output_type": "stream",
     "text": [
      "Dataset Shape: (489, 45606)\n",
      "\n",
      "First 5 rows of the dataset:\n",
      "     PATIENT_ID  PATH_N_STAGE  NEW_TUMOR_EVENT_AFTER_INITIAL_TREATMENT  \\\n",
      "0  TCGA-2A-A8VL           2.0                                      2.0   \n",
      "1  TCGA-2A-A8VO           3.0                                      2.0   \n",
      "2  TCGA-2A-A8VT           1.0                                      2.0   \n",
      "3  TCGA-2A-A8VV           2.0                                      2.0   \n",
      "4  TCGA-2A-A8VX           2.0                                      2.0   \n",
      "\n",
      "   PATH_T_STAGE  PRIOR_DX  RADIATION_THERAPY   AGE  M_UBE2Q2P2  M_HMGB1P1  \\\n",
      "0           1.0       2.0                2.0  51.0     -0.0361        NaN   \n",
      "1           2.0       2.0                2.0  57.0     -0.3004        NaN   \n",
      "2           2.0       2.0                1.0  47.0      3.1758        NaN   \n",
      "3           1.0       2.0                2.0  52.0     -0.1102        NaN   \n",
      "4           2.0       2.0                2.0  70.0     -0.7052        NaN   \n",
      "\n",
      "   M_LOC155060  ...  hsa-mir-1321  hsa-mir-361  hsa-mir-548m  hsa-mir-652  \\\n",
      "0       0.3014  ...           0.0          0.0           0.0          0.0   \n",
      "1       0.6841  ...           0.0          0.0           0.0          0.0   \n",
      "2       2.8191  ...          -1.0         -1.0          -1.0         -1.0   \n",
      "3      -0.1719  ...           0.0          0.0           0.0          0.0   \n",
      "4       0.3580  ...           0.0          0.0           0.0          0.0   \n",
      "\n",
      "   hsa-mir-220a  hsa-mir-513c  hsa-mir-513b  hsa-mir-513a-1  hsa-mir-513a-2  \\\n",
      "0           0.0           0.0           0.0             0.0             0.0   \n",
      "1           0.0           0.0           0.0             0.0             0.0   \n",
      "2          -1.0          -1.0          -1.0            -1.0            -1.0   \n",
      "3           0.0           0.0           0.0             0.0             0.0   \n",
      "4           0.0           0.0           0.0             0.0             0.0   \n",
      "\n",
      "   hsa-mir-224  \n",
      "0          0.0  \n",
      "1          0.0  \n",
      "2         -1.0  \n",
      "3          0.0  \n",
      "4          0.0  \n",
      "\n",
      "[5 rows x 45606 columns]\n",
      "\n",
      "Total number of columns: 45606\n"
     ]
    }
   ],
   "source": [
    "print(\"Dataset Shape:\", data.shape)  # (rows, columns)\n",
    "print(\"\\nFirst 5 rows of the dataset:\")\n",
    "print(data.head())\n",
    "\n",
    "num_columns = data.shape[1]\n",
    "print(f\"\\nTotal number of columns: {num_columns}\")"
   ]
  },
  {
   "cell_type": "code",
   "execution_count": 20,
   "id": "0e15eec4",
   "metadata": {},
   "outputs": [
    {
     "data": {
      "text/plain": [
       "PATIENT_ID                                 0\n",
       "PATH_N_STAGE                               0\n",
       "NEW_TUMOR_EVENT_AFTER_INITIAL_TREATMENT    0\n",
       "PATH_T_STAGE                               0\n",
       "PRIOR_DX                                   0\n",
       "                                          ..\n",
       "hsa-mir-513c                               0\n",
       "hsa-mir-513b                               0\n",
       "hsa-mir-513a-1                             0\n",
       "hsa-mir-513a-2                             0\n",
       "hsa-mir-224                                0\n",
       "Length: 45606, dtype: int64"
      ]
     },
     "execution_count": 20,
     "metadata": {},
     "output_type": "execute_result"
    }
   ],
   "source": [
    "missing_values = data.isnull().sum()\n",
    "missing_values "
   ]
  },
  {
   "cell_type": "code",
   "execution_count": 21,
   "id": "95fc295a",
   "metadata": {},
   "outputs": [
    {
     "data": {
      "text/plain": [
       "281754"
      ]
     },
     "execution_count": 21,
     "metadata": {},
     "output_type": "execute_result"
    }
   ],
   "source": [
    "missing_values.sum()"
   ]
  },
  {
   "cell_type": "code",
   "execution_count": 22,
   "id": "4c2dffb3",
   "metadata": {},
   "outputs": [
    {
     "name": "stdout",
     "output_type": "stream",
     "text": [
      "\n",
      "Columns with missing values and their count:\n",
      "M_HMGB1P1     489\n",
      "M_RNU12-2P    489\n",
      "M_SSX9         33\n",
      "M_CXORF67     489\n",
      "M_EFCAB8      489\n",
      "             ... \n",
      "M_ZNF679       33\n",
      "M_ZNF735       33\n",
      "M_ZNF99        33\n",
      "M_ZP4          33\n",
      "M_ZSWIM2       33\n",
      "Length: 1546, dtype: int64\n"
     ]
    }
   ],
   "source": [
    "# Filter columns that have missing values\n",
    "columns_with_missing = missing_values[missing_values > 0]\n",
    "\n",
    "# Display missing values\n",
    "print(\"\\nColumns with missing values and their count:\")\n",
    "print(columns_with_missing)\n"
   ]
  },
  {
   "cell_type": "code",
   "execution_count": 23,
   "id": "84144b87",
   "metadata": {},
   "outputs": [],
   "source": [
    "data_cleaned = data.dropna(axis=1)"
   ]
  },
  {
   "cell_type": "code",
   "execution_count": 24,
   "id": "82d72ae1",
   "metadata": {},
   "outputs": [
    {
     "data": {
      "text/plain": [
       "((489, 45606), (489, 44060))"
      ]
     },
     "execution_count": 24,
     "metadata": {},
     "output_type": "execute_result"
    }
   ],
   "source": [
    "data.shape, data_cleaned.shape"
   ]
  },
  {
   "cell_type": "code",
   "execution_count": 25,
   "id": "87310121",
   "metadata": {},
   "outputs": [
    {
     "data": {
      "text/plain": [
       "0"
      ]
     },
     "execution_count": 25,
     "metadata": {},
     "output_type": "execute_result"
    }
   ],
   "source": [
    "data_cleaned.isnull().sum().sum()"
   ]
  },
  {
   "cell_type": "code",
   "execution_count": 26,
   "id": "71ccf040",
   "metadata": {},
   "outputs": [],
   "source": [
    "numerical_cols = data_cleaned.select_dtypes(include=['number']).columns\n",
    "\n",
    "num_features = len(numerical_cols)\n",
    "features_per_plot = 20\n",
    "num_plots = int(np.ceil(num_features / features_per_plot))\n",
    "\n",
    "# Generate box plots in batches of 20 features\n",
    "# for i in range(num_plots):\n",
    "#     plt.figure(figsize=(15, 6))\n",
    "    \n",
    "\n",
    "#     subset_cols = numerical_cols[i * features_per_plot : (i + 1) * features_per_plot]\n",
    "    \n",
    "\n",
    "#     data_cleaned[subset_cols].boxplot()\n",
    "#     plt.xticks(rotation=90)\n",
    "#     plt.title(f\"Boxplot for Features {i * features_per_plot + 1} to {(i + 1) * features_per_plot}\")\n",
    "#     plt.show()"
   ]
  },
  {
   "cell_type": "code",
   "execution_count": 27,
   "id": "b8a2c56c",
   "metadata": {},
   "outputs": [
    {
     "data": {
      "text/plain": [
       "Index(['PATIENT_ID', 'PATH_N_STAGE', 'NEW_TUMOR_EVENT_AFTER_INITIAL_TREATMENT',\n",
       "       'PATH_T_STAGE', 'PRIOR_DX', 'RADIATION_THERAPY', 'AGE', 'M_UBE2Q2P2',\n",
       "       'M_LOC155060', 'M_GTPBP6',\n",
       "       ...\n",
       "       'hsa-mir-1321', 'hsa-mir-361', 'hsa-mir-548m', 'hsa-mir-652',\n",
       "       'hsa-mir-220a', 'hsa-mir-513c', 'hsa-mir-513b', 'hsa-mir-513a-1',\n",
       "       'hsa-mir-513a-2', 'hsa-mir-224'],\n",
       "      dtype='object', length=44060)"
      ]
     },
     "execution_count": 27,
     "metadata": {},
     "output_type": "execute_result"
    }
   ],
   "source": [
    "data_cleaned.columns "
   ]
  },
  {
   "cell_type": "code",
   "execution_count": 28,
   "id": "8c01b562",
   "metadata": {},
   "outputs": [],
   "source": [
    "exclude_columns = ['PATIENT_ID', 'PATH_N_STAGE', 'NEW_TUMOR_EVENT_AFTER_INITIAL_TREATMENT', \n",
    "                   'PATH_T_STAGE', 'PRIOR_DX', 'RADIATION_THERAPY', 'AGE']\n",
    "\n",
    "# Exclude the specified columns\n",
    "data_filtered = data_cleaned.drop(columns=exclude_columns)"
   ]
  },
  {
   "cell_type": "code",
   "execution_count": 29,
   "id": "fef8fa8b",
   "metadata": {},
   "outputs": [
    {
     "name": "stdout",
     "output_type": "stream",
     "text": [
      "Original number of features: 44060\n",
      "Number of features after filtering: 43964\n",
      "\n",
      "Columns with smaller variability (excluding excluded ones):\n",
      "Index(['M_UBE2Q2P2', 'M_LOC155060', 'M_GTPBP6', 'M_EFCAB12', 'M_A1BG',\n",
      "       'M_A1CF', 'M_RBFOX1', 'M_GGACT', 'M_A2M', 'M_A2ML1',\n",
      "       ...\n",
      "       'hsa-mir-1321', 'hsa-mir-361', 'hsa-mir-548m', 'hsa-mir-652',\n",
      "       'hsa-mir-220a', 'hsa-mir-513c', 'hsa-mir-513b', 'hsa-mir-513a-1',\n",
      "       'hsa-mir-513a-2', 'hsa-mir-224'],\n",
      "      dtype='object', length=43957)\n"
     ]
    }
   ],
   "source": [
    "exclude_columns = ['PATIENT_ID', 'PATH_N_STAGE', 'NEW_TUMOR_EVENT_AFTER_INITIAL_TREATMENT', \n",
    "                   'PATH_T_STAGE', 'PRIOR_DX', 'RADIATION_THERAPY', 'AGE']\n",
    "\n",
    "# Remove the excluded columns before computing the standard deviation\n",
    "data_filtered_for_sd = data_cleaned.drop(columns=exclude_columns)\n",
    "\n",
    "# Calculate the standard deviation for the remaining columns\n",
    "std_dev = data_filtered_for_sd.std()\n",
    "\n",
    "# Set a threshold to filter out high-variability columns (optional: you can adjust the threshold)\n",
    "threshold = std_dev.mean() + 1 * std_dev.std()  # Keep columns with SD below (mean + 1*SD)\n",
    "\n",
    "# Get the filtered columns based on the threshold\n",
    "filtered_columns = std_dev[std_dev < threshold].index\n",
    "\n",
    "# Create a new dataset with only the selected columns (filtered columns + excluded columns)\n",
    "data_filtered = data_cleaned[exclude_columns + filtered_columns.tolist() ]\n",
    "\n",
    "# Display the number of features before and after filtering\n",
    "print(f\"Original number of features: {data_cleaned.shape[1]}\")\n",
    "print(f\"Number of features after filtering: {data_filtered.shape[1]}\")\n",
    "\n",
    "\n",
    "# Show the filtered columns\n",
    "print(\"\\nColumns with smaller variability (excluding excluded ones):\")\n",
    "print(filtered_columns)"
   ]
  },
  {
   "cell_type": "code",
   "execution_count": 30,
   "id": "3fe90001",
   "metadata": {},
   "outputs": [
    {
     "data": {
      "text/html": [
       "<div>\n",
       "<style scoped>\n",
       "    .dataframe tbody tr th:only-of-type {\n",
       "        vertical-align: middle;\n",
       "    }\n",
       "\n",
       "    .dataframe tbody tr th {\n",
       "        vertical-align: top;\n",
       "    }\n",
       "\n",
       "    .dataframe thead th {\n",
       "        text-align: right;\n",
       "    }\n",
       "</style>\n",
       "<table border=\"1\" class=\"dataframe\">\n",
       "  <thead>\n",
       "    <tr style=\"text-align: right;\">\n",
       "      <th></th>\n",
       "      <th>M_UBE2Q2P2</th>\n",
       "      <th>M_LOC155060</th>\n",
       "      <th>M_GTPBP6</th>\n",
       "      <th>M_EFCAB12</th>\n",
       "      <th>M_A1BG</th>\n",
       "      <th>M_A1CF</th>\n",
       "      <th>M_RBFOX1</th>\n",
       "      <th>M_GGACT</th>\n",
       "      <th>M_A2M</th>\n",
       "      <th>M_A2ML1</th>\n",
       "      <th>...</th>\n",
       "      <th>hsa-mir-1321</th>\n",
       "      <th>hsa-mir-361</th>\n",
       "      <th>hsa-mir-548m</th>\n",
       "      <th>hsa-mir-652</th>\n",
       "      <th>hsa-mir-220a</th>\n",
       "      <th>hsa-mir-513c</th>\n",
       "      <th>hsa-mir-513b</th>\n",
       "      <th>hsa-mir-513a-1</th>\n",
       "      <th>hsa-mir-513a-2</th>\n",
       "      <th>hsa-mir-224</th>\n",
       "    </tr>\n",
       "  </thead>\n",
       "  <tbody>\n",
       "    <tr>\n",
       "      <th>0</th>\n",
       "      <td>-0.0361</td>\n",
       "      <td>0.3014</td>\n",
       "      <td>-0.2867</td>\n",
       "      <td>0.9115</td>\n",
       "      <td>0.2252</td>\n",
       "      <td>-0.1838</td>\n",
       "      <td>0.3830</td>\n",
       "      <td>-0.5284</td>\n",
       "      <td>-0.7255</td>\n",
       "      <td>0.1866</td>\n",
       "      <td>...</td>\n",
       "      <td>0.0</td>\n",
       "      <td>0.0</td>\n",
       "      <td>0.0</td>\n",
       "      <td>0.0</td>\n",
       "      <td>0.0</td>\n",
       "      <td>0.0</td>\n",
       "      <td>0.0</td>\n",
       "      <td>0.0</td>\n",
       "      <td>0.0</td>\n",
       "      <td>0.0</td>\n",
       "    </tr>\n",
       "    <tr>\n",
       "      <th>1</th>\n",
       "      <td>-0.3004</td>\n",
       "      <td>0.6841</td>\n",
       "      <td>0.6619</td>\n",
       "      <td>1.7160</td>\n",
       "      <td>-0.6237</td>\n",
       "      <td>-0.1838</td>\n",
       "      <td>0.1567</td>\n",
       "      <td>-0.0413</td>\n",
       "      <td>0.4708</td>\n",
       "      <td>-0.4744</td>\n",
       "      <td>...</td>\n",
       "      <td>0.0</td>\n",
       "      <td>0.0</td>\n",
       "      <td>0.0</td>\n",
       "      <td>0.0</td>\n",
       "      <td>0.0</td>\n",
       "      <td>0.0</td>\n",
       "      <td>0.0</td>\n",
       "      <td>0.0</td>\n",
       "      <td>0.0</td>\n",
       "      <td>0.0</td>\n",
       "    </tr>\n",
       "    <tr>\n",
       "      <th>2</th>\n",
       "      <td>3.1758</td>\n",
       "      <td>2.8191</td>\n",
       "      <td>0.2520</td>\n",
       "      <td>-0.6433</td>\n",
       "      <td>-0.6380</td>\n",
       "      <td>-0.1633</td>\n",
       "      <td>-0.3436</td>\n",
       "      <td>-0.1908</td>\n",
       "      <td>-0.7193</td>\n",
       "      <td>-0.4985</td>\n",
       "      <td>...</td>\n",
       "      <td>-1.0</td>\n",
       "      <td>-1.0</td>\n",
       "      <td>-1.0</td>\n",
       "      <td>-1.0</td>\n",
       "      <td>-1.0</td>\n",
       "      <td>-1.0</td>\n",
       "      <td>-1.0</td>\n",
       "      <td>-1.0</td>\n",
       "      <td>-1.0</td>\n",
       "      <td>-1.0</td>\n",
       "    </tr>\n",
       "    <tr>\n",
       "      <th>3</th>\n",
       "      <td>-0.1102</td>\n",
       "      <td>-0.1719</td>\n",
       "      <td>-0.2612</td>\n",
       "      <td>0.2185</td>\n",
       "      <td>-0.6294</td>\n",
       "      <td>-0.1838</td>\n",
       "      <td>-0.2837</td>\n",
       "      <td>0.0488</td>\n",
       "      <td>-0.4417</td>\n",
       "      <td>-0.5010</td>\n",
       "      <td>...</td>\n",
       "      <td>0.0</td>\n",
       "      <td>0.0</td>\n",
       "      <td>0.0</td>\n",
       "      <td>0.0</td>\n",
       "      <td>0.0</td>\n",
       "      <td>0.0</td>\n",
       "      <td>0.0</td>\n",
       "      <td>0.0</td>\n",
       "      <td>0.0</td>\n",
       "      <td>0.0</td>\n",
       "    </tr>\n",
       "    <tr>\n",
       "      <th>4</th>\n",
       "      <td>-0.7052</td>\n",
       "      <td>0.3580</td>\n",
       "      <td>0.9095</td>\n",
       "      <td>-0.1748</td>\n",
       "      <td>-0.1893</td>\n",
       "      <td>-0.1838</td>\n",
       "      <td>-0.3850</td>\n",
       "      <td>1.3400</td>\n",
       "      <td>-0.4493</td>\n",
       "      <td>-0.4765</td>\n",
       "      <td>...</td>\n",
       "      <td>0.0</td>\n",
       "      <td>0.0</td>\n",
       "      <td>0.0</td>\n",
       "      <td>0.0</td>\n",
       "      <td>0.0</td>\n",
       "      <td>0.0</td>\n",
       "      <td>0.0</td>\n",
       "      <td>0.0</td>\n",
       "      <td>0.0</td>\n",
       "      <td>0.0</td>\n",
       "    </tr>\n",
       "    <tr>\n",
       "      <th>...</th>\n",
       "      <td>...</td>\n",
       "      <td>...</td>\n",
       "      <td>...</td>\n",
       "      <td>...</td>\n",
       "      <td>...</td>\n",
       "      <td>...</td>\n",
       "      <td>...</td>\n",
       "      <td>...</td>\n",
       "      <td>...</td>\n",
       "      <td>...</td>\n",
       "      <td>...</td>\n",
       "      <td>...</td>\n",
       "      <td>...</td>\n",
       "      <td>...</td>\n",
       "      <td>...</td>\n",
       "      <td>...</td>\n",
       "      <td>...</td>\n",
       "      <td>...</td>\n",
       "      <td>...</td>\n",
       "      <td>...</td>\n",
       "      <td>...</td>\n",
       "    </tr>\n",
       "    <tr>\n",
       "      <th>484</th>\n",
       "      <td>0.6768</td>\n",
       "      <td>10.6747</td>\n",
       "      <td>-0.9893</td>\n",
       "      <td>0.0690</td>\n",
       "      <td>-0.3671</td>\n",
       "      <td>-0.1838</td>\n",
       "      <td>-0.3078</td>\n",
       "      <td>-1.8237</td>\n",
       "      <td>-0.4308</td>\n",
       "      <td>0.4972</td>\n",
       "      <td>...</td>\n",
       "      <td>0.0</td>\n",
       "      <td>0.0</td>\n",
       "      <td>0.0</td>\n",
       "      <td>0.0</td>\n",
       "      <td>0.0</td>\n",
       "      <td>-1.0</td>\n",
       "      <td>-1.0</td>\n",
       "      <td>-1.0</td>\n",
       "      <td>-1.0</td>\n",
       "      <td>0.0</td>\n",
       "    </tr>\n",
       "    <tr>\n",
       "      <th>485</th>\n",
       "      <td>-0.2252</td>\n",
       "      <td>-0.0288</td>\n",
       "      <td>-0.1738</td>\n",
       "      <td>-1.3305</td>\n",
       "      <td>0.1966</td>\n",
       "      <td>-0.1838</td>\n",
       "      <td>0.0035</td>\n",
       "      <td>-0.6731</td>\n",
       "      <td>0.7859</td>\n",
       "      <td>0.5392</td>\n",
       "      <td>...</td>\n",
       "      <td>0.0</td>\n",
       "      <td>0.0</td>\n",
       "      <td>0.0</td>\n",
       "      <td>0.0</td>\n",
       "      <td>0.0</td>\n",
       "      <td>0.0</td>\n",
       "      <td>0.0</td>\n",
       "      <td>0.0</td>\n",
       "      <td>0.0</td>\n",
       "      <td>0.0</td>\n",
       "    </tr>\n",
       "    <tr>\n",
       "      <th>486</th>\n",
       "      <td>-0.8350</td>\n",
       "      <td>-0.5767</td>\n",
       "      <td>0.5719</td>\n",
       "      <td>-1.2691</td>\n",
       "      <td>-0.6668</td>\n",
       "      <td>-0.1838</td>\n",
       "      <td>-0.4006</td>\n",
       "      <td>-0.5881</td>\n",
       "      <td>0.0745</td>\n",
       "      <td>-0.2450</td>\n",
       "      <td>...</td>\n",
       "      <td>0.0</td>\n",
       "      <td>0.0</td>\n",
       "      <td>0.0</td>\n",
       "      <td>0.0</td>\n",
       "      <td>0.0</td>\n",
       "      <td>0.0</td>\n",
       "      <td>0.0</td>\n",
       "      <td>0.0</td>\n",
       "      <td>0.0</td>\n",
       "      <td>0.0</td>\n",
       "    </tr>\n",
       "    <tr>\n",
       "      <th>487</th>\n",
       "      <td>0.4274</td>\n",
       "      <td>-0.0456</td>\n",
       "      <td>0.0093</td>\n",
       "      <td>-0.0881</td>\n",
       "      <td>-0.3998</td>\n",
       "      <td>-0.1838</td>\n",
       "      <td>-0.4006</td>\n",
       "      <td>2.6657</td>\n",
       "      <td>-0.7081</td>\n",
       "      <td>-0.0225</td>\n",
       "      <td>...</td>\n",
       "      <td>-1.0</td>\n",
       "      <td>-1.0</td>\n",
       "      <td>-1.0</td>\n",
       "      <td>-1.0</td>\n",
       "      <td>-1.0</td>\n",
       "      <td>-1.0</td>\n",
       "      <td>-1.0</td>\n",
       "      <td>-1.0</td>\n",
       "      <td>-1.0</td>\n",
       "      <td>-1.0</td>\n",
       "    </tr>\n",
       "    <tr>\n",
       "      <th>488</th>\n",
       "      <td>-0.8230</td>\n",
       "      <td>-0.8958</td>\n",
       "      <td>0.2423</td>\n",
       "      <td>-0.3481</td>\n",
       "      <td>-0.0813</td>\n",
       "      <td>4.7908</td>\n",
       "      <td>0.0428</td>\n",
       "      <td>-0.8089</td>\n",
       "      <td>0.0321</td>\n",
       "      <td>0.4160</td>\n",
       "      <td>...</td>\n",
       "      <td>0.0</td>\n",
       "      <td>0.0</td>\n",
       "      <td>0.0</td>\n",
       "      <td>0.0</td>\n",
       "      <td>0.0</td>\n",
       "      <td>0.0</td>\n",
       "      <td>0.0</td>\n",
       "      <td>0.0</td>\n",
       "      <td>0.0</td>\n",
       "      <td>0.0</td>\n",
       "    </tr>\n",
       "  </tbody>\n",
       "</table>\n",
       "<p>489 rows × 43957 columns</p>\n",
       "</div>"
      ],
      "text/plain": [
       "     M_UBE2Q2P2  M_LOC155060  M_GTPBP6  M_EFCAB12  M_A1BG  M_A1CF  M_RBFOX1  \\\n",
       "0       -0.0361       0.3014   -0.2867     0.9115  0.2252 -0.1838    0.3830   \n",
       "1       -0.3004       0.6841    0.6619     1.7160 -0.6237 -0.1838    0.1567   \n",
       "2        3.1758       2.8191    0.2520    -0.6433 -0.6380 -0.1633   -0.3436   \n",
       "3       -0.1102      -0.1719   -0.2612     0.2185 -0.6294 -0.1838   -0.2837   \n",
       "4       -0.7052       0.3580    0.9095    -0.1748 -0.1893 -0.1838   -0.3850   \n",
       "..          ...          ...       ...        ...     ...     ...       ...   \n",
       "484      0.6768      10.6747   -0.9893     0.0690 -0.3671 -0.1838   -0.3078   \n",
       "485     -0.2252      -0.0288   -0.1738    -1.3305  0.1966 -0.1838    0.0035   \n",
       "486     -0.8350      -0.5767    0.5719    -1.2691 -0.6668 -0.1838   -0.4006   \n",
       "487      0.4274      -0.0456    0.0093    -0.0881 -0.3998 -0.1838   -0.4006   \n",
       "488     -0.8230      -0.8958    0.2423    -0.3481 -0.0813  4.7908    0.0428   \n",
       "\n",
       "     M_GGACT   M_A2M  M_A2ML1  ...  hsa-mir-1321  hsa-mir-361  hsa-mir-548m  \\\n",
       "0    -0.5284 -0.7255   0.1866  ...           0.0          0.0           0.0   \n",
       "1    -0.0413  0.4708  -0.4744  ...           0.0          0.0           0.0   \n",
       "2    -0.1908 -0.7193  -0.4985  ...          -1.0         -1.0          -1.0   \n",
       "3     0.0488 -0.4417  -0.5010  ...           0.0          0.0           0.0   \n",
       "4     1.3400 -0.4493  -0.4765  ...           0.0          0.0           0.0   \n",
       "..       ...     ...      ...  ...           ...          ...           ...   \n",
       "484  -1.8237 -0.4308   0.4972  ...           0.0          0.0           0.0   \n",
       "485  -0.6731  0.7859   0.5392  ...           0.0          0.0           0.0   \n",
       "486  -0.5881  0.0745  -0.2450  ...           0.0          0.0           0.0   \n",
       "487   2.6657 -0.7081  -0.0225  ...          -1.0         -1.0          -1.0   \n",
       "488  -0.8089  0.0321   0.4160  ...           0.0          0.0           0.0   \n",
       "\n",
       "     hsa-mir-652  hsa-mir-220a  hsa-mir-513c  hsa-mir-513b  hsa-mir-513a-1  \\\n",
       "0            0.0           0.0           0.0           0.0             0.0   \n",
       "1            0.0           0.0           0.0           0.0             0.0   \n",
       "2           -1.0          -1.0          -1.0          -1.0            -1.0   \n",
       "3            0.0           0.0           0.0           0.0             0.0   \n",
       "4            0.0           0.0           0.0           0.0             0.0   \n",
       "..           ...           ...           ...           ...             ...   \n",
       "484          0.0           0.0          -1.0          -1.0            -1.0   \n",
       "485          0.0           0.0           0.0           0.0             0.0   \n",
       "486          0.0           0.0           0.0           0.0             0.0   \n",
       "487         -1.0          -1.0          -1.0          -1.0            -1.0   \n",
       "488          0.0           0.0           0.0           0.0             0.0   \n",
       "\n",
       "     hsa-mir-513a-2  hsa-mir-224  \n",
       "0               0.0          0.0  \n",
       "1               0.0          0.0  \n",
       "2              -1.0         -1.0  \n",
       "3               0.0          0.0  \n",
       "4               0.0          0.0  \n",
       "..              ...          ...  \n",
       "484            -1.0          0.0  \n",
       "485             0.0          0.0  \n",
       "486             0.0          0.0  \n",
       "487            -1.0         -1.0  \n",
       "488             0.0          0.0  \n",
       "\n",
       "[489 rows x 43957 columns]"
      ]
     },
     "execution_count": 30,
     "metadata": {},
     "output_type": "execute_result"
    }
   ],
   "source": [
    "data_filtered[filtered_columns]"
   ]
  },
  {
   "cell_type": "code",
   "execution_count": 31,
   "id": "b37f77b1",
   "metadata": {},
   "outputs": [
    {
     "name": "stderr",
     "output_type": "stream",
     "text": [
      "<ipython-input-31-fe714ff2cc52>:7: SettingWithCopyWarning: \n",
      "A value is trying to be set on a copy of a slice from a DataFrame.\n",
      "Try using .loc[row_indexer,col_indexer] = value instead\n",
      "\n",
      "See the caveats in the documentation: https://pandas.pydata.org/pandas-docs/stable/user_guide/indexing.html#returning-a-view-versus-a-copy\n",
      "  data_filtered[filtered_columns] = scaler.fit_transform(data_filtered[filtered_columns])\n"
     ]
    },
    {
     "name": "stdout",
     "output_type": "stream",
     "text": [
      "   M_UBE2Q2P2  M_LOC155060  M_GTPBP6  M_EFCAB12    M_A1BG    M_A1CF  M_RBFOX1  \\\n",
      "0   -0.034865     0.170136 -0.295397   0.956829  0.208765 -0.206023  0.388494   \n",
      "1   -0.299827     0.499787  0.664889   1.773452 -0.622515 -0.206023  0.157573   \n",
      "2    3.185082     2.338838  0.249939  -0.621400 -0.636518 -0.185429 -0.352941   \n",
      "3   -0.109151    -0.237556 -0.269583   0.253386 -0.628096 -0.206023 -0.291818   \n",
      "4   -0.705642     0.218890  0.915539  -0.145840 -0.197131 -0.206023 -0.395186   \n",
      "\n",
      "    M_GGACT     M_A2M   M_A2ML1  ...  hsa-mir-1321  hsa-mir-361  hsa-mir-548m  \\\n",
      "0 -0.371170 -0.740960  0.118071  ...      0.160296     0.162313      0.116641   \n",
      "1  0.098936  0.514498 -0.390310  ...      0.160296     0.162313      0.116641   \n",
      "2 -0.045348 -0.734453 -0.408846  ...     -2.639159    -2.574618     -2.885337   \n",
      "3  0.185892 -0.443126 -0.410769  ...      0.160296     0.162313      0.116641   \n",
      "4  1.432044 -0.451102 -0.391925  ...      0.160296     0.162313      0.116641   \n",
      "\n",
      "   hsa-mir-652  hsa-mir-220a  hsa-mir-513c  hsa-mir-513b  hsa-mir-513a-1  \\\n",
      "0     0.162110      0.105009      0.146266      0.146266        0.146266   \n",
      "1     0.162110      0.105009      0.146266      0.146266        0.146266   \n",
      "2    -3.140888     -3.104327     -2.604661     -2.604661       -2.604661   \n",
      "3     0.162110      0.105009      0.146266      0.146266        0.146266   \n",
      "4     0.162110      0.105009      0.146266      0.146266        0.146266   \n",
      "\n",
      "   hsa-mir-513a-2  hsa-mir-224  \n",
      "0        0.146266      0.06054  \n",
      "1        0.146266      0.06054  \n",
      "2       -2.604661     -2.89989  \n",
      "3        0.146266      0.06054  \n",
      "4        0.146266      0.06054  \n",
      "\n",
      "[5 rows x 43957 columns]\n"
     ]
    }
   ],
   "source": [
    "from sklearn.preprocessing import StandardScaler\n",
    "\n",
    "# Initialize the scaler\n",
    "scaler = StandardScaler()\n",
    "\n",
    "# Apply the scaler to the selected filtered columns\n",
    "data_filtered[filtered_columns] = scaler.fit_transform(data_filtered[filtered_columns])\n",
    "\n",
    "# Display the first few rows of the normalized data\n",
    "print(data_filtered[filtered_columns].head())\n"
   ]
  },
  {
   "cell_type": "code",
   "execution_count": 32,
   "id": "77534c88",
   "metadata": {},
   "outputs": [
    {
     "data": {
      "text/plain": [
       "Index(['M_UBE2Q2P2', 'M_LOC155060', 'M_GTPBP6', 'M_EFCAB12', 'M_A1BG',\n",
       "       'M_A1CF', 'M_RBFOX1', 'M_GGACT', 'M_A2M', 'M_A2ML1',\n",
       "       ...\n",
       "       'hsa-mir-1321', 'hsa-mir-361', 'hsa-mir-548m', 'hsa-mir-652',\n",
       "       'hsa-mir-220a', 'hsa-mir-513c', 'hsa-mir-513b', 'hsa-mir-513a-1',\n",
       "       'hsa-mir-513a-2', 'hsa-mir-224'],\n",
       "      dtype='object', length=43957)"
      ]
     },
     "execution_count": 32,
     "metadata": {},
     "output_type": "execute_result"
    }
   ],
   "source": [
    "filtered_columns"
   ]
  },
  {
   "cell_type": "code",
   "execution_count": 33,
   "id": "a24d51fe",
   "metadata": {},
   "outputs": [
    {
     "data": {
      "text/plain": [
       "Index(['PATIENT_ID', 'PATH_N_STAGE', 'NEW_TUMOR_EVENT_AFTER_INITIAL_TREATMENT',\n",
       "       'PATH_T_STAGE', 'PRIOR_DX', 'RADIATION_THERAPY', 'AGE', 'M_UBE2Q2P2',\n",
       "       'M_LOC155060', 'M_GTPBP6',\n",
       "       ...\n",
       "       'hsa-mir-1321', 'hsa-mir-361', 'hsa-mir-548m', 'hsa-mir-652',\n",
       "       'hsa-mir-220a', 'hsa-mir-513c', 'hsa-mir-513b', 'hsa-mir-513a-1',\n",
       "       'hsa-mir-513a-2', 'hsa-mir-224'],\n",
       "      dtype='object', length=43964)"
      ]
     },
     "execution_count": 33,
     "metadata": {},
     "output_type": "execute_result"
    }
   ],
   "source": [
    "data_filtered.columns"
   ]
  },
  {
   "cell_type": "markdown",
   "id": "0a9bd970",
   "metadata": {},
   "source": [
    "# Progression"
   ]
  },
  {
   "cell_type": "code",
   "execution_count": 35,
   "id": "d717bf5b",
   "metadata": {},
   "outputs": [
    {
     "name": "stdout",
     "output_type": "stream",
     "text": [
      "Selected features by Lasso: Index(['AGE', 'M_AJAP1', 'M_ALPI', 'M_BARX1', 'M_BTBD18', 'M_TMEM52B',\n",
      "       'M_DHRS4-AS1', 'M_PRR35', 'M_SPATA46', 'M_C1ORF115', 'M_SPANXC.4',\n",
      "       'M_C20ORF203', 'M_C9ORF163', 'M_CARS', 'M_CC2D2A', 'M_CCL8', 'M_CHRNA6',\n",
      "       'M_CSTL1', 'M_DDX5', 'M_DNAH8', 'M_FAF2', 'M_FAM19A1', 'M_FAM25A',\n",
      "       'M_FAM76A', 'M_FAR1', 'M_FLI1', 'M_FMOD', 'M_FSCB', 'M_GAL3ST3',\n",
      "       'M_HERC5', 'M_HIST1H3A', 'M_HIST1H3J', 'M_ARHGAP45', 'M_IL1R1',\n",
      "       'M_KCNJ13', 'M_KLC3', 'M_ASH1L-AS1', 'M_LSM11', 'M_MAP2K6', 'M_MMD2',\n",
      "       'M_NRP1', 'M_OMP', 'M_OR1J1', 'M_PCSK7', 'M_HELZ2', 'M_RNF213',\n",
      "       'M_SAMD9', 'M_SPOP', 'M_SRI', 'M_UNC93A', 'M_ZNF22', 'SCARNA3',\n",
      "       'HNRNPLL', 'EGFEM1P', 'LOC101927069', 'PRKACG', 'FXN', 'KLF4',\n",
      "       'SLC22A24', 'SLC22A25', 'MIR3680-1', 'MIR4300', 'B4GALNT3', 'AWAT2',\n",
      "       'MIR676'],\n",
      "      dtype='object')\n"
     ]
    }
   ],
   "source": [
    "from sklearn.linear_model import LassoCV\n",
    "from sklearn.model_selection import train_test_split\n",
    "\n",
    "X = data_filtered.drop(columns= ['PATIENT_ID', 'PATH_N_STAGE'])  # All features\n",
    "y = data_filtered['PATH_N_STAGE']  # Replace with the appropriate target variable\n",
    "\n",
    "# Split data into training and testing sets\n",
    "X_train, X_test, y_train, y_test = train_test_split(X, y, test_size=0.2, random_state=42)\n",
    "\n",
    "# Initialize and fit LassoCV\n",
    "lasso = LassoCV(cv=5)  # Lasso with cross-validation\n",
    "lasso.fit(X_train, y_train)\n",
    "\n",
    "# Get the features selected by Lasso (non-zero coefficients)\n",
    "selected_features = X.columns[(lasso.coef_ != 0)]\n",
    "\n",
    "print(f\"Selected features by Lasso: {selected_features}\")\n"
   ]
  },
  {
   "cell_type": "code",
   "execution_count": 36,
   "id": "178054c8",
   "metadata": {},
   "outputs": [],
   "source": [
    "selected_features_for_progression = selected_features"
   ]
  },
  {
   "cell_type": "code",
   "execution_count": 37,
   "id": "80fd057b",
   "metadata": {},
   "outputs": [
    {
     "data": {
      "text/plain": [
       "(65,)"
      ]
     },
     "execution_count": 37,
     "metadata": {},
     "output_type": "execute_result"
    }
   ],
   "source": [
    "len(selected_features_for_progression), \n"
   ]
  },
  {
   "cell_type": "code",
   "execution_count": null,
   "id": "ef2d342a",
   "metadata": {},
   "outputs": [],
   "source": []
  },
  {
   "cell_type": "markdown",
   "id": "7d21839f",
   "metadata": {},
   "source": [
    "# Therapy Response"
   ]
  },
  {
   "cell_type": "code",
   "execution_count": 38,
   "id": "5d82fd3b",
   "metadata": {},
   "outputs": [
    {
     "name": "stdout",
     "output_type": "stream",
     "text": [
      "Selected features by Lasso: Index(['M_ADORA3', 'M_EBPL', 'M_ENSA', 'M_FEZF1', 'M_HYAL4', 'M_KCNK9',\n",
      "       'M_KRTAP5-1', 'M_PP7080', 'M_PLEKHN1', 'M_RELL2', 'M_SRGAP2', 'M_TREM2',\n",
      "       'M_UMOD', 'GATAD2B', 'RP11-463J7.2', 'SRGAP2B', 'SRGAP2C',\n",
      "       'RP13-507P19.2', 'REM2', 'RBM23', 'VPS13C', 'C2CD4A', 'CHTF18', 'GNG13',\n",
      "       'MIR662', 'PPM1F', 'LIF', 'SF3A1'],\n",
      "      dtype='object')\n"
     ]
    }
   ],
   "source": [
    "\n",
    "from sklearn.linear_model import LassoCV\n",
    "from sklearn.model_selection import train_test_split\n",
    "\n",
    "X = data_filtered.drop(columns= ['PATIENT_ID', 'NEW_TUMOR_EVENT_AFTER_INITIAL_TREATMENT'])  # All features\n",
    "y = data_filtered['NEW_TUMOR_EVENT_AFTER_INITIAL_TREATMENT']  \n",
    "\n",
    "# Split data into training and testing sets\n",
    "X_train, X_test, y_train, y_test = train_test_split(X, y, test_size=0.2, random_state=42)\n",
    "\n",
    "# Initialize and fit LassoCV\n",
    "lasso = LassoCV(cv=5)  # Lasso with cross-validation\n",
    "lasso.fit(X_train, y_train)\n",
    "\n",
    "# Get the features selected by Lasso (non-zero coefficients)\n",
    "selected_features = X.columns[(lasso.coef_ != 0)]\n",
    "\n",
    "print(f\"Selected features by Lasso: {selected_features}\")\n",
    "\n"
   ]
  },
  {
   "cell_type": "code",
   "execution_count": 109,
   "id": "d740f48b",
   "metadata": {},
   "outputs": [
    {
     "name": "stdout",
     "output_type": "stream",
     "text": [
      "['M_ADORA3', 'M_EBPL', 'M_ENSA', 'M_FEZF1', 'M_HYAL4', 'M_KCNK9', 'M_KRTAP5-1', 'M_PP7080', 'M_PLEKHN1', 'M_RELL2', 'M_SRGAP2', 'M_TREM2', 'M_UMOD', 'GATAD2B', 'RP11-463J7.2', 'SRGAP2B', 'SRGAP2C', 'RP13-507P19.2', 'REM2', 'RBM23', 'VPS13C', 'C2CD4A', 'CHTF18', 'GNG13', 'MIR662', 'PPM1F', 'LIF', 'SF3A1']\n",
      "['M_ADORA3', 'M_EBPL', 'M_ENSA', 'M_FEZF1', 'M_HYAL4', 'M_KCNK9', 'M_KRTAP5-1', 'M_PP7080', 'M_PLEKHN1', 'M_RELL2', 'M_SRGAP2', 'M_TREM2', 'M_UMOD', 'GATAD2B', 'RP11-463J7.2', 'SRGAP2B', 'SRGAP2C', 'RP13-507P19.2', 'REM2', 'RBM23', 'VPS13C', 'C2CD4A', 'CHTF18', 'GNG13', 'MIR662', 'PPM1F', 'LIF', 'SF3A1', 'PATH_N_STAGE', 'PATH_T_STAGE', 'PRIOR_DX', 'RADIATION_THERAPY', 'AGE']\n"
     ]
    }
   ],
   "source": [
    "selected_features_for_response = selected_features.tolist()\n",
    "\n",
    "print(selected_features_for_response)\n",
    "\n",
    "# Use extend() to add multiple items individually\n",
    "selected_features_for_response.extend(['PATH_N_STAGE', 'PATH_T_STAGE', 'PRIOR_DX', 'RADIATION_THERAPY', 'AGE'])\n",
    "\n",
    "print(selected_features_for_response)"
   ]
  },
  {
   "cell_type": "code",
   "execution_count": 110,
   "id": "e6621928",
   "metadata": {},
   "outputs": [
    {
     "data": {
      "text/plain": [
       "33"
      ]
     },
     "execution_count": 110,
     "metadata": {},
     "output_type": "execute_result"
    }
   ],
   "source": [
    "len(selected_features_for_response)"
   ]
  },
  {
   "cell_type": "markdown",
   "id": "4345ca49",
   "metadata": {},
   "source": [
    "# Visualizations of selected features"
   ]
  },
  {
   "cell_type": "code",
   "execution_count": 49,
   "id": "595b59e5",
   "metadata": {},
   "outputs": [
    {
     "data": {
      "image/png": "[encoded data removed]",
      "text/plain": [
       "<Figure size 720x432 with 1 Axes>"
      ]
     },
     "metadata": {
      "needs_background": "light"
     },
     "output_type": "display_data"
    }
   ],
   "source": [
    "import matplotlib.pyplot as plt\n",
    "import seaborn as sns\n",
    "\n",
    "# Plot histogram for age\n",
    "plt.figure(figsize=(10, 6))\n",
    "sns.histplot(data_filtered['AGE'], bins=20, kde=True, color='blue')\n",
    "plt.title('Distribution of Age')\n",
    "plt.xlabel('Age')\n",
    "plt.ylabel('Frequency')\n",
    "plt.show()\n"
   ]
  },
  {
   "cell_type": "code",
   "execution_count": 50,
   "id": "c2f28a10",
   "metadata": {},
   "outputs": [
    {
     "data": {
      "image/png": "[encoded data removed]",
      "text/plain": [
       "<Figure size 576x432 with 1 Axes>"
      ]
     },
     "metadata": {
      "needs_background": "light"
     },
     "output_type": "display_data"
    },
    {
     "data": {
      "image/png": "[encoded data removed]",
      "text/plain": [
       "<Figure size 576x432 with 1 Axes>"
      ]
     },
     "metadata": {
      "needs_background": "light"
     },
     "output_type": "display_data"
    }
   ],
   "source": [
    "# Bar plot for radiation therapy (categorical variable)\n",
    "plt.figure(figsize=(8, 6))\n",
    "sns.countplot(x='RADIATION_THERAPY', data=data_filtered, palette='viridis')\n",
    "plt.title('Distribution of Radiation Therapy')\n",
    "plt.xlabel('Radiation Therapy Levels')\n",
    "plt.ylabel('Count')\n",
    "plt.show()\n",
    "\n",
    "# Bar plot for tumor stage (PATH_T_STAGE)\n",
    "plt.figure(figsize=(8, 6))\n",
    "sns.countplot(x='PATH_T_STAGE', data=data_filtered, palette='viridis')\n",
    "plt.title('Distribution of Tumor Stage (PATH_T_STAGE)')\n",
    "plt.xlabel('Tumor Stage')\n",
    "plt.ylabel('Count')\n",
    "plt.show()\n"
   ]
  },
  {
   "cell_type": "markdown",
   "id": "e1252d3b",
   "metadata": {},
   "source": [
    "## Statistical tests"
   ]
  },
  {
   "cell_type": "code",
   "execution_count": 46,
   "id": "3ad838fa",
   "metadata": {},
   "outputs": [
    {
     "name": "stdout",
     "output_type": "stream",
     "text": [
      "T-statistic: 0.011676826975622653\n",
      "P-value: 0.9906882335794339\n"
     ]
    }
   ],
   "source": [
    "from scipy.stats import ttest_ind\n",
    "\n",
    "# Split the data into two groups: no recurrence and recurrence\n",
    "group1 = data_filtered[data_filtered['NEW_TUMOR_EVENT_AFTER_INITIAL_TREATMENT'] == 1]['AGE']  # No recurrence\n",
    "group2 = data_filtered[data_filtered['NEW_TUMOR_EVENT_AFTER_INITIAL_TREATMENT'].isin([2, 3])]['AGE']  # Recurrence\n",
    "\n",
    "# Perform t-test\n",
    "t_stat, p_value = ttest_ind(group1, group2)\n",
    "\n",
    "# Output results\n",
    "print(f\"T-statistic: {t_stat}\")\n",
    "print(f\"P-value: {p_value}\")\n"
   ]
  },
  {
   "cell_type": "code",
   "execution_count": 47,
   "id": "a5cbb9bf",
   "metadata": {},
   "outputs": [
    {
     "data": {
      "image/png": "[encoded data removed]",
      "text/plain": [
       "<Figure size 720x432 with 1 Axes>"
      ]
     },
     "metadata": {
      "needs_background": "light"
     },
     "output_type": "display_data"
    }
   ],
   "source": [
    "# Boxplot for age by tumor stage (PATH_T_STAGE)\n",
    "plt.figure(figsize=(10, 6))\n",
    "sns.boxplot(x='PATH_T_STAGE', y='AGE', data=data_filtered)\n",
    "plt.title('Age Distribution by Tumor Stage')\n",
    "plt.xlabel('Tumor Stage')\n",
    "plt.ylabel('Age')\n",
    "plt.show()\n"
   ]
  },
  {
   "cell_type": "code",
   "execution_count": 48,
   "id": "c4c9d0d3",
   "metadata": {},
   "outputs": [
    {
     "data": {
      "image/png": "[encoded data removed]",
      "text/plain": [
       "<Figure size 720x432 with 1 Axes>"
      ]
     },
     "metadata": {
      "needs_background": "light"
     },
     "output_type": "display_data"
    }
   ],
   "source": [
    "# Violin plot for age by radiation therapy\n",
    "plt.figure(figsize=(10, 6))\n",
    "sns.violinplot(x='RADIATION_THERAPY', y='AGE', data=data_filtered, palette='muted')\n",
    "plt.title('Age Distribution by Radiation Therapy')\n",
    "plt.xlabel('Radiation Therapy (1: No, 2: Yes)')\n",
    "plt.ylabel('Age')\n",
    "plt.show()\n"
   ]
  },
  {
   "cell_type": "markdown",
   "id": "7235a369",
   "metadata": {},
   "source": [
    "## Clustering for Patient Stratification"
   ]
  },
  {
   "cell_type": "code",
   "execution_count": 85,
   "id": "ecc90451",
   "metadata": {},
   "outputs": [
    {
     "name": "stderr",
     "output_type": "stream",
     "text": [
      "<ipython-input-85-5de9617e33ff>:15: SettingWithCopyWarning: \n",
      "A value is trying to be set on a copy of a slice from a DataFrame.\n",
      "Try using .loc[row_indexer,col_indexer] = value instead\n",
      "\n",
      "See the caveats in the documentation: https://pandas.pydata.org/pandas-docs/stable/user_guide/indexing.html#returning-a-view-versus-a-copy\n",
      "  data_filtered['KMeans_Cluster'] = kmeans.fit_predict(X_scaled)\n"
     ]
    },
    {
     "data": {
      "image/png": "[encoded data removed]",
      "text/plain": [
       "<Figure size 720x432 with 1 Axes>"
      ]
     },
     "metadata": {
      "needs_background": "light"
     },
     "output_type": "display_data"
    },
    {
     "data": {
      "image/png": "[encoded data removed]",
      "text/plain": [
       "<Figure size 720x432 with 1 Axes>"
      ]
     },
     "metadata": {
      "needs_background": "light"
     },
     "output_type": "display_data"
    },
    {
     "name": "stderr",
     "output_type": "stream",
     "text": [
      "<ipython-input-85-5de9617e33ff>:37: SettingWithCopyWarning: \n",
      "A value is trying to be set on a copy of a slice from a DataFrame.\n",
      "Try using .loc[row_indexer,col_indexer] = value instead\n",
      "\n",
      "See the caveats in the documentation: https://pandas.pydata.org/pandas-docs/stable/user_guide/indexing.html#returning-a-view-versus-a-copy\n",
      "  data_filtered['Hierarchical_Cluster'] = hierarchical_clusters\n"
     ]
    },
    {
     "data": {
      "image/png": "[encoded data removed]",
      "text/plain": [
       "<Figure size 720x432 with 1 Axes>"
      ]
     },
     "metadata": {
      "needs_background": "light"
     },
     "output_type": "display_data"
    }
   ],
   "source": [
    "from sklearn.cluster import KMeans\n",
    "from sklearn.preprocessing import StandardScaler\n",
    "import scipy.cluster.hierarchy as sch\n",
    "import seaborn as sns\n",
    "\n",
    "# First, scale the data for clustering (because K-means is sensitive to feature scales)\n",
    "scaler = StandardScaler()\n",
    "X_cluster = data_filtered[selected_features_for_progression]  # Use the selected features\n",
    "\n",
    "# Scale the features\n",
    "X_scaled = scaler.fit_transform(X_cluster)\n",
    "\n",
    "# 1. K-Means Clustering\n",
    "kmeans = KMeans(n_clusters=3, random_state=42)  # You can adjust n_clusters based on domain knowledge or use the elbow method\n",
    "data_filtered['KMeans_Cluster'] = kmeans.fit_predict(X_scaled)\n",
    "\n",
    "# Visualizing the clusters\n",
    "plt.figure(figsize=(10, 6))\n",
    "sns.scatterplot(x=X_scaled[:, 0], y=X_scaled[:, 1], hue=data_filtered['KMeans_Cluster'], palette=\"Set1\")\n",
    "plt.title('K-Means Clustering')\n",
    "plt.xlabel('Feature 1')\n",
    "plt.ylabel('Feature 2')\n",
    "plt.legend(title='Cluster')\n",
    "plt.show()\n",
    "\n",
    "# 2. Hierarchical Clustering\n",
    "plt.figure(figsize=(10, 6))\n",
    "dendrogram = sch.dendrogram(sch.linkage(X_scaled, method='ward'))\n",
    "plt.title('Hierarchical Clustering Dendrogram')\n",
    "plt.xlabel('Sample Index')\n",
    "plt.ylabel('Distance')\n",
    "plt.show()\n",
    "\n",
    "# Cut the tree at a specific level to form clusters (You can adjust the threshold)\n",
    "from scipy.cluster.hierarchy import fcluster\n",
    "hierarchical_clusters = fcluster(sch.linkage(X_scaled, method='ward'), t=3, criterion='maxclust')\n",
    "data_filtered['Hierarchical_Cluster'] = hierarchical_clusters\n",
    "\n",
    "# Visualizing hierarchical clusters\n",
    "plt.figure(figsize=(10, 6))\n",
    "sns.scatterplot(x=X_scaled[:, 0], y=X_scaled[:, 1], hue=data_filtered['Hierarchical_Cluster'], palette=\"Set2\")\n",
    "plt.title('Hierarchical Clustering')\n",
    "plt.xlabel('Feature 1')\n",
    "plt.ylabel('Feature 2')\n",
    "plt.legend(title='Cluster')\n",
    "plt.show()\n"
   ]
  },
  {
   "cell_type": "markdown",
   "id": "15ab0fbf",
   "metadata": {},
   "source": [
    "## Classification of Disease Progression and Therapy Response"
   ]
  },
  {
   "cell_type": "code",
   "execution_count": 111,
   "id": "f5e839e7",
   "metadata": {},
   "outputs": [
    {
     "name": "stdout",
     "output_type": "stream",
     "text": [
      "Logistic Regression Classification Report:\n",
      "              precision    recall  f1-score   support\n",
      "\n",
      "         1.0       0.47      0.32      0.38        22\n",
      "         2.0       0.70      0.77      0.73        66\n",
      "         3.0       0.10      0.10      0.10        10\n",
      "\n",
      "    accuracy                           0.60        98\n",
      "   macro avg       0.42      0.40      0.40        98\n",
      "weighted avg       0.59      0.60      0.59        98\n",
      "\n",
      "SVM Classification Report:\n",
      "              precision    recall  f1-score   support\n",
      "\n",
      "         1.0       0.00      0.00      0.00        22\n",
      "         2.0       0.67      1.00      0.80        66\n",
      "         3.0       0.00      0.00      0.00        10\n",
      "\n",
      "    accuracy                           0.67        98\n",
      "   macro avg       0.22      0.33      0.27        98\n",
      "weighted avg       0.45      0.67      0.54        98\n",
      "\n"
     ]
    },
    {
     "name": "stderr",
     "output_type": "stream",
     "text": [
      "C:\\Users\\Yamlak\\anaconda3\\lib\\site-packages\\sklearn\\metrics\\_classification.py:1318: UndefinedMetricWarning: Precision and F-score are ill-defined and being set to 0.0 in labels with no predicted samples. Use `zero_division` parameter to control this behavior.\n",
      "  _warn_prf(average, modifier, msg_start, len(result))\n",
      "C:\\Users\\Yamlak\\anaconda3\\lib\\site-packages\\sklearn\\metrics\\_classification.py:1318: UndefinedMetricWarning: Precision and F-score are ill-defined and being set to 0.0 in labels with no predicted samples. Use `zero_division` parameter to control this behavior.\n",
      "  _warn_prf(average, modifier, msg_start, len(result))\n",
      "C:\\Users\\Yamlak\\anaconda3\\lib\\site-packages\\sklearn\\metrics\\_classification.py:1318: UndefinedMetricWarning: Precision and F-score are ill-defined and being set to 0.0 in labels with no predicted samples. Use `zero_division` parameter to control this behavior.\n",
      "  _warn_prf(average, modifier, msg_start, len(result))\n"
     ]
    },
    {
     "name": "stdout",
     "output_type": "stream",
     "text": [
      "Neural Network Classification Report:\n",
      "              precision    recall  f1-score   support\n",
      "\n",
      "         1.0       0.46      0.27      0.34        22\n",
      "         2.0       0.71      0.82      0.76        66\n",
      "         3.0       0.33      0.30      0.32        10\n",
      "\n",
      "    accuracy                           0.64        98\n",
      "   macro avg       0.50      0.46      0.47        98\n",
      "weighted avg       0.62      0.64      0.62        98\n",
      "\n",
      "Logistic Regression ROC-AUC: 0.6186619484316852\n",
      "SVM ROC-AUC: 0.5950990164805954\n",
      "Neural Network ROC-AUC: 0.686217437533227\n"
     ]
    }
   ],
   "source": [
    "from sklearn.linear_model import LogisticRegression\n",
    "from sklearn.svm import SVC\n",
    "from sklearn.neural_network import MLPClassifier\n",
    "from sklearn.metrics import classification_report, roc_auc_score\n",
    "from sklearn.model_selection import GridSearchCV\n",
    "\n",
    "# Split the data for classification (using Lasso-selected features)\n",
    "X = data_filtered[selected_features_for_progression]\n",
    "y_progression = data_filtered['PATH_N_STAGE']  # Classification target for disease progression\n",
    "\n",
    "X_train, X_test, y_train, y_test = train_test_split(X, y_progression, test_size=0.2, random_state=42)\n",
    "\n",
    "# Logistic Regression\n",
    "log_reg = LogisticRegression(max_iter=10000)\n",
    "log_reg.fit(X_train, y_train)\n",
    "y_pred_log_reg = log_reg.predict(X_test)\n",
    "print(\"Logistic Regression Classification Report:\")\n",
    "print(classification_report(y_test, y_pred_log_reg))\n",
    "\n",
    "# Support Vector Machine (SVM)\n",
    "svm = SVC(probability=True)\n",
    "svm.fit(X_train, y_train)\n",
    "y_pred_svm = svm.predict(X_test)\n",
    "print(\"SVM Classification Report:\")\n",
    "print(classification_report(y_test, y_pred_svm))\n",
    "\n",
    "# Neural Network (MLPClassifier)\n",
    "mlp = MLPClassifier(max_iter=10000)\n",
    "mlp.fit(X_train, y_train)\n",
    "y_pred_mlp = mlp.predict(X_test)\n",
    "print(\"Neural Network Classification Report:\")\n",
    "print(classification_report(y_test, y_pred_mlp))\n",
    "\n",
    "# Evaluating models using ROC-AUC\n",
    "print(f\"Logistic Regression ROC-AUC: {roc_auc_score(y_test, log_reg.predict_proba(X_test), multi_class='ovr')}\")\n",
    "print(f\"SVM ROC-AUC: {roc_auc_score(y_test, svm.predict_proba(X_test), multi_class='ovr')}\")\n",
    "print(f\"Neural Network ROC-AUC: {roc_auc_score(y_test, mlp.predict_proba(X_test), multi_class='ovr')}\")\n"
   ]
  },
  {
   "cell_type": "code",
   "execution_count": 112,
   "id": "c016e96c",
   "metadata": {},
   "outputs": [
    {
     "name": "stdout",
     "output_type": "stream",
     "text": [
      "Best parameters for Logistic Regression: {'C': 0.1, 'solver': 'saga'}\n",
      "Best parameters for SVM: {'C': 0.1, 'kernel': 'linear'}\n",
      "Best parameters for Neural Network: {'activation': 'tanh', 'hidden_layer_sizes': (50,), 'learning_rate_init': 0.001}\n"
     ]
    }
   ],
   "source": [
    "# Hyperparameter tuning for Logistic Regression\n",
    "param_grid_lr = {\n",
    "    'C': [0.1, 1, 10],\n",
    "    'solver': ['liblinear', 'saga']\n",
    "}\n",
    "\n",
    "grid_search_lr = GridSearchCV(LogisticRegression(max_iter=10000), param_grid_lr, cv=5, scoring='accuracy')\n",
    "grid_search_lr.fit(X_train, y_train)\n",
    "print(\"Best parameters for Logistic Regression:\", grid_search_lr.best_params_)\n",
    "\n",
    "# Hyperparameter tuning for SVM\n",
    "param_grid_svm = {\n",
    "    'C': [0.1, 1, 10],\n",
    "    'kernel': ['linear', 'rbf']\n",
    "}\n",
    "\n",
    "grid_search_svm = GridSearchCV(SVC(probability=True), param_grid_svm, cv=5, scoring='accuracy')\n",
    "grid_search_svm.fit(X_train, y_train)\n",
    "print(\"Best parameters for SVM:\", grid_search_svm.best_params_)\n",
    "\n",
    "# Hyperparameter tuning for Neural Network (MLPClassifier)\n",
    "param_grid_mlp = {\n",
    "    'hidden_layer_sizes': [(50,), (100,), (50, 50)],\n",
    "    'activation': ['relu', 'tanh'],\n",
    "    'learning_rate_init': [0.001, 0.01]\n",
    "}\n",
    "\n",
    "grid_search_mlp = GridSearchCV(MLPClassifier(max_iter=10000), param_grid_mlp, cv=5, scoring='accuracy')\n",
    "grid_search_mlp.fit(X_train, y_train)\n",
    "print(\"Best parameters for Neural Network:\", grid_search_mlp.best_params_)\n"
   ]
  },
  {
   "cell_type": "markdown",
   "id": "55675e29",
   "metadata": {},
   "source": [
    "# RandomForestClassifier for Progression"
   ]
  },
  {
   "cell_type": "code",
   "execution_count": 113,
   "id": "e042a598",
   "metadata": {},
   "outputs": [
    {
     "name": "stdout",
     "output_type": "stream",
     "text": [
      "              precision    recall  f1-score   support\n",
      "\n",
      "         1.0       1.00      0.05      0.09        22\n",
      "         2.0       0.69      1.00      0.81        66\n",
      "         3.0       1.00      0.10      0.18        10\n",
      "\n",
      "    accuracy                           0.69        98\n",
      "   macro avg       0.90      0.38      0.36        98\n",
      "weighted avg       0.79      0.69      0.59        98\n",
      "\n"
     ]
    }
   ],
   "source": [
    "from sklearn.ensemble import RandomForestClassifier\n",
    "from sklearn.model_selection import train_test_split\n",
    "\n",
    "# Split the data for classification (using Lasso-selected features)\n",
    "X = data_filtered[selected_features_for_progression]\n",
    "y_progression = data_filtered['PATH_N_STAGE']  # Classification target for disease progression\n",
    "\n",
    "X_train, X_test, y_train, y_test = train_test_split(X, y_progression, test_size=0.2, random_state=42)\n",
    "\n",
    "model = RandomForestClassifier(class_weight='balanced')\n",
    "model.fit(X_train, y_train)\n",
    "\n",
    "from sklearn.metrics import classification_report\n",
    "\n",
    "y_pred = model.predict(X_test)\n",
    "print(classification_report(y_test, y_pred, zero_division=0))\n"
   ]
  },
  {
   "cell_type": "code",
   "execution_count": 114,
   "id": "15e17fe1",
   "metadata": {},
   "outputs": [
    {
     "name": "stdout",
     "output_type": "stream",
     "text": [
      "              precision    recall  f1-score   support\n",
      "\n",
      "         1.0       0.88      0.32      0.47        22\n",
      "         2.0       0.75      0.94      0.83        66\n",
      "         3.0       0.57      0.40      0.47        10\n",
      "\n",
      "    accuracy                           0.74        98\n",
      "   macro avg       0.73      0.55      0.59        98\n",
      "weighted avg       0.76      0.74      0.71        98\n",
      "\n"
     ]
    }
   ],
   "source": [
    "from imblearn.pipeline import Pipeline\n",
    "from imblearn.over_sampling import SMOTE\n",
    "\n",
    "pipeline = Pipeline([\n",
    "    ('smote', SMOTE(random_state=42)),\n",
    "    ('rf', RandomForestClassifier(random_state=42))\n",
    "])\n",
    "\n",
    "pipeline.fit(X_train, y_train)\n",
    "\n",
    "from sklearn.metrics import classification_report\n",
    "\n",
    "y_pred = pipeline.predict(X_test)\n",
    "print(classification_report(y_test, y_pred, zero_division=0))"
   ]
  },
  {
   "cell_type": "code",
   "execution_count": 115,
   "id": "05ab6f44",
   "metadata": {},
   "outputs": [
    {
     "name": "stderr",
     "output_type": "stream",
     "text": [
      "C:\\Users\\Yamlak\\anaconda3\\lib\\site-packages\\xgboost\\core.py:158: UserWarning: [09:16:25] WARNING: C:\\buildkite-agent\\builds\\buildkite-windows-cpu-autoscaling-group-i-08cbc0333d8d4aae1-1\\xgboost\\xgboost-ci-windows\\src\\learner.cc:740: \n",
      "Parameters: { \"use_label_encoder\" } are not used.\n",
      "\n",
      "  warnings.warn(smsg, UserWarning)\n"
     ]
    },
    {
     "name": "stdout",
     "output_type": "stream",
     "text": [
      "              precision    recall  f1-score   support\n",
      "\n",
      "         0.0       0.60      0.41      0.49        22\n",
      "         1.0       0.74      0.80      0.77        66\n",
      "         2.0       0.36      0.40      0.38        10\n",
      "\n",
      "    accuracy                           0.67        98\n",
      "   macro avg       0.57      0.54      0.55        98\n",
      "weighted avg       0.67      0.67      0.67        98\n",
      "\n"
     ]
    }
   ],
   "source": [
    "from imblearn.pipeline import Pipeline\n",
    "from imblearn.over_sampling import ADASYN\n",
    "from xgboost import XGBClassifier\n",
    "from sklearn.metrics import classification_report\n",
    "\n",
    "\n",
    "pipeline = Pipeline([\n",
    "    ('adasyn', ADASYN(random_state=42)),\n",
    "    ('xgb', XGBClassifier(random_state=42, use_label_encoder=False, eval_metric='logloss'))\n",
    "])\n",
    "y_train_adj = y_train - 1\n",
    "y_test_adj = y_test - 1\n",
    "pipeline.fit(X_train, y_train_adj)\n",
    "y_pred = pipeline.predict(X_test)\n",
    "\n",
    "report = classification_report(y_test_adj, y_pred, zero_division=0, output_dict=True)\n",
    "print(classification_report(y_test_adj, y_pred, zero_division=0))"
   ]
  },
  {
   "cell_type": "markdown",
   "id": "1ec00d62",
   "metadata": {},
   "source": [
    "## Classification for Therapy response"
   ]
  },
  {
   "cell_type": "code",
   "execution_count": null,
   "id": "4a07e29f",
   "metadata": {},
   "outputs": [],
   "source": [
    "\n",
    "X = data_filtered[selected_features_for_response]\n",
    "y_response = data_filtered['NEW_TUMOR_EVENT_AFTER_INITIAL_TREATMENT']  \n",
    "X_train, X_test, y_train, y_test = train_test_split(X, y_response, test_size=0.2, random_state=42)\n",
    "\n",
    "# Logistic Regression\n",
    "log_reg = LogisticRegression(max_iter=10000)\n",
    "log_reg.fit(X_train, y_train)\n",
    "y_pred_log_reg = log_reg.predict(X_test)\n",
    "print(\"Logistic Regression Classification Report:\")\n",
    "print(classification_report(y_test, y_pred_log_reg))\n",
    "\n",
    "# Support Vector Machine (SVM)\n",
    "svm = SVC(probability=True)\n",
    "svm.fit(X_train, y_train)\n",
    "y_pred_svm = svm.predict(X_test)\n",
    "print(\"SVM Classification Report:\")\n",
    "print(classification_report(y_test, y_pred_svm))\n",
    "\n",
    "# Neural Network (MLPClassifier)\n",
    "mlp = MLPClassifier(max_iter=10000)\n",
    "mlp.fit(X_train, y_train)\n",
    "y_pred_mlp = mlp.predict(X_test)\n",
    "print(\"Neural Network Classification Report:\")\n",
    "print(classification_report(y_test, y_pred_mlp))\n",
    "\n",
    "# Evaluating models using ROC-AUC\n",
    "print(f\"Logistic Regression ROC-AUC: {roc_auc_score(y_test, log_reg.predict_proba(X_test), multi_class='ovr')}\")\n",
    "print(f\"SVM ROC-AUC: {roc_auc_score(y_test, svm.predict_proba(X_test), multi_class='ovr')}\")\n",
    "print(f\"Neural Network ROC-AUC: {roc_auc_score(y_test, mlp.predict_proba(X_test), multi_class='ovr')}\")\n"
   ]
  },
  {
   "cell_type": "code",
   "execution_count": null,
   "id": "a5140159",
   "metadata": {},
   "outputs": [],
   "source": [
    "model = RandomForestClassifier(class_weight='balanced')\n",
    "model.fit(X_train, y_train)\n",
    "\n",
    "\n",
    "y_pred = model.predict(X_test)\n",
    "print(classification_report(y_test, y_pred, zero_division=0))"
   ]
  },
  {
   "cell_type": "code",
   "execution_count": null,
   "id": "746655ce",
   "metadata": {},
   "outputs": [],
   "source": [
    "pipeline = Pipeline([\n",
    "    ('smote', SMOTE(random_state=42)),\n",
    "    ('rf', RandomForestClassifier(random_state=42))\n",
    "])\n",
    "\n",
    "pipeline.fit(X_train, y_train)\n",
    "\n",
    "\n",
    "y_pred = pipeline.predict(X_test)\n",
    "print(classification_report(y_test, y_pred, zero_division=0))"
   ]
  },
  {
   "cell_type": "code",
   "execution_count": null,
   "id": "631c904a",
   "metadata": {},
   "outputs": [],
   "source": []
  }
 ],
 "metadata": {
  "kernelspec": {
   "display_name": "Python 3",
   "language": "python",
   "name": "python3"
  },
  "language_info": {
   "codemirror_mode": {
    "name": "ipython",
    "version": 3
   },
   "file_extension": ".py",
   "mimetype": "text/x-python",
   "name": "python",
   "nbconvert_exporter": "python",
   "pygments_lexer": "ipython3",
   "version": "3.9.12"
  }
 },
 "nbformat": 4,
 "nbformat_minor": 5
}
