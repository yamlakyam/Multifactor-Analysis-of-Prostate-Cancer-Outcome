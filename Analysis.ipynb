{
 "cells": [
  {
   "cell_type": "code",
   "execution_count": 1,
   "id": "57a84183",
   "metadata": {},
   "outputs": [
    {
     "name": "stdout",
     "output_type": "stream",
     "text": [
      " Volume in drive C is Windows \n",
      " Volume Serial Number is 04F5-FC96\n",
      "\n",
      " Directory of C:\\Users\\Yamlak\\Documents\\IU PhD Journey\\ML for BioInformatics\\Multifactor Analysis of Prostate Cancer\n",
      "\n",
      "26/03/2025  18:12    <DIR>          .\n",
      "24/04/2025  07:55    <DIR>          ..\n",
      "22/03/2025  11:13                44 .gitignore\n",
      "22/03/2025  10:27    <DIR>          .ipynb_checkpoints\n",
      "26/03/2025  18:12         1,364,750 Analysis.ipynb\n",
      "22/03/2025  10:21       127,450,102 data_curated_trans.csv\n",
      "               3 File(s)    128,814,896 bytes\n",
      "               3 Dir(s)   8,667,721,728 bytes free\n"
     ]
    }
   ],
   "source": [
    "ls\n"
   ]
  },
  {
   "cell_type": "code",
   "execution_count": 92,
   "id": "43799c38",
   "metadata": {},
   "outputs": [
    {
     "name": "stdout",
     "output_type": "stream",
     "text": [
      "Collecting xgboostNote: you may need to restart the kernel to use updated packages.\n"
     ]
    },
    {
     "name": "stderr",
     "output_type": "stream",
     "text": [
      "WARNING: Ignoring invalid distribution -atplotlib (c:\\users\\yamlak\\anaconda3\\lib\\site-packages)\n"
     ]
    },
    {
     "name": "stdout",
     "output_type": "stream",
     "text": [
      "\n",
      "  Downloading xgboost-2.1.4-py3-none-win_amd64.whl (124.9 MB)\n",
      "     ------------------------------------- 124.9/124.9 MB 11.5 MB/s eta 0:00:00\n",
      "Requirement already satisfied: numpy in c:\\users\\yamlak\\anaconda3\\lib\\site-packages (from xgboost) (1.21.5)\n",
      "Requirement already satisfied: scipy in c:\\users\\yamlak\\anaconda3\\lib\\site-packages (from xgboost) (1.7.3)\n",
      "Installing collected packages: xgboost\n",
      "Successfully installed xgboost-2.1.4\n"
     ]
    },
    {
     "name": "stderr",
     "output_type": "stream",
     "text": [
      "WARNING: Ignoring invalid distribution -rotobuf (c:\\users\\yamlak\\anaconda3\\lib\\site-packages)\n",
      "WARNING: Ignoring invalid distribution -atplotlib (c:\\users\\yamlak\\anaconda3\\lib\\site-packages)\n",
      "WARNING: Ignoring invalid distribution -rotobuf (c:\\users\\yamlak\\anaconda3\\lib\\site-packages)\n",
      "\n",
      "[notice] A new release of pip is available: 23.1.2 -> 25.1.1\n",
      "[notice] To update, run: python.exe -m pip install --upgrade pip\n"
     ]
    }
   ],
   "source": [
    "pip install xgboost"
   ]
  },
  {
   "cell_type": "code",
   "execution_count": 3,
   "id": "30a92aef",
   "metadata": {},
   "outputs": [],
   "source": [
    "import pandas as pd\n",
    "import matplotlib.pyplot as plt\n",
    "import numpy as np\n"
   ]
  },
  {
   "cell_type": "code",
   "execution_count": 4,
   "id": "ff31855c",
   "metadata": {},
   "outputs": [],
   "source": [
    "data = pd.read_csv('data_curated_trans.csv')"
   ]
  },
  {
   "cell_type": "code",
   "execution_count": 5,
   "id": "603a77ca",
   "metadata": {},
   "outputs": [
    {
     "name": "stdout",
     "output_type": "stream",
     "text": [
      "<class 'pandas.core.frame.DataFrame'>\n",
      "RangeIndex: 489 entries, 0 to 488\n",
      "Columns: 45606 entries, PATIENT_ID to hsa-mir-224\n",
      "dtypes: float64(45605), object(1)\n",
      "memory usage: 170.1+ MB\n"
     ]
    }
   ],
   "source": [
    "data.info()"
   ]
  },
  {
   "cell_type": "code",
   "execution_count": 19,
   "id": "298423b3",
   "metadata": {},
   "outputs": [
    {
     "name": "stdout",
     "output_type": "stream",
     "text": [
      "Dataset Shape: (489, 45606)\n",
      "\n",
      "First 5 rows of the dataset:\n",
      "     PATIENT_ID  PATH_N_STAGE  NEW_TUMOR_EVENT_AFTER_INITIAL_TREATMENT  \\\n",
      "0  TCGA-2A-A8VL           2.0                                      2.0   \n",
      "1  TCGA-2A-A8VO           3.0                                      2.0   \n",
      "2  TCGA-2A-A8VT           1.0                                      2.0   \n",
      "3  TCGA-2A-A8VV           2.0                                      2.0   \n",
      "4  TCGA-2A-A8VX           2.0                                      2.0   \n",
      "\n",
      "   PATH_T_STAGE  PRIOR_DX  RADIATION_THERAPY   AGE  M_UBE2Q2P2  M_HMGB1P1  \\\n",
      "0           1.0       2.0                2.0  51.0     -0.0361        NaN   \n",
      "1           2.0       2.0                2.0  57.0     -0.3004        NaN   \n",
      "2           2.0       2.0                1.0  47.0      3.1758        NaN   \n",
      "3           1.0       2.0                2.0  52.0     -0.1102        NaN   \n",
      "4           2.0       2.0                2.0  70.0     -0.7052        NaN   \n",
      "\n",
      "   M_LOC155060  ...  hsa-mir-1321  hsa-mir-361  hsa-mir-548m  hsa-mir-652  \\\n",
      "0       0.3014  ...           0.0          0.0           0.0          0.0   \n",
      "1       0.6841  ...           0.0          0.0           0.0          0.0   \n",
      "2       2.8191  ...          -1.0         -1.0          -1.0         -1.0   \n",
      "3      -0.1719  ...           0.0          0.0           0.0          0.0   \n",
      "4       0.3580  ...           0.0          0.0           0.0          0.0   \n",
      "\n",
      "   hsa-mir-220a  hsa-mir-513c  hsa-mir-513b  hsa-mir-513a-1  hsa-mir-513a-2  \\\n",
      "0           0.0           0.0           0.0             0.0             0.0   \n",
      "1           0.0           0.0           0.0             0.0             0.0   \n",
      "2          -1.0          -1.0          -1.0            -1.0            -1.0   \n",
      "3           0.0           0.0           0.0             0.0             0.0   \n",
      "4           0.0           0.0           0.0             0.0             0.0   \n",
      "\n",
      "   hsa-mir-224  \n",
      "0          0.0  \n",
      "1          0.0  \n",
      "2         -1.0  \n",
      "3          0.0  \n",
      "4          0.0  \n",
      "\n",
      "[5 rows x 45606 columns]\n",
      "\n",
      "Total number of columns: 45606\n"
     ]
    }
   ],
   "source": [
    "print(\"Dataset Shape:\", data.shape)  # (rows, columns)\n",
    "print(\"\\nFirst 5 rows of the dataset:\")\n",
    "print(data.head())\n",
    "\n",
    "num_columns = data.shape[1]\n",
    "print(f\"\\nTotal number of columns: {num_columns}\")"
   ]
  },
  {
   "cell_type": "code",
   "execution_count": 20,
   "id": "0e15eec4",
   "metadata": {},
   "outputs": [
    {
     "data": {
      "text/plain": [
       "PATIENT_ID                                 0\n",
       "PATH_N_STAGE                               0\n",
       "NEW_TUMOR_EVENT_AFTER_INITIAL_TREATMENT    0\n",
       "PATH_T_STAGE                               0\n",
       "PRIOR_DX                                   0\n",
       "                                          ..\n",
       "hsa-mir-513c                               0\n",
       "hsa-mir-513b                               0\n",
       "hsa-mir-513a-1                             0\n",
       "hsa-mir-513a-2                             0\n",
       "hsa-mir-224                                0\n",
       "Length: 45606, dtype: int64"
      ]
     },
     "execution_count": 20,
     "metadata": {},
     "output_type": "execute_result"
    }
   ],
   "source": [
    "missing_values = data.isnull().sum()\n",
    "missing_values "
   ]
  },
  {
   "cell_type": "code",
   "execution_count": 21,
   "id": "95fc295a",
   "metadata": {},
   "outputs": [
    {
     "data": {
      "text/plain": [
       "281754"
      ]
     },
     "execution_count": 21,
     "metadata": {},
     "output_type": "execute_result"
    }
   ],
   "source": [
    "missing_values.sum()"
   ]
  },
  {
   "cell_type": "code",
   "execution_count": 22,
   "id": "4c2dffb3",
   "metadata": {},
   "outputs": [
    {
     "name": "stdout",
     "output_type": "stream",
     "text": [
      "\n",
      "Columns with missing values and their count:\n",
      "M_HMGB1P1     489\n",
      "M_RNU12-2P    489\n",
      "M_SSX9         33\n",
      "M_CXORF67     489\n",
      "M_EFCAB8      489\n",
      "             ... \n",
      "M_ZNF679       33\n",
      "M_ZNF735       33\n",
      "M_ZNF99        33\n",
      "M_ZP4          33\n",
      "M_ZSWIM2       33\n",
      "Length: 1546, dtype: int64\n"
     ]
    }
   ],
   "source": [
    "# Filter columns that have missing values\n",
    "columns_with_missing = missing_values[missing_values > 0]\n",
    "\n",
    "# Display missing values\n",
    "print(\"\\nColumns with missing values and their count:\")\n",
    "print(columns_with_missing)\n"
   ]
  },
  {
   "cell_type": "code",
   "execution_count": 23,
   "id": "84144b87",
   "metadata": {},
   "outputs": [],
   "source": [
    "data_cleaned = data.dropna(axis=1)"
   ]
  },
  {
   "cell_type": "code",
   "execution_count": 24,
   "id": "82d72ae1",
   "metadata": {},
   "outputs": [
    {
     "data": {
      "text/plain": [
       "((489, 45606), (489, 44060))"
      ]
     },
     "execution_count": 24,
     "metadata": {},
     "output_type": "execute_result"
    }
   ],
   "source": [
    "data.shape, data_cleaned.shape"
   ]
  },
  {
   "cell_type": "code",
   "execution_count": 25,
   "id": "87310121",
   "metadata": {},
   "outputs": [
    {
     "data": {
      "text/plain": [
       "0"
      ]
     },
     "execution_count": 25,
     "metadata": {},
     "output_type": "execute_result"
    }
   ],
   "source": [
    "data_cleaned.isnull().sum().sum()"
   ]
  },
  {
   "cell_type": "code",
   "execution_count": 26,
   "id": "71ccf040",
   "metadata": {},
   "outputs": [],
   "source": [
    "numerical_cols = data_cleaned.select_dtypes(include=['number']).columns\n",
    "\n",
    "num_features = len(numerical_cols)\n",
    "features_per_plot = 20\n",
    "num_plots = int(np.ceil(num_features / features_per_plot))\n",
    "\n",
    "# Generate box plots in batches of 20 features\n",
    "# for i in range(num_plots):\n",
    "#     plt.figure(figsize=(15, 6))\n",
    "    \n",
    "\n",
    "#     subset_cols = numerical_cols[i * features_per_plot : (i + 1) * features_per_plot]\n",
    "    \n",
    "\n",
    "#     data_cleaned[subset_cols].boxplot()\n",
    "#     plt.xticks(rotation=90)\n",
    "#     plt.title(f\"Boxplot for Features {i * features_per_plot + 1} to {(i + 1) * features_per_plot}\")\n",
    "#     plt.show()"
   ]
  },
  {
   "cell_type": "code",
   "execution_count": 27,
   "id": "b8a2c56c",
   "metadata": {},
   "outputs": [
    {
     "data": {
      "text/plain": [
       "Index(['PATIENT_ID', 'PATH_N_STAGE', 'NEW_TUMOR_EVENT_AFTER_INITIAL_TREATMENT',\n",
       "       'PATH_T_STAGE', 'PRIOR_DX', 'RADIATION_THERAPY', 'AGE', 'M_UBE2Q2P2',\n",
       "       'M_LOC155060', 'M_GTPBP6',\n",
       "       ...\n",
       "       'hsa-mir-1321', 'hsa-mir-361', 'hsa-mir-548m', 'hsa-mir-652',\n",
       "       'hsa-mir-220a', 'hsa-mir-513c', 'hsa-mir-513b', 'hsa-mir-513a-1',\n",
       "       'hsa-mir-513a-2', 'hsa-mir-224'],\n",
       "      dtype='object', length=44060)"
      ]
     },
     "execution_count": 27,
     "metadata": {},
     "output_type": "execute_result"
    }
   ],
   "source": [
    "data_cleaned.columns "
   ]
  },
  {
   "cell_type": "code",
   "execution_count": 28,
   "id": "8c01b562",
   "metadata": {},
   "outputs": [],
   "source": [
    "exclude_columns = ['PATIENT_ID', 'PATH_N_STAGE', 'NEW_TUMOR_EVENT_AFTER_INITIAL_TREATMENT', \n",
    "                   'PATH_T_STAGE', 'PRIOR_DX', 'RADIATION_THERAPY', 'AGE']\n",
    "\n",
    "# Exclude the specified columns\n",
    "data_filtered = data_cleaned.drop(columns=exclude_columns)"
   ]
  },
  {
   "cell_type": "code",
   "execution_count": 29,
   "id": "fef8fa8b",
   "metadata": {},
   "outputs": [
    {
     "name": "stdout",
     "output_type": "stream",
     "text": [
      "Original number of features: 44060\n",
      "Number of features after filtering: 43964\n",
      "\n",
      "Columns with smaller variability (excluding excluded ones):\n",
      "Index(['M_UBE2Q2P2', 'M_LOC155060', 'M_GTPBP6', 'M_EFCAB12', 'M_A1BG',\n",
      "       'M_A1CF', 'M_RBFOX1', 'M_GGACT', 'M_A2M', 'M_A2ML1',\n",
      "       ...\n",
      "       'hsa-mir-1321', 'hsa-mir-361', 'hsa-mir-548m', 'hsa-mir-652',\n",
      "       'hsa-mir-220a', 'hsa-mir-513c', 'hsa-mir-513b', 'hsa-mir-513a-1',\n",
      "       'hsa-mir-513a-2', 'hsa-mir-224'],\n",
      "      dtype='object', length=43957)\n"
     ]
    }
   ],
   "source": [
    "exclude_columns = ['PATIENT_ID', 'PATH_N_STAGE', 'NEW_TUMOR_EVENT_AFTER_INITIAL_TREATMENT', \n",
    "                   'PATH_T_STAGE', 'PRIOR_DX', 'RADIATION_THERAPY', 'AGE']\n",
    "\n",
    "# Remove the excluded columns before computing the standard deviation\n",
    "data_filtered_for_sd = data_cleaned.drop(columns=exclude_columns)\n",
    "s\n",
    "std_dev = data_filtered_for_sd.std()\n",
    "\n",
    "threshold = std_dev.mean() + 1 * std_dev.std()  # Keep columns with SD below (mean + 1*SD)\n",
    "\n",
    "# Get the filtered columns based on the threshold\n",
    "filtered_columns = std_dev[std_dev < threshold].index\n",
    "\n",
    "\n",
    "data_filtered = data_cleaned[exclude_columns + filtered_columns.tolist() ]\n",
    "\n",
    "\n",
    "print(f\"Original number of features: {data_cleaned.shape[1]}\")\n",
    "print(f\"Number of features after filtering: {data_filtered.shape[1]}\")\n",
    "\n",
    "\n",
    "# Show the filtered columns\n",
    "print(\"\\nColumns with smaller variability (excluding excluded ones):\")\n",
    "print(filtered_columns)"
   ]
  },
  {
   "cell_type": "code",
   "execution_count": 30,
   "id": "3fe90001",
   "metadata": {},
   "outputs": [
    {
     "data": {
      "text/html": [
       "<div>\n",
       "<style scoped>\n",
       "    .dataframe tbody tr th:only-of-type {\n",
       "        vertical-align: middle;\n",
       "    }\n",
       "\n",
       "    .dataframe tbody tr th {\n",
       "        vertical-align: top;\n",
       "    }\n",
       "\n",
       "    .dataframe thead th {\n",
       "        text-align: right;\n",
       "    }\n",
       "</style>\n",
       "<table border=\"1\" class=\"dataframe\">\n",
       "  <thead>\n",
       "    <tr style=\"text-align: right;\">\n",
       "      <th></th>\n",
       "      <th>M_UBE2Q2P2</th>\n",
       "      <th>M_LOC155060</th>\n",
       "      <th>M_GTPBP6</th>\n",
       "      <th>M_EFCAB12</th>\n",
       "      <th>M_A1BG</th>\n",
       "      <th>M_A1CF</th>\n",
       "      <th>M_RBFOX1</th>\n",
       "      <th>M_GGACT</th>\n",
       "      <th>M_A2M</th>\n",
       "      <th>M_A2ML1</th>\n",
       "      <th>...</th>\n",
       "      <th>hsa-mir-1321</th>\n",
       "      <th>hsa-mir-361</th>\n",
       "      <th>hsa-mir-548m</th>\n",
       "      <th>hsa-mir-652</th>\n",
       "      <th>hsa-mir-220a</th>\n",
       "      <th>hsa-mir-513c</th>\n",
       "      <th>hsa-mir-513b</th>\n",
       "      <th>hsa-mir-513a-1</th>\n",
       "      <th>hsa-mir-513a-2</th>\n",
       "      <th>hsa-mir-224</th>\n",
       "    </tr>\n",
       "  </thead>\n",
       "  <tbody>\n",
       "    <tr>\n",
       "      <th>0</th>\n",
       "      <td>-0.0361</td>\n",
       "      <td>0.3014</td>\n",
       "      <td>-0.2867</td>\n",
       "      <td>0.9115</td>\n",
       "      <td>0.2252</td>\n",
       "      <td>-0.1838</td>\n",
       "      <td>0.3830</td>\n",
       "      <td>-0.5284</td>\n",
       "      <td>-0.7255</td>\n",
       "      <td>0.1866</td>\n",
       "      <td>...</td>\n",
       "      <td>0.0</td>\n",
       "      <td>0.0</td>\n",
       "      <td>0.0</td>\n",
       "      <td>0.0</td>\n",
       "      <td>0.0</td>\n",
       "      <td>0.0</td>\n",
       "      <td>0.0</td>\n",
       "      <td>0.0</td>\n",
       "      <td>0.0</td>\n",
       "      <td>0.0</td>\n",
       "    </tr>\n",
       "    <tr>\n",
       "      <th>1</th>\n",
       "      <td>-0.3004</td>\n",
       "      <td>0.6841</td>\n",
       "      <td>0.6619</td>\n",
       "      <td>1.7160</td>\n",
       "      <td>-0.6237</td>\n",
       "      <td>-0.1838</td>\n",
       "      <td>0.1567</td>\n",
       "      <td>-0.0413</td>\n",
       "      <td>0.4708</td>\n",
       "      <td>-0.4744</td>\n",
       "      <td>...</td>\n",
       "      <td>0.0</td>\n",
       "      <td>0.0</td>\n",
       "      <td>0.0</td>\n",
       "      <td>0.0</td>\n",
       "      <td>0.0</td>\n",
       "      <td>0.0</td>\n",
       "      <td>0.0</td>\n",
       "      <td>0.0</td>\n",
       "      <td>0.0</td>\n",
       "      <td>0.0</td>\n",
       "    </tr>\n",
       "    <tr>\n",
       "      <th>2</th>\n",
       "      <td>3.1758</td>\n",
       "      <td>2.8191</td>\n",
       "      <td>0.2520</td>\n",
       "      <td>-0.6433</td>\n",
       "      <td>-0.6380</td>\n",
       "      <td>-0.1633</td>\n",
       "      <td>-0.3436</td>\n",
       "      <td>-0.1908</td>\n",
       "      <td>-0.7193</td>\n",
       "      <td>-0.4985</td>\n",
       "      <td>...</td>\n",
       "      <td>-1.0</td>\n",
       "      <td>-1.0</td>\n",
       "      <td>-1.0</td>\n",
       "      <td>-1.0</td>\n",
       "      <td>-1.0</td>\n",
       "      <td>-1.0</td>\n",
       "      <td>-1.0</td>\n",
       "      <td>-1.0</td>\n",
       "      <td>-1.0</td>\n",
       "      <td>-1.0</td>\n",
       "    </tr>\n",
       "    <tr>\n",
       "      <th>3</th>\n",
       "      <td>-0.1102</td>\n",
       "      <td>-0.1719</td>\n",
       "      <td>-0.2612</td>\n",
       "      <td>0.2185</td>\n",
       "      <td>-0.6294</td>\n",
       "      <td>-0.1838</td>\n",
       "      <td>-0.2837</td>\n",
       "      <td>0.0488</td>\n",
       "      <td>-0.4417</td>\n",
       "      <td>-0.5010</td>\n",
       "      <td>...</td>\n",
       "      <td>0.0</td>\n",
       "      <td>0.0</td>\n",
       "      <td>0.0</td>\n",
       "      <td>0.0</td>\n",
       "      <td>0.0</td>\n",
       "      <td>0.0</td>\n",
       "      <td>0.0</td>\n",
       "      <td>0.0</td>\n",
       "      <td>0.0</td>\n",
       "      <td>0.0</td>\n",
       "    </tr>\n",
       "    <tr>\n",
       "      <th>4</th>\n",
       "      <td>-0.7052</td>\n",
       "      <td>0.3580</td>\n",
       "      <td>0.9095</td>\n",
       "      <td>-0.1748</td>\n",
       "      <td>-0.1893</td>\n",
       "      <td>-0.1838</td>\n",
       "      <td>-0.3850</td>\n",
       "      <td>1.3400</td>\n",
       "      <td>-0.4493</td>\n",
       "      <td>-0.4765</td>\n",
       "      <td>...</td>\n",
       "      <td>0.0</td>\n",
       "      <td>0.0</td>\n",
       "      <td>0.0</td>\n",
       "      <td>0.0</td>\n",
       "      <td>0.0</td>\n",
       "      <td>0.0</td>\n",
       "      <td>0.0</td>\n",
       "      <td>0.0</td>\n",
       "      <td>0.0</td>\n",
       "      <td>0.0</td>\n",
       "    </tr>\n",
       "    <tr>\n",
       "      <th>...</th>\n",
       "      <td>...</td>\n",
       "      <td>...</td>\n",
       "      <td>...</td>\n",
       "      <td>...</td>\n",
       "      <td>...</td>\n",
       "      <td>...</td>\n",
       "      <td>...</td>\n",
       "      <td>...</td>\n",
       "      <td>...</td>\n",
       "      <td>...</td>\n",
       "      <td>...</td>\n",
       "      <td>...</td>\n",
       "      <td>...</td>\n",
       "      <td>...</td>\n",
       "      <td>...</td>\n",
       "      <td>...</td>\n",
       "      <td>...</td>\n",
       "      <td>...</td>\n",
       "      <td>...</td>\n",
       "      <td>...</td>\n",
       "      <td>...</td>\n",
       "    </tr>\n",
       "    <tr>\n",
       "      <th>484</th>\n",
       "      <td>0.6768</td>\n",
       "      <td>10.6747</td>\n",
       "      <td>-0.9893</td>\n",
       "      <td>0.0690</td>\n",
       "      <td>-0.3671</td>\n",
       "      <td>-0.1838</td>\n",
       "      <td>-0.3078</td>\n",
       "      <td>-1.8237</td>\n",
       "      <td>-0.4308</td>\n",
       "      <td>0.4972</td>\n",
       "      <td>...</td>\n",
       "      <td>0.0</td>\n",
       "      <td>0.0</td>\n",
       "      <td>0.0</td>\n",
       "      <td>0.0</td>\n",
       "      <td>0.0</td>\n",
       "      <td>-1.0</td>\n",
       "      <td>-1.0</td>\n",
       "      <td>-1.0</td>\n",
       "      <td>-1.0</td>\n",
       "      <td>0.0</td>\n",
       "    </tr>\n",
       "    <tr>\n",
       "      <th>485</th>\n",
       "      <td>-0.2252</td>\n",
       "      <td>-0.0288</td>\n",
       "      <td>-0.1738</td>\n",
       "      <td>-1.3305</td>\n",
       "      <td>0.1966</td>\n",
       "      <td>-0.1838</td>\n",
       "      <td>0.0035</td>\n",
       "      <td>-0.6731</td>\n",
       "      <td>0.7859</td>\n",
       "      <td>0.5392</td>\n",
       "      <td>...</td>\n",
       "      <td>0.0</td>\n",
       "      <td>0.0</td>\n",
       "      <td>0.0</td>\n",
       "      <td>0.0</td>\n",
       "      <td>0.0</td>\n",
       "      <td>0.0</td>\n",
       "      <td>0.0</td>\n",
       "      <td>0.0</td>\n",
       "      <td>0.0</td>\n",
       "      <td>0.0</td>\n",
       "    </tr>\n",
       "    <tr>\n",
       "      <th>486</th>\n",
       "      <td>-0.8350</td>\n",
       "      <td>-0.5767</td>\n",
       "      <td>0.5719</td>\n",
       "      <td>-1.2691</td>\n",
       "      <td>-0.6668</td>\n",
       "      <td>-0.1838</td>\n",
       "      <td>-0.4006</td>\n",
       "      <td>-0.5881</td>\n",
       "      <td>0.0745</td>\n",
       "      <td>-0.2450</td>\n",
       "      <td>...</td>\n",
       "      <td>0.0</td>\n",
       "      <td>0.0</td>\n",
       "      <td>0.0</td>\n",
       "      <td>0.0</td>\n",
       "      <td>0.0</td>\n",
       "      <td>0.0</td>\n",
       "      <td>0.0</td>\n",
       "      <td>0.0</td>\n",
       "      <td>0.0</td>\n",
       "      <td>0.0</td>\n",
       "    </tr>\n",
       "    <tr>\n",
       "      <th>487</th>\n",
       "      <td>0.4274</td>\n",
       "      <td>-0.0456</td>\n",
       "      <td>0.0093</td>\n",
       "      <td>-0.0881</td>\n",
       "      <td>-0.3998</td>\n",
       "      <td>-0.1838</td>\n",
       "      <td>-0.4006</td>\n",
       "      <td>2.6657</td>\n",
       "      <td>-0.7081</td>\n",
       "      <td>-0.0225</td>\n",
       "      <td>...</td>\n",
       "      <td>-1.0</td>\n",
       "      <td>-1.0</td>\n",
       "      <td>-1.0</td>\n",
       "      <td>-1.0</td>\n",
       "      <td>-1.0</td>\n",
       "      <td>-1.0</td>\n",
       "      <td>-1.0</td>\n",
       "      <td>-1.0</td>\n",
       "      <td>-1.0</td>\n",
       "      <td>-1.0</td>\n",
       "    </tr>\n",
       "    <tr>\n",
       "      <th>488</th>\n",
       "      <td>-0.8230</td>\n",
       "      <td>-0.8958</td>\n",
       "      <td>0.2423</td>\n",
       "      <td>-0.3481</td>\n",
       "      <td>-0.0813</td>\n",
       "      <td>4.7908</td>\n",
       "      <td>0.0428</td>\n",
       "      <td>-0.8089</td>\n",
       "      <td>0.0321</td>\n",
       "      <td>0.4160</td>\n",
       "      <td>...</td>\n",
       "      <td>0.0</td>\n",
       "      <td>0.0</td>\n",
       "      <td>0.0</td>\n",
       "      <td>0.0</td>\n",
       "      <td>0.0</td>\n",
       "      <td>0.0</td>\n",
       "      <td>0.0</td>\n",
       "      <td>0.0</td>\n",
       "      <td>0.0</td>\n",
       "      <td>0.0</td>\n",
       "    </tr>\n",
       "  </tbody>\n",
       "</table>\n",
       "<p>489 rows × 43957 columns</p>\n",
       "</div>"
      ],
      "text/plain": [
       "     M_UBE2Q2P2  M_LOC155060  M_GTPBP6  M_EFCAB12  M_A1BG  M_A1CF  M_RBFOX1  \\\n",
       "0       -0.0361       0.3014   -0.2867     0.9115  0.2252 -0.1838    0.3830   \n",
       "1       -0.3004       0.6841    0.6619     1.7160 -0.6237 -0.1838    0.1567   \n",
       "2        3.1758       2.8191    0.2520    -0.6433 -0.6380 -0.1633   -0.3436   \n",
       "3       -0.1102      -0.1719   -0.2612     0.2185 -0.6294 -0.1838   -0.2837   \n",
       "4       -0.7052       0.3580    0.9095    -0.1748 -0.1893 -0.1838   -0.3850   \n",
       "..          ...          ...       ...        ...     ...     ...       ...   \n",
       "484      0.6768      10.6747   -0.9893     0.0690 -0.3671 -0.1838   -0.3078   \n",
       "485     -0.2252      -0.0288   -0.1738    -1.3305  0.1966 -0.1838    0.0035   \n",
       "486     -0.8350      -0.5767    0.5719    -1.2691 -0.6668 -0.1838   -0.4006   \n",
       "487      0.4274      -0.0456    0.0093    -0.0881 -0.3998 -0.1838   -0.4006   \n",
       "488     -0.8230      -0.8958    0.2423    -0.3481 -0.0813  4.7908    0.0428   \n",
       "\n",
       "     M_GGACT   M_A2M  M_A2ML1  ...  hsa-mir-1321  hsa-mir-361  hsa-mir-548m  \\\n",
       "0    -0.5284 -0.7255   0.1866  ...           0.0          0.0           0.0   \n",
       "1    -0.0413  0.4708  -0.4744  ...           0.0          0.0           0.0   \n",
       "2    -0.1908 -0.7193  -0.4985  ...          -1.0         -1.0          -1.0   \n",
       "3     0.0488 -0.4417  -0.5010  ...           0.0          0.0           0.0   \n",
       "4     1.3400 -0.4493  -0.4765  ...           0.0          0.0           0.0   \n",
       "..       ...     ...      ...  ...           ...          ...           ...   \n",
       "484  -1.8237 -0.4308   0.4972  ...           0.0          0.0           0.0   \n",
       "485  -0.6731  0.7859   0.5392  ...           0.0          0.0           0.0   \n",
       "486  -0.5881  0.0745  -0.2450  ...           0.0          0.0           0.0   \n",
       "487   2.6657 -0.7081  -0.0225  ...          -1.0         -1.0          -1.0   \n",
       "488  -0.8089  0.0321   0.4160  ...           0.0          0.0           0.0   \n",
       "\n",
       "     hsa-mir-652  hsa-mir-220a  hsa-mir-513c  hsa-mir-513b  hsa-mir-513a-1  \\\n",
       "0            0.0           0.0           0.0           0.0             0.0   \n",
       "1            0.0           0.0           0.0           0.0             0.0   \n",
       "2           -1.0          -1.0          -1.0          -1.0            -1.0   \n",
       "3            0.0           0.0           0.0           0.0             0.0   \n",
       "4            0.0           0.0           0.0           0.0             0.0   \n",
       "..           ...           ...           ...           ...             ...   \n",
       "484          0.0           0.0          -1.0          -1.0            -1.0   \n",
       "485          0.0           0.0           0.0           0.0             0.0   \n",
       "486          0.0           0.0           0.0           0.0             0.0   \n",
       "487         -1.0          -1.0          -1.0          -1.0            -1.0   \n",
       "488          0.0           0.0           0.0           0.0             0.0   \n",
       "\n",
       "     hsa-mir-513a-2  hsa-mir-224  \n",
       "0               0.0          0.0  \n",
       "1               0.0          0.0  \n",
       "2              -1.0         -1.0  \n",
       "3               0.0          0.0  \n",
       "4               0.0          0.0  \n",
       "..              ...          ...  \n",
       "484            -1.0          0.0  \n",
       "485             0.0          0.0  \n",
       "486             0.0          0.0  \n",
       "487            -1.0         -1.0  \n",
       "488             0.0          0.0  \n",
       "\n",
       "[489 rows x 43957 columns]"
      ]
     },
     "execution_count": 30,
     "metadata": {},
     "output_type": "execute_result"
    }
   ],
   "source": [
    "data_filtered[filtered_columns]"
   ]
  },
  {
   "cell_type": "code",
   "execution_count": 31,
   "id": "b37f77b1",
   "metadata": {},
   "outputs": [
    {
     "name": "stderr",
     "output_type": "stream",
     "text": [
      "<ipython-input-31-fe714ff2cc52>:7: SettingWithCopyWarning: \n",
      "A value is trying to be set on a copy of a slice from a DataFrame.\n",
      "Try using .loc[row_indexer,col_indexer] = value instead\n",
      "\n",
      "See the caveats in the documentation: https://pandas.pydata.org/pandas-docs/stable/user_guide/indexing.html#returning-a-view-versus-a-copy\n",
      "  data_filtered[filtered_columns] = scaler.fit_transform(data_filtered[filtered_columns])\n"
     ]
    },
    {
     "name": "stdout",
     "output_type": "stream",
     "text": [
      "   M_UBE2Q2P2  M_LOC155060  M_GTPBP6  M_EFCAB12    M_A1BG    M_A1CF  M_RBFOX1  \\\n",
      "0   -0.034865     0.170136 -0.295397   0.956829  0.208765 -0.206023  0.388494   \n",
      "1   -0.299827     0.499787  0.664889   1.773452 -0.622515 -0.206023  0.157573   \n",
      "2    3.185082     2.338838  0.249939  -0.621400 -0.636518 -0.185429 -0.352941   \n",
      "3   -0.109151    -0.237556 -0.269583   0.253386 -0.628096 -0.206023 -0.291818   \n",
      "4   -0.705642     0.218890  0.915539  -0.145840 -0.197131 -0.206023 -0.395186   \n",
      "\n",
      "    M_GGACT     M_A2M   M_A2ML1  ...  hsa-mir-1321  hsa-mir-361  hsa-mir-548m  \\\n",
      "0 -0.371170 -0.740960  0.118071  ...      0.160296     0.162313      0.116641   \n",
      "1  0.098936  0.514498 -0.390310  ...      0.160296     0.162313      0.116641   \n",
      "2 -0.045348 -0.734453 -0.408846  ...     -2.639159    -2.574618     -2.885337   \n",
      "3  0.185892 -0.443126 -0.410769  ...      0.160296     0.162313      0.116641   \n",
      "4  1.432044 -0.451102 -0.391925  ...      0.160296     0.162313      0.116641   \n",
      "\n",
      "   hsa-mir-652  hsa-mir-220a  hsa-mir-513c  hsa-mir-513b  hsa-mir-513a-1  \\\n",
      "0     0.162110      0.105009      0.146266      0.146266        0.146266   \n",
      "1     0.162110      0.105009      0.146266      0.146266        0.146266   \n",
      "2    -3.140888     -3.104327     -2.604661     -2.604661       -2.604661   \n",
      "3     0.162110      0.105009      0.146266      0.146266        0.146266   \n",
      "4     0.162110      0.105009      0.146266      0.146266        0.146266   \n",
      "\n",
      "   hsa-mir-513a-2  hsa-mir-224  \n",
      "0        0.146266      0.06054  \n",
      "1        0.146266      0.06054  \n",
      "2       -2.604661     -2.89989  \n",
      "3        0.146266      0.06054  \n",
      "4        0.146266      0.06054  \n",
      "\n",
      "[5 rows x 43957 columns]\n"
     ]
    }
   ],
   "source": [
    "from sklearn.preprocessing import StandardScaler\n",
    "\n",
    "# Initialize the scaler\n",
    "scaler = StandardScaler()\n",
    "\n",
    "# Apply the scaler to the selected filtered columns\n",
    "data_filtered[filtered_columns] = scaler.fit_transform(data_filtered[filtered_columns])\n",
    "\n",
    "# Display the first few rows of the normalized data\n",
    "print(data_filtered[filtered_columns].head())\n"
   ]
  },
  {
   "cell_type": "code",
   "execution_count": 32,
   "id": "77534c88",
   "metadata": {},
   "outputs": [
    {
     "data": {
      "text/plain": [
       "Index(['M_UBE2Q2P2', 'M_LOC155060', 'M_GTPBP6', 'M_EFCAB12', 'M_A1BG',\n",
       "       'M_A1CF', 'M_RBFOX1', 'M_GGACT', 'M_A2M', 'M_A2ML1',\n",
       "       ...\n",
       "       'hsa-mir-1321', 'hsa-mir-361', 'hsa-mir-548m', 'hsa-mir-652',\n",
       "       'hsa-mir-220a', 'hsa-mir-513c', 'hsa-mir-513b', 'hsa-mir-513a-1',\n",
       "       'hsa-mir-513a-2', 'hsa-mir-224'],\n",
       "      dtype='object', length=43957)"
      ]
     },
     "execution_count": 32,
     "metadata": {},
     "output_type": "execute_result"
    }
   ],
   "source": [
    "filtered_columns"
   ]
  },
  {
   "cell_type": "code",
   "execution_count": 33,
   "id": "a24d51fe",
   "metadata": {},
   "outputs": [
    {
     "data": {
      "text/plain": [
       "Index(['PATIENT_ID', 'PATH_N_STAGE', 'NEW_TUMOR_EVENT_AFTER_INITIAL_TREATMENT',\n",
       "       'PATH_T_STAGE', 'PRIOR_DX', 'RADIATION_THERAPY', 'AGE', 'M_UBE2Q2P2',\n",
       "       'M_LOC155060', 'M_GTPBP6',\n",
       "       ...\n",
       "       'hsa-mir-1321', 'hsa-mir-361', 'hsa-mir-548m', 'hsa-mir-652',\n",
       "       'hsa-mir-220a', 'hsa-mir-513c', 'hsa-mir-513b', 'hsa-mir-513a-1',\n",
       "       'hsa-mir-513a-2', 'hsa-mir-224'],\n",
       "      dtype='object', length=43964)"
      ]
     },
     "execution_count": 33,
     "metadata": {},
     "output_type": "execute_result"
    }
   ],
   "source": [
    "data_filtered.columns"
   ]
  },
  {
   "cell_type": "markdown",
   "id": "0a9bd970",
   "metadata": {},
   "source": [
    "# Progression"
   ]
  },
  {
   "cell_type": "code",
   "execution_count": 35,
   "id": "d717bf5b",
   "metadata": {},
   "outputs": [
    {
     "name": "stdout",
     "output_type": "stream",
     "text": [
      "Selected features by Lasso: Index(['AGE', 'M_AJAP1', 'M_ALPI', 'M_BARX1', 'M_BTBD18', 'M_TMEM52B',\n",
      "       'M_DHRS4-AS1', 'M_PRR35', 'M_SPATA46', 'M_C1ORF115', 'M_SPANXC.4',\n",
      "       'M_C20ORF203', 'M_C9ORF163', 'M_CARS', 'M_CC2D2A', 'M_CCL8', 'M_CHRNA6',\n",
      "       'M_CSTL1', 'M_DDX5', 'M_DNAH8', 'M_FAF2', 'M_FAM19A1', 'M_FAM25A',\n",
      "       'M_FAM76A', 'M_FAR1', 'M_FLI1', 'M_FMOD', 'M_FSCB', 'M_GAL3ST3',\n",
      "       'M_HERC5', 'M_HIST1H3A', 'M_HIST1H3J', 'M_ARHGAP45', 'M_IL1R1',\n",
      "       'M_KCNJ13', 'M_KLC3', 'M_ASH1L-AS1', 'M_LSM11', 'M_MAP2K6', 'M_MMD2',\n",
      "       'M_NRP1', 'M_OMP', 'M_OR1J1', 'M_PCSK7', 'M_HELZ2', 'M_RNF213',\n",
      "       'M_SAMD9', 'M_SPOP', 'M_SRI', 'M_UNC93A', 'M_ZNF22', 'SCARNA3',\n",
      "       'HNRNPLL', 'EGFEM1P', 'LOC101927069', 'PRKACG', 'FXN', 'KLF4',\n",
      "       'SLC22A24', 'SLC22A25', 'MIR3680-1', 'MIR4300', 'B4GALNT3', 'AWAT2',\n",
      "       'MIR676'],\n",
      "      dtype='object')\n"
     ]
    }
   ],
   "source": [
    "from sklearn.linear_model import LassoCV\n",
    "from sklearn.model_selection import train_test_split\n",
    "\n",
    "X = data_filtered.drop(columns= ['PATIENT_ID', 'PATH_N_STAGE'])  # All features\n",
    "y = data_filtered['PATH_N_STAGE']  # Replace with the appropriate target variable\n",
    "\n",
    "# Split data into training and testing sets\n",
    "X_train, X_test, y_train, y_test = train_test_split(X, y, test_size=0.2, random_state=42)\n",
    "\n",
    "# Initialize and fit LassoCV\n",
    "lasso = LassoCV(cv=5)  # Lasso with cross-validation\n",
    "lasso.fit(X_train, y_train)\n",
    "\n",
    "# Get the features selected by Lasso (non-zero coefficients)\n",
    "selected_features = X.columns[(lasso.coef_ != 0)]\n",
    "\n",
    "print(f\"Selected features by Lasso: {selected_features}\")\n"
   ]
  },
  {
   "cell_type": "code",
   "execution_count": 36,
   "id": "178054c8",
   "metadata": {},
   "outputs": [],
   "source": [
    "selected_features_for_progression = selected_features"
   ]
  },
  {
   "cell_type": "code",
   "execution_count": 37,
   "id": "80fd057b",
   "metadata": {},
   "outputs": [
    {
     "data": {
      "text/plain": [
       "(65,)"
      ]
     },
     "execution_count": 37,
     "metadata": {},
     "output_type": "execute_result"
    }
   ],
   "source": [
    "len(selected_features_for_progression), \n"
   ]
  },
  {
   "cell_type": "code",
   "execution_count": null,
   "id": "19e7a89d",
   "metadata": {},
   "outputs": [],
   "source": []
  },
  {
   "cell_type": "markdown",
   "id": "7d21839f",
   "metadata": {},
   "source": [
    "# Therapy Response"
   ]
  },
  {
   "cell_type": "code",
   "execution_count": 38,
   "id": "5d82fd3b",
   "metadata": {},
   "outputs": [
    {
     "name": "stdout",
     "output_type": "stream",
     "text": [
      "Selected features by Lasso: Index(['M_ADORA3', 'M_EBPL', 'M_ENSA', 'M_FEZF1', 'M_HYAL4', 'M_KCNK9',\n",
      "       'M_KRTAP5-1', 'M_PP7080', 'M_PLEKHN1', 'M_RELL2', 'M_SRGAP2', 'M_TREM2',\n",
      "       'M_UMOD', 'GATAD2B', 'RP11-463J7.2', 'SRGAP2B', 'SRGAP2C',\n",
      "       'RP13-507P19.2', 'REM2', 'RBM23', 'VPS13C', 'C2CD4A', 'CHTF18', 'GNG13',\n",
      "       'MIR662', 'PPM1F', 'LIF', 'SF3A1'],\n",
      "      dtype='object')\n"
     ]
    }
   ],
   "source": [
    "\n",
    "from sklearn.linear_model import LassoCV\n",
    "from sklearn.model_selection import train_test_split\n",
    "\n",
    "X = data_filtered.drop(columns= ['PATIENT_ID', 'NEW_TUMOR_EVENT_AFTER_INITIAL_TREATMENT'])  # All features\n",
    "y = data_filtered['NEW_TUMOR_EVENT_AFTER_INITIAL_TREATMENT']  \n",
    "\n",
    "# Split data into training and testing sets\n",
    "X_train, X_test, y_train, y_test = train_test_split(X, y, test_size=0.2, random_state=42)\n",
    "\n",
    "# Initialize and fit LassoCV\n",
    "lasso = LassoCV(cv=5)  # Lasso with cross-validation\n",
    "lasso.fit(X_train, y_train)\n",
    "\n",
    "# Get the features selected by Lasso (non-zero coefficients)\n",
    "selected_features = X.columns[(lasso.coef_ != 0)]\n",
    "\n",
    "print(f\"Selected features by Lasso: {selected_features}\")\n",
    "\n"
   ]
  },
  {
   "cell_type": "code",
   "execution_count": 109,
   "id": "d740f48b",
   "metadata": {},
   "outputs": [
    {
     "name": "stdout",
     "output_type": "stream",
     "text": [
      "['M_ADORA3', 'M_EBPL', 'M_ENSA', 'M_FEZF1', 'M_HYAL4', 'M_KCNK9', 'M_KRTAP5-1', 'M_PP7080', 'M_PLEKHN1', 'M_RELL2', 'M_SRGAP2', 'M_TREM2', 'M_UMOD', 'GATAD2B', 'RP11-463J7.2', 'SRGAP2B', 'SRGAP2C', 'RP13-507P19.2', 'REM2', 'RBM23', 'VPS13C', 'C2CD4A', 'CHTF18', 'GNG13', 'MIR662', 'PPM1F', 'LIF', 'SF3A1']\n",
      "['M_ADORA3', 'M_EBPL', 'M_ENSA', 'M_FEZF1', 'M_HYAL4', 'M_KCNK9', 'M_KRTAP5-1', 'M_PP7080', 'M_PLEKHN1', 'M_RELL2', 'M_SRGAP2', 'M_TREM2', 'M_UMOD', 'GATAD2B', 'RP11-463J7.2', 'SRGAP2B', 'SRGAP2C', 'RP13-507P19.2', 'REM2', 'RBM23', 'VPS13C', 'C2CD4A', 'CHTF18', 'GNG13', 'MIR662', 'PPM1F', 'LIF', 'SF3A1', 'PATH_N_STAGE', 'PATH_T_STAGE', 'PRIOR_DX', 'RADIATION_THERAPY', 'AGE']\n"
     ]
    }
   ],
   "source": [
    "selected_features_for_response = selected_features.tolist()\n",
    "\n",
    "print(selected_features_for_response)\n",
    "\n",
    "# Use extend() to add multiple items individually\n",
    "selected_features_for_response.extend(['PATH_N_STAGE', 'PATH_T_STAGE', 'PRIOR_DX', 'RADIATION_THERAPY', 'AGE'])\n",
    "\n",
    "print(selected_features_for_response)"
   ]
  },
  {
   "cell_type": "code",
   "execution_count": 110,
   "id": "e6621928",
   "metadata": {},
   "outputs": [
    {
     "data": {
      "text/plain": [
       "33"
      ]
     },
     "execution_count": 110,
     "metadata": {},
     "output_type": "execute_result"
    }
   ],
   "source": [
    "len(selected_features_for_response)"
   ]
  },
  {
   "cell_type": "markdown",
   "id": "4345ca49",
   "metadata": {},
   "source": [
    "# Visualizations of selected features"
   ]
  },
  {
   "cell_type": "code",
   "execution_count": 49,
   "id": "595b59e5",
   "metadata": {},
   "outputs": [
    {
     "data": {
      "image/png": "[encoded data removed]",
      "text/plain": [
       "<Figure size 720x432 with 1 Axes>"
      ]
     },
     "metadata": {
      "needs_background": "light"
     },
     "output_type": "display_data"
    }
   ],
   "source": [
    "import matplotlib.pyplot as plt\n",
    "import seaborn as sns\n",
    "\n",
    "# Plot histogram for age\n",
    "plt.figure(figsize=(10, 6))\n",
    "sns.histplot(data_filtered['AGE'], bins=20, kde=True, color='blue')\n",
    "plt.title('Distribution of Age')\n",
    "plt.xlabel('Age')\n",
    "plt.ylabel('Frequency')\n",
    "plt.show()\n"
   ]
  },
  {
   "cell_type": "code",
   "execution_count": 50,
   "id": "c2f28a10",
   "metadata": {},
   "outputs": [
    {
     "data": {
      "image/png": "[encoded data removed]",
      "text/plain": [
       "<Figure size 576x432 with 1 Axes>"
      ]
     },
     "metadata": {
      "needs_background": "light"
     },
     "output_type": "display_data"
    },
    {
     "data": {
      "image/png": "[encoded data removed]",
      "text/plain": [
       "<Figure size 576x432 with 1 Axes>"
      ]
     },
     "metadata": {
      "needs_background": "light"
     },
     "output_type": "display_data"
    }
   ],
   "source": [
    "# Bar plot for radiation therapy (categorical variable)\n",
    "plt.figure(figsize=(8, 6))\n",
    "sns.countplot(x='RADIATION_THERAPY', data=data_filtered, palette='viridis')\n",
    "plt.title('Distribution of Radiation Therapy')\n",
    "plt.xlabel('Radiation Therapy Levels')\n",
    "plt.ylabel('Count')\n",
    "plt.show()\n",
    "\n",
    "# Bar plot for tumor stage (PATH_T_STAGE)\n",
    "plt.figure(figsize=(8, 6))\n",
    "sns.countplot(x='PATH_T_STAGE', data=data_filtered, palette='viridis')\n",
    "plt.title('Distribution of Tumor Stage (PATH_T_STAGE)')\n",
    "plt.xlabel('Tumor Stage')\n",
    "plt.ylabel('Count')\n",
    "plt.show()\n"
   ]
  },
  {
   "cell_type": "code",
   "execution_count": 120,
   "id": "d0e24af3",
   "metadata": {},
   "outputs": [
    {
     "data": {
      "image/png": "[encoded data removed]",
      "text/plain": [
       "<Figure size 576x432 with 1 Axes>"
      ]
     },
     "metadata": {
      "needs_background": "light"
     },
     "output_type": "display_data"
    }
   ],
   "source": [
    "# Bar plot for progression (categorical variable)\n",
    "plt.figure(figsize=(8, 6))\n",
    "sns.countplot(x='PATH_N_STAGE', data=data_filtered, palette='viridis')\n",
    "plt.title('Distribution of Progression Stage')\n",
    "plt.xlabel('Progression Stage')\n",
    "plt.ylabel('Count')\n",
    "plt.show()"
   ]
  },
  {
   "cell_type": "code",
   "execution_count": 121,
   "id": "06ab0576",
   "metadata": {},
   "outputs": [
    {
     "data": {
      "image/png": "[encoded data removed]",
      "text/plain": [
       "<Figure size 576x432 with 1 Axes>"
      ]
     },
     "metadata": {
      "needs_background": "light"
     },
     "output_type": "display_data"
    }
   ],
   "source": [
    "\n",
    "# Bar plot for progression (categorical variable)\n",
    "plt.figure(figsize=(8, 6))\n",
    "sns.countplot(x='NEW_TUMOR_EVENT_AFTER_INITIAL_TREATMENT', data=data_filtered, palette='viridis')\n",
    "plt.title('Therapy Response')\n",
    "plt.xlabel('New Tumor Event After initial treatment')\n",
    "plt.ylabel('Count')\n",
    "plt.show()"
   ]
  },
  {
   "cell_type": "markdown",
   "id": "0b86b623",
   "metadata": {},
   "source": [
    "# Classification of Disease Progression "
   ]
  },
  {
   "cell_type": "markdown",
   "id": "f887da48",
   "metadata": {},
   "source": [
    "### Logistic Regression and SVM"
   ]
  },
  {
   "cell_type": "code",
   "execution_count": 199,
   "id": "224891fb",
   "metadata": {},
   "outputs": [
    {
     "name": "stdout",
     "output_type": "stream",
     "text": [
      "Logistic Regression Classification Report:\n",
      "              precision    recall  f1-score   support\n",
      "\n",
      "         1.0       0.47      0.32      0.38        22\n",
      "         2.0       0.70      0.77      0.73        66\n",
      "         3.0       0.10      0.10      0.10        10\n",
      "\n",
      "    accuracy                           0.60        98\n",
      "   macro avg       0.42      0.40      0.40        98\n",
      "weighted avg       0.59      0.60      0.59        98\n",
      "\n",
      "SVM Classification Report:\n",
      "              precision    recall  f1-score   support\n",
      "\n",
      "         1.0       0.00      0.00      0.00        22\n",
      "         2.0       0.67      1.00      0.80        66\n",
      "         3.0       0.00      0.00      0.00        10\n",
      "\n",
      "    accuracy                           0.67        98\n",
      "   macro avg       0.22      0.33      0.27        98\n",
      "weighted avg       0.45      0.67      0.54        98\n",
      "\n"
     ]
    },
    {
     "name": "stderr",
     "output_type": "stream",
     "text": [
      "C:\\Users\\Yamlak\\anaconda3\\lib\\site-packages\\sklearn\\metrics\\_classification.py:1318: UndefinedMetricWarning: Precision and F-score are ill-defined and being set to 0.0 in labels with no predicted samples. Use `zero_division` parameter to control this behavior.\n",
      "  _warn_prf(average, modifier, msg_start, len(result))\n",
      "C:\\Users\\Yamlak\\anaconda3\\lib\\site-packages\\sklearn\\metrics\\_classification.py:1318: UndefinedMetricWarning: Precision and F-score are ill-defined and being set to 0.0 in labels with no predicted samples. Use `zero_division` parameter to control this behavior.\n",
      "  _warn_prf(average, modifier, msg_start, len(result))\n",
      "C:\\Users\\Yamlak\\anaconda3\\lib\\site-packages\\sklearn\\metrics\\_classification.py:1318: UndefinedMetricWarning: Precision and F-score are ill-defined and being set to 0.0 in labels with no predicted samples. Use `zero_division` parameter to control this behavior.\n",
      "  _warn_prf(average, modifier, msg_start, len(result))\n"
     ]
    }
   ],
   "source": [
    "from sklearn.linear_model import LogisticRegression\n",
    "from sklearn.svm import SVC\n",
    "from sklearn.neural_network import MLPClassifier\n",
    "from sklearn.metrics import classification_report, roc_auc_score\n",
    "from sklearn.model_selection import cross_validate\n",
    "from sklearn.model_selection import cross_val_score\n",
    "import torch\n",
    "import torch.nn as nn\n",
    "import torch.optim as optim\n",
    "from sklearn.model_selection import train_test_split\n",
    "from sklearn.preprocessing import LabelEncoder\n",
    "from sklearn.metrics import classification_report\n",
    "from sklearn.model_selection import KFold\n",
    "import pandas as pd\n",
    "\n",
    "\n",
    "# Split the data for classification (using Lasso-selected features)\n",
    "X = data_filtered[selected_features_for_progression]\n",
    "y_progression = data_filtered['PATH_N_STAGE']  # Classification target for disease progression\n",
    "\n",
    "X_train, X_test, y_train, y_test = train_test_split(X, y_progression, test_size=0.2, random_state=42)\n",
    "\n",
    "# Logistic Regression\n",
    "log_reg = LogisticRegression(max_iter=10000)\n",
    "log_reg.fit(X_train, y_train)\n",
    "y_pred_log_reg = log_reg.predict(X_test)\n",
    "print(\"Logistic Regression Classification Report:\")\n",
    "print(classification_report(y_test, y_pred_log_reg))\n",
    "\n",
    "# Support Vector Machine (SVM)\n",
    "svm = SVC(probability=True)\n",
    "svm.fit(X_train, y_train)\n",
    "y_pred_svm = svm.predict(X_test)\n",
    "print(\"SVM Classification Report:\")\n",
    "print(classification_report(y_test, y_pred_svm))\n",
    "\n"
   ]
  },
  {
   "cell_type": "markdown",
   "id": "995b34ae",
   "metadata": {},
   "source": [
    "### Logistic Regression and SVM with 5 fold CV"
   ]
  },
  {
   "cell_type": "code",
   "execution_count": 200,
   "id": "ea86357f",
   "metadata": {},
   "outputs": [
    {
     "name": "stdout",
     "output_type": "stream",
     "text": [
      "SVM 5-fold Accuracy: [0.69387755 0.69387755 0.69387755 0.69387755 0.70103093]\n",
      "Mean Accuracy: 0.6953082263833368\n",
      "Log Reg 5-fold Accuracy: [0.70408163 0.73469388 0.63265306 0.66326531 0.67010309]\n",
      "Mean Accuracy: 0.6809593940669051\n"
     ]
    }
   ],
   "source": [
    "svc = SVC(probability=True)\n",
    "scores = cross_val_score(svc, X, y_progression, cv=5, scoring='accuracy')\n",
    "print(\"SVM 5-fold Accuracy:\", scores)\n",
    "print(\"Mean Accuracy:\", scores.mean())\n",
    "\n",
    "scores = cross_val_score(log_reg, X, y_progression, cv=5, scoring='accuracy')\n",
    "print(\"Log Reg 5-fold Accuracy:\", scores)\n",
    "print(\"Mean Accuracy:\", scores.mean())"
   ]
  },
  {
   "cell_type": "code",
   "execution_count": 201,
   "id": "b419fd43",
   "metadata": {},
   "outputs": [
    {
     "name": "stderr",
     "output_type": "stream",
     "text": [
      "C:\\Users\\Yamlak\\anaconda3\\lib\\site-packages\\sklearn\\metrics\\_classification.py:1318: UndefinedMetricWarning: Precision is ill-defined and being set to 0.0 in labels with no predicted samples. Use `zero_division` parameter to control this behavior.\n",
      "  _warn_prf(average, modifier, msg_start, len(result))\n",
      "C:\\Users\\Yamlak\\anaconda3\\lib\\site-packages\\sklearn\\metrics\\_classification.py:1318: UndefinedMetricWarning: Precision is ill-defined and being set to 0.0 in labels with no predicted samples. Use `zero_division` parameter to control this behavior.\n",
      "  _warn_prf(average, modifier, msg_start, len(result))\n",
      "C:\\Users\\Yamlak\\anaconda3\\lib\\site-packages\\sklearn\\metrics\\_classification.py:1318: UndefinedMetricWarning: Precision is ill-defined and being set to 0.0 in labels with no predicted samples. Use `zero_division` parameter to control this behavior.\n",
      "  _warn_prf(average, modifier, msg_start, len(result))\n",
      "C:\\Users\\Yamlak\\anaconda3\\lib\\site-packages\\sklearn\\metrics\\_classification.py:1318: UndefinedMetricWarning: Precision is ill-defined and being set to 0.0 in labels with no predicted samples. Use `zero_division` parameter to control this behavior.\n",
      "  _warn_prf(average, modifier, msg_start, len(result))\n",
      "C:\\Users\\Yamlak\\anaconda3\\lib\\site-packages\\sklearn\\metrics\\_classification.py:1318: UndefinedMetricWarning: Precision is ill-defined and being set to 0.0 in labels with no predicted samples. Use `zero_division` parameter to control this behavior.\n",
      "  _warn_prf(average, modifier, msg_start, len(result))\n"
     ]
    },
    {
     "name": "stdout",
     "output_type": "stream",
     "text": [
      "SVM 5-Fold Cross-Validation Results:\n",
      "accuracy: 0.6953\n",
      "precision_macro: 0.2318\n",
      "recall_macro: 0.3333\n",
      "f1_macro: 0.2734\n",
      "\n",
      "Logistic Regression 5-Fold Cross-Validation Results:\n",
      "accuracy: 0.6810\n",
      "precision_macro: 0.5639\n",
      "recall_macro: 0.5232\n",
      "f1_macro: 0.5304\n"
     ]
    }
   ],
   "source": [
    "from sklearn.model_selection import cross_validate\n",
    "from sklearn.metrics import make_scorer, accuracy_score, precision_score, recall_score, f1_score\n",
    "\n",
    "scoring = {\n",
    "    'accuracy': 'accuracy',\n",
    "    'precision_macro': 'precision_macro',\n",
    "    'recall_macro': 'recall_macro',\n",
    "    'f1_macro': 'f1_macro'\n",
    "}\n",
    "\n",
    "# SVM Cross-Validation\n",
    "svc = SVC(probability=True)\n",
    "cv_results_svm = cross_validate(svc, X, y_progression, cv=5, scoring=scoring)\n",
    "print(\"SVM 5-Fold Cross-Validation Results:\")\n",
    "for metric in scoring.keys():\n",
    "    print(f\"{metric}: {cv_results_svm['test_' + metric].mean():.4f}\")\n",
    "\n",
    "# Logistic Regression Cross-Validation\n",
    "cv_results_log_reg = cross_validate(log_reg, X, y_progression, cv=5, scoring=scoring)\n",
    "print(\"\\nLogistic Regression 5-Fold Cross-Validation Results:\")\n",
    "for metric in scoring.keys():\n",
    "    print(f\"{metric}: {cv_results_log_reg['test_' + metric].mean():.4f}\")\n"
   ]
  },
  {
   "cell_type": "markdown",
   "id": "9b837595",
   "metadata": {},
   "source": [
    "### Neural Network"
   ]
  },
  {
   "cell_type": "code",
   "execution_count": 202,
   "id": "28924f4d",
   "metadata": {},
   "outputs": [
    {
     "name": "stdout",
     "output_type": "stream",
     "text": [
      "Epoch 10/50, Loss: 0.8320\n",
      "Epoch 20/50, Loss: 0.7905\n",
      "Epoch 30/50, Loss: 0.7545\n",
      "Epoch 40/50, Loss: 0.6989\n",
      "Epoch 50/50, Loss: 0.6315\n",
      "\n",
      "Classification Report:\n",
      "              precision    recall  f1-score   support\n",
      "\n",
      "         1.0       1.00      0.05      0.09        22\n",
      "         2.0       0.68      1.00      0.81        66\n",
      "         3.0       0.00      0.00      0.00        10\n",
      "\n",
      "    accuracy                           0.68        98\n",
      "   macro avg       0.56      0.35      0.30        98\n",
      "weighted avg       0.68      0.68      0.56        98\n",
      "\n"
     ]
    },
    {
     "name": "stderr",
     "output_type": "stream",
     "text": [
      "C:\\Users\\Yamlak\\anaconda3\\lib\\site-packages\\sklearn\\metrics\\_classification.py:1318: UndefinedMetricWarning: Precision and F-score are ill-defined and being set to 0.0 in labels with no predicted samples. Use `zero_division` parameter to control this behavior.\n",
      "  _warn_prf(average, modifier, msg_start, len(result))\n",
      "C:\\Users\\Yamlak\\anaconda3\\lib\\site-packages\\sklearn\\metrics\\_classification.py:1318: UndefinedMetricWarning: Precision and F-score are ill-defined and being set to 0.0 in labels with no predicted samples. Use `zero_division` parameter to control this behavior.\n",
      "  _warn_prf(average, modifier, msg_start, len(result))\n",
      "C:\\Users\\Yamlak\\anaconda3\\lib\\site-packages\\sklearn\\metrics\\_classification.py:1318: UndefinedMetricWarning: Precision and F-score are ill-defined and being set to 0.0 in labels with no predicted samples. Use `zero_division` parameter to control this behavior.\n",
      "  _warn_prf(average, modifier, msg_start, len(result))\n"
     ]
    },
    {
     "data": {
      "image/png": "[encoded data removed]",
      "text/plain": [
       "<Figure size 576x360 with 1 Axes>"
      ]
     },
     "metadata": {
      "needs_background": "light"
     },
     "output_type": "display_data"
    }
   ],
   "source": [
    "X = data_filtered[selected_features_for_progression].values\n",
    "y = data_filtered['PATH_N_STAGE'].values\n",
    "\n",
    "label_encoder = LabelEncoder()\n",
    "y_encoded = label_encoder.fit_transform(y)\n",
    "\n",
    "# Train/test split with encoded label\n",
    "X_train, X_test, y_train, y_test = train_test_split(\n",
    "    X, y_encoded, test_size=0.2, random_state=42\n",
    ")\n",
    "\n",
    "# Convert to PyTorch tensors\n",
    "X_train_tensor = torch.tensor(X_train, dtype=torch.float32)\n",
    "X_test_tensor = torch.tensor(X_test, dtype=torch.float32)\n",
    "y_train_tensor = torch.tensor(y_train, dtype=torch.long)\n",
    "y_test_tensor = torch.tensor(y_test, dtype=torch.long)\n",
    "\n",
    "# building the Neural Network\n",
    "class NeuralNet(nn.Module):\n",
    "    def __init__(self, input_dim, num_classes):\n",
    "        super(NeuralNet, self).__init__()\n",
    "        self.hidden1 = nn.Linear(input_dim, 32)\n",
    "        self.hidden2 = nn.Linear(32, 16)\n",
    "        self.output = nn.Linear(16, num_classes)\n",
    "        self.tanh = nn.Tanh()\n",
    "\n",
    "    def forward(self, x):\n",
    "        x = self.tanh(self.hidden1(x))\n",
    "        x = self.tanh(self.hidden2(x))\n",
    "        x = self.output(x)  # No softmax (CrossEntropyLoss handles that)\n",
    "        return x\n",
    "\n",
    "# Model setup\n",
    "input_dim = X_train.shape[1]\n",
    "num_classes = len(label_encoder.classes_)\n",
    "model = NeuralNet(input_dim, num_classes)\n",
    "\n",
    "# Loss and optimizer\n",
    "criterion = nn.CrossEntropyLoss()\n",
    "optimizer = optim.Adam(model.parameters(), lr=0.001)\n",
    "\n",
    "# ----- Step 3: Training Loop -----\n",
    "loss_history = []\n",
    "num_epochs = 50\n",
    "for epoch in range(num_epochs):\n",
    "    model.train()\n",
    "    optimizer.zero_grad()\n",
    "    outputs = model(X_train_tensor)\n",
    "    loss = criterion(outputs, y_train_tensor)\n",
    "    loss.backward()\n",
    "    optimizer.step()\n",
    "\n",
    "    # Store loss\n",
    "    loss_history.append(loss.item())\n",
    "\n",
    "    if (epoch + 1) % 10 == 0:\n",
    "        print(f\"Epoch {epoch+1}/{num_epochs}, Loss: {loss.item():.4f}\")\n",
    "\n",
    "# Evaluation \n",
    "model.eval()\n",
    "with torch.no_grad():\n",
    "    outputs = model(X_test_tensor)\n",
    "    _, predicted = torch.max(outputs, 1)\n",
    "\n",
    "print(\"\\nClassification Report:\")\n",
    "\n",
    "target_names = [str(cls) for cls in label_encoder.classes_]\n",
    "print(classification_report(y_test_tensor, predicted, target_names=target_names))\n",
    "\n",
    "plt.figure(figsize=(8, 5))\n",
    "plt.plot(range(1, num_epochs + 1), loss_history, marker='o', linestyle='-')\n",
    "plt.title(\"Training Loss Over Epochs\")\n",
    "plt.xlabel(\"Epoch\")\n",
    "plt.ylabel(\"Loss\")\n",
    "plt.grid(True)\n",
    "plt.tight_layout()\n",
    "plt.show()\n",
    "\n",
    "\n"
   ]
  },
  {
   "cell_type": "code",
   "execution_count": 203,
   "id": "ee55144f",
   "metadata": {},
   "outputs": [
    {
     "name": "stdout",
     "output_type": "stream",
     "text": [
      "\n",
      "Training on Fold 1/5\n"
     ]
    },
    {
     "name": "stderr",
     "output_type": "stream",
     "text": [
      "C:\\Users\\Yamlak\\anaconda3\\lib\\site-packages\\sklearn\\metrics\\_classification.py:1318: UndefinedMetricWarning: Precision and F-score are ill-defined and being set to 0.0 in labels with no predicted samples. Use `zero_division` parameter to control this behavior.\n",
      "  _warn_prf(average, modifier, msg_start, len(result))\n",
      "C:\\Users\\Yamlak\\anaconda3\\lib\\site-packages\\sklearn\\metrics\\_classification.py:1318: UndefinedMetricWarning: Precision and F-score are ill-defined and being set to 0.0 in labels with no predicted samples. Use `zero_division` parameter to control this behavior.\n",
      "  _warn_prf(average, modifier, msg_start, len(result))\n",
      "C:\\Users\\Yamlak\\anaconda3\\lib\\site-packages\\sklearn\\metrics\\_classification.py:1318: UndefinedMetricWarning: Precision and F-score are ill-defined and being set to 0.0 in labels with no predicted samples. Use `zero_division` parameter to control this behavior.\n",
      "  _warn_prf(average, modifier, msg_start, len(result))\n",
      "C:\\Users\\Yamlak\\anaconda3\\lib\\site-packages\\sklearn\\metrics\\_classification.py:1318: UndefinedMetricWarning: Precision and F-score are ill-defined and being set to 0.0 in labels with no predicted samples. Use `zero_division` parameter to control this behavior.\n",
      "  _warn_prf(average, modifier, msg_start, len(result))\n",
      "C:\\Users\\Yamlak\\anaconda3\\lib\\site-packages\\sklearn\\metrics\\_classification.py:1318: UndefinedMetricWarning: Precision and F-score are ill-defined and being set to 0.0 in labels with no predicted samples. Use `zero_division` parameter to control this behavior.\n",
      "  _warn_prf(average, modifier, msg_start, len(result))\n",
      "C:\\Users\\Yamlak\\anaconda3\\lib\\site-packages\\sklearn\\metrics\\_classification.py:1318: UndefinedMetricWarning: Precision and F-score are ill-defined and being set to 0.0 in labels with no predicted samples. Use `zero_division` parameter to control this behavior.\n",
      "  _warn_prf(average, modifier, msg_start, len(result))\n"
     ]
    },
    {
     "name": "stdout",
     "output_type": "stream",
     "text": [
      "\n",
      "Training on Fold 2/5\n",
      "\n",
      "Training on Fold 3/5\n"
     ]
    },
    {
     "name": "stderr",
     "output_type": "stream",
     "text": [
      "C:\\Users\\Yamlak\\anaconda3\\lib\\site-packages\\sklearn\\metrics\\_classification.py:1318: UndefinedMetricWarning: Precision and F-score are ill-defined and being set to 0.0 in labels with no predicted samples. Use `zero_division` parameter to control this behavior.\n",
      "  _warn_prf(average, modifier, msg_start, len(result))\n",
      "C:\\Users\\Yamlak\\anaconda3\\lib\\site-packages\\sklearn\\metrics\\_classification.py:1318: UndefinedMetricWarning: Precision and F-score are ill-defined and being set to 0.0 in labels with no predicted samples. Use `zero_division` parameter to control this behavior.\n",
      "  _warn_prf(average, modifier, msg_start, len(result))\n",
      "C:\\Users\\Yamlak\\anaconda3\\lib\\site-packages\\sklearn\\metrics\\_classification.py:1318: UndefinedMetricWarning: Precision and F-score are ill-defined and being set to 0.0 in labels with no predicted samples. Use `zero_division` parameter to control this behavior.\n",
      "  _warn_prf(average, modifier, msg_start, len(result))\n",
      "C:\\Users\\Yamlak\\anaconda3\\lib\\site-packages\\sklearn\\metrics\\_classification.py:1318: UndefinedMetricWarning: Precision and F-score are ill-defined and being set to 0.0 in labels with no predicted samples. Use `zero_division` parameter to control this behavior.\n",
      "  _warn_prf(average, modifier, msg_start, len(result))\n",
      "C:\\Users\\Yamlak\\anaconda3\\lib\\site-packages\\sklearn\\metrics\\_classification.py:1318: UndefinedMetricWarning: Precision and F-score are ill-defined and being set to 0.0 in labels with no predicted samples. Use `zero_division` parameter to control this behavior.\n",
      "  _warn_prf(average, modifier, msg_start, len(result))\n",
      "C:\\Users\\Yamlak\\anaconda3\\lib\\site-packages\\sklearn\\metrics\\_classification.py:1318: UndefinedMetricWarning: Precision and F-score are ill-defined and being set to 0.0 in labels with no predicted samples. Use `zero_division` parameter to control this behavior.\n",
      "  _warn_prf(average, modifier, msg_start, len(result))\n"
     ]
    },
    {
     "name": "stdout",
     "output_type": "stream",
     "text": [
      "\n",
      "Training on Fold 4/5\n",
      "\n",
      "Training on Fold 5/5\n",
      "\n",
      "Averaged Classification Report:\n",
      "Class 0: Precision: 0.8083, Recall: 0.2868, F1-Score: 0.4110\n",
      "Class 1: Precision: 0.7231, Recall: 0.9766, F1-Score: 0.8307\n",
      "Class 2: Precision: 0.0000, Recall: 0.0000, F1-Score: 0.0000\n",
      "\n",
      "Overall Accuracy: 0.7239\n"
     ]
    },
    {
     "name": "stderr",
     "output_type": "stream",
     "text": [
      "C:\\Users\\Yamlak\\anaconda3\\lib\\site-packages\\sklearn\\metrics\\_classification.py:1318: UndefinedMetricWarning: Precision and F-score are ill-defined and being set to 0.0 in labels with no predicted samples. Use `zero_division` parameter to control this behavior.\n",
      "  _warn_prf(average, modifier, msg_start, len(result))\n",
      "C:\\Users\\Yamlak\\anaconda3\\lib\\site-packages\\sklearn\\metrics\\_classification.py:1318: UndefinedMetricWarning: Precision and F-score are ill-defined and being set to 0.0 in labels with no predicted samples. Use `zero_division` parameter to control this behavior.\n",
      "  _warn_prf(average, modifier, msg_start, len(result))\n",
      "C:\\Users\\Yamlak\\anaconda3\\lib\\site-packages\\sklearn\\metrics\\_classification.py:1318: UndefinedMetricWarning: Precision and F-score are ill-defined and being set to 0.0 in labels with no predicted samples. Use `zero_division` parameter to control this behavior.\n",
      "  _warn_prf(average, modifier, msg_start, len(result))\n"
     ]
    }
   ],
   "source": [
    "def kfold_cross_validation(X, y, num_folds=5, num_epochs=50):\n",
    "    kf = KFold(n_splits=num_folds, shuffle=True, random_state=42)\n",
    "    \n",
    "    # Initialize lists to collect metrics for averaging\n",
    "    precision_list = []\n",
    "    recall_list = []\n",
    "    f1_list = []\n",
    "    accuracy_list = []\n",
    "\n",
    "    # Start the cross-validation\n",
    "    for fold, (train_idx, test_idx) in enumerate(kf.split(X)):\n",
    "        print(f\"\\nTraining on Fold {fold+1}/{num_folds}\")\n",
    "        \n",
    "        # Split data for current fold\n",
    "        X_train_fold, X_test_fold = X[train_idx], X[test_idx]\n",
    "        y_train_fold, y_test_fold = y[train_idx], y[test_idx]\n",
    "        \n",
    "        # Convert to PyTorch tensors\n",
    "        X_train_tensor = torch.tensor(X_train_fold, dtype=torch.float32)\n",
    "        X_test_tensor = torch.tensor(X_test_fold, dtype=torch.float32)\n",
    "        y_train_tensor = torch.tensor(y_train_fold, dtype=torch.long)\n",
    "        y_test_tensor = torch.tensor(y_test_fold, dtype=torch.long)\n",
    "\n",
    "        # Initialize the model\n",
    "        input_dim = X_train_tensor.shape[1]\n",
    "        num_classes = len(np.unique(y))  # number of unique classes\n",
    "        model = NeuralNet(input_dim, num_classes)\n",
    "\n",
    "        # Loss and optimizer\n",
    "        criterion = nn.CrossEntropyLoss()\n",
    "        optimizer = optim.Adam(model.parameters(), lr=0.001)\n",
    "\n",
    "        # Training loop for the current fold\n",
    "        model.train()\n",
    "        for epoch in range(num_epochs):\n",
    "            optimizer.zero_grad()\n",
    "            outputs = model(X_train_tensor)\n",
    "            loss = criterion(outputs, y_train_tensor)\n",
    "            loss.backward()\n",
    "            optimizer.step()\n",
    "\n",
    "        # Evaluation for the current fold\n",
    "        model.eval()\n",
    "        with torch.no_grad():\n",
    "            outputs = model(X_test_tensor)\n",
    "            _, predicted = torch.max(outputs, 1)\n",
    "\n",
    "        # Store classification report for this fold\n",
    "        report = classification_report(y_test_tensor, predicted, output_dict=True)\n",
    "\n",
    "        # Append individual class metrics (precision, recall, f1-score) for each fold\n",
    "        precision_list.append([report[str(i)]['precision'] for i in range(num_classes)])\n",
    "        recall_list.append([report[str(i)]['recall'] for i in range(num_classes)])\n",
    "        f1_list.append([report[str(i)]['f1-score'] for i in range(num_classes)])\n",
    "        accuracy_list.append(report['accuracy'])\n",
    "\n",
    "    # Average results across all folds for each class and overall accuracy\n",
    "    avg_precision = np.mean(precision_list, axis=0)\n",
    "    avg_recall = np.mean(recall_list, axis=0)\n",
    "    avg_f1 = np.mean(f1_list, axis=0)\n",
    "    avg_accuracy = np.mean(accuracy_list)\n",
    "\n",
    "    # Create a dictionary to store averaged results\n",
    "    avg_report = {\n",
    "        'precision': avg_precision,\n",
    "        'recall': avg_recall,\n",
    "        'f1-score': avg_f1,\n",
    "        'accuracy': avg_accuracy\n",
    "    }\n",
    "\n",
    "    return avg_report\n",
    "\n",
    "\n",
    "# Example Usage\n",
    "avg_report = kfold_cross_validation(X, y_encoded, num_folds=5, num_epochs=50)\n",
    "\n",
    "# Print the averaged classification metrics\n",
    "print(\"\\nAveraged Classification Report:\")\n",
    "for i in range(len(avg_report['precision'])):\n",
    "    print(f\"Class {i}: Precision: {avg_report['precision'][i]:.4f}, Recall: {avg_report['recall'][i]:.4f}, F1-Score: {avg_report['f1-score'][i]:.4f}\")\n",
    "\n",
    "print(f\"\\nOverall Accuracy: {avg_report['accuracy']:.4f}\")"
   ]
  },
  {
   "cell_type": "markdown",
   "id": "b0e2e443",
   "metadata": {},
   "source": [
    "### RandomForest Classifier "
   ]
  },
  {
   "cell_type": "code",
   "execution_count": 204,
   "id": "840d8fac",
   "metadata": {
    "scrolled": true
   },
   "outputs": [
    {
     "name": "stdout",
     "output_type": "stream",
     "text": [
      "              precision    recall  f1-score   support\n",
      "\n",
      "         1.0       1.00      0.05      0.09        22\n",
      "         2.0       0.69      1.00      0.81        66\n",
      "         3.0       1.00      0.10      0.18        10\n",
      "\n",
      "    accuracy                           0.69        98\n",
      "   macro avg       0.90      0.38      0.36        98\n",
      "weighted avg       0.79      0.69      0.59        98\n",
      "\n"
     ]
    }
   ],
   "source": [
    "from sklearn.ensemble import RandomForestClassifier\n",
    "from sklearn.model_selection import train_test_split\n",
    "\n",
    "# Split the data for classification (using Lasso-selected features)\n",
    "X = data_filtered[selected_features_for_progression]\n",
    "y_progression = data_filtered['PATH_N_STAGE']  # Classification target for disease progression\n",
    "\n",
    "X_train, X_test, y_train, y_test = train_test_split(X, y_progression, test_size=0.2, random_state=42)\n",
    "\n",
    "model = RandomForestClassifier(class_weight='balanced')\n",
    "model.fit(X_train, y_train)\n",
    "\n",
    "from sklearn.metrics import classification_report\n",
    "\n",
    "y_pred = model.predict(X_test)\n",
    "print(classification_report(y_test, y_pred, zero_division=0))\n"
   ]
  },
  {
   "cell_type": "code",
   "execution_count": 205,
   "id": "7f508805",
   "metadata": {},
   "outputs": [
    {
     "name": "stderr",
     "output_type": "stream",
     "text": [
      "C:\\Users\\Yamlak\\anaconda3\\lib\\site-packages\\sklearn\\metrics\\_classification.py:1318: UndefinedMetricWarning: Precision is ill-defined and being set to 0.0 in labels with no predicted samples. Use `zero_division` parameter to control this behavior.\n",
      "  _warn_prf(average, modifier, msg_start, len(result))\n"
     ]
    },
    {
     "name": "stdout",
     "output_type": "stream",
     "text": [
      "Random Forest 5-Fold Cross-Validation Results:\n",
      "accuracy: 0.7117\n",
      "precision_macro: 0.6596\n",
      "recall_macro: 0.3889\n",
      "f1_macro: 0.3782\n"
     ]
    },
    {
     "name": "stderr",
     "output_type": "stream",
     "text": [
      "C:\\Users\\Yamlak\\anaconda3\\lib\\site-packages\\sklearn\\metrics\\_classification.py:1318: UndefinedMetricWarning: Precision is ill-defined and being set to 0.0 in labels with no predicted samples. Use `zero_division` parameter to control this behavior.\n",
      "  _warn_prf(average, modifier, msg_start, len(result))\n"
     ]
    }
   ],
   "source": [
    "scoring = ['accuracy', 'precision_macro', 'recall_macro', 'f1_macro']\n",
    "cv_results = cross_validate(model, X, y_progression, cv=5, scoring=scoring)\n",
    "\n",
    "# Display mean scores across 5 folds\n",
    "print(\"Random Forest 5-Fold Cross-Validation Results:\")\n",
    "for metric in scoring:\n",
    "    print(f\"{metric}: {cv_results['test_' + metric].mean():.4f}\")"
   ]
  },
  {
   "cell_type": "markdown",
   "id": "66706b93",
   "metadata": {},
   "source": [
    "### Randomforest with SMOTE sampling"
   ]
  },
  {
   "cell_type": "code",
   "execution_count": 206,
   "id": "93722b6d",
   "metadata": {},
   "outputs": [
    {
     "name": "stdout",
     "output_type": "stream",
     "text": [
      "              precision    recall  f1-score   support\n",
      "\n",
      "         1.0       0.88      0.32      0.47        22\n",
      "         2.0       0.75      0.94      0.83        66\n",
      "         3.0       0.57      0.40      0.47        10\n",
      "\n",
      "    accuracy                           0.74        98\n",
      "   macro avg       0.73      0.55      0.59        98\n",
      "weighted avg       0.76      0.74      0.71        98\n",
      "\n"
     ]
    }
   ],
   "source": [
    "from imblearn.pipeline import Pipeline\n",
    "from imblearn.over_sampling import SMOTE\n",
    "\n",
    "pipeline = Pipeline([\n",
    "    ('smote', SMOTE(random_state=42)),\n",
    "    ('rf', RandomForestClassifier(random_state=42))\n",
    "])\n",
    "\n",
    "pipeline.fit(X_train, y_train)\n",
    "\n",
    "from sklearn.metrics import classification_report\n",
    "\n",
    "y_pred = pipeline.predict(X_test)\n",
    "print(classification_report(y_test, y_pred, zero_division=0))"
   ]
  },
  {
   "cell_type": "code",
   "execution_count": 207,
   "id": "d89c4d5c",
   "metadata": {},
   "outputs": [
    {
     "name": "stdout",
     "output_type": "stream",
     "text": [
      "SMOTE + Random Forest 5-Fold Cross-Validation Results:\n",
      "accuracy: 0.6728\n",
      "precision_macro: 0.5583\n",
      "recall_macro: 0.4840\n",
      "f1_macro: 0.4973\n"
     ]
    }
   ],
   "source": [
    "# Define scoring metrics\n",
    "scoring = {\n",
    "    'accuracy': 'accuracy',\n",
    "    'precision_macro': make_scorer(precision_score, average='macro', zero_division=0),\n",
    "    'recall_macro': make_scorer(recall_score, average='macro', zero_division=0),\n",
    "    'f1_macro': make_scorer(f1_score, average='macro', zero_division=0)\n",
    "}\n",
    "\n",
    "# Perform cross-validation\n",
    "cv_results = cross_validate(pipeline, X, y_progression, cv=5, scoring=scoring)\n",
    "\n",
    "# Display results\n",
    "print(\"SMOTE + Random Forest 5-Fold Cross-Validation Results:\")\n",
    "for metric in scoring:\n",
    "    mean_score = np.mean(cv_results[f'test_{metric}'])\n",
    "    print(f\"{metric}: {mean_score:.4f}\")"
   ]
  },
  {
   "cell_type": "markdown",
   "id": "08aa6a84",
   "metadata": {},
   "source": [
    "# Classification for Therapy response"
   ]
  },
  {
   "cell_type": "markdown",
   "id": "d0b5971b",
   "metadata": {},
   "source": [
    "### Logistic regression and SVM"
   ]
  },
  {
   "cell_type": "code",
   "execution_count": 208,
   "id": "de3817da",
   "metadata": {},
   "outputs": [
    {
     "name": "stdout",
     "output_type": "stream",
     "text": [
      "Logistic Regression Classification Report:\n",
      "              precision    recall  f1-score   support\n",
      "\n",
      "         1.0       0.38      0.31      0.34        16\n",
      "         2.0       0.76      0.84      0.80        69\n",
      "         3.0       0.44      0.31      0.36        13\n",
      "\n",
      "    accuracy                           0.68        98\n",
      "   macro avg       0.53      0.49      0.50        98\n",
      "weighted avg       0.66      0.68      0.67        98\n",
      "\n",
      "SVM Classification Report:\n",
      "              precision    recall  f1-score   support\n",
      "\n",
      "         1.0       0.00      0.00      0.00        16\n",
      "         2.0       0.70      1.00      0.83        69\n",
      "         3.0       0.00      0.00      0.00        13\n",
      "\n",
      "    accuracy                           0.70        98\n",
      "   macro avg       0.23      0.33      0.28        98\n",
      "weighted avg       0.50      0.70      0.58        98\n",
      "\n"
     ]
    },
    {
     "name": "stderr",
     "output_type": "stream",
     "text": [
      "C:\\Users\\Yamlak\\anaconda3\\lib\\site-packages\\sklearn\\metrics\\_classification.py:1318: UndefinedMetricWarning: Precision and F-score are ill-defined and being set to 0.0 in labels with no predicted samples. Use `zero_division` parameter to control this behavior.\n",
      "  _warn_prf(average, modifier, msg_start, len(result))\n",
      "C:\\Users\\Yamlak\\anaconda3\\lib\\site-packages\\sklearn\\metrics\\_classification.py:1318: UndefinedMetricWarning: Precision and F-score are ill-defined and being set to 0.0 in labels with no predicted samples. Use `zero_division` parameter to control this behavior.\n",
      "  _warn_prf(average, modifier, msg_start, len(result))\n",
      "C:\\Users\\Yamlak\\anaconda3\\lib\\site-packages\\sklearn\\metrics\\_classification.py:1318: UndefinedMetricWarning: Precision and F-score are ill-defined and being set to 0.0 in labels with no predicted samples. Use `zero_division` parameter to control this behavior.\n",
      "  _warn_prf(average, modifier, msg_start, len(result))\n"
     ]
    }
   ],
   "source": [
    "\n",
    "X = data_filtered[selected_features_for_response]\n",
    "y_response = data_filtered['NEW_TUMOR_EVENT_AFTER_INITIAL_TREATMENT']  \n",
    "X_train, X_test, y_train, y_test = train_test_split(X, y_response, test_size=0.2, random_state=42)\n",
    "\n",
    "# Logistic Regression\n",
    "log_reg = LogisticRegression(max_iter=10000)\n",
    "log_reg.fit(X_train, y_train)\n",
    "y_pred_log_reg = log_reg.predict(X_test)\n",
    "print(\"Logistic Regression Classification Report:\")\n",
    "print(classification_report(y_test, y_pred_log_reg))\n",
    "\n",
    "# Support Vector Machine (SVM)\n",
    "svm = SVC(probability=True)\n",
    "svm.fit(X_train, y_train)\n",
    "y_pred_svm = svm.predict(X_test)\n",
    "print(\"SVM Classification Report:\")\n",
    "print(classification_report(y_test, y_pred_svm))\n",
    "\n"
   ]
  },
  {
   "cell_type": "markdown",
   "id": "c1a60240",
   "metadata": {},
   "source": [
    "### Logistic regression and SVM with 5 fold CV"
   ]
  },
  {
   "cell_type": "code",
   "execution_count": 209,
   "id": "88d79f64",
   "metadata": {},
   "outputs": [
    {
     "name": "stdout",
     "output_type": "stream",
     "text": [
      "SVM 5-fold Accuracy: [0.7244898  0.7244898  0.71428571 0.71428571 0.72164948]\n",
      "Mean Accuracy: 0.7198401009888492\n",
      "Log Reg 5-fold Accuracy: [0.76530612 0.76530612 0.64285714 0.7244898  0.54639175]\n",
      "Mean Accuracy: 0.6888701872501578\n"
     ]
    }
   ],
   "source": [
    "svc = SVC(probability=True)\n",
    "scores = cross_val_score(svc, X, y_response, cv=5, scoring='accuracy')\n",
    "print(\"SVM 5-fold Accuracy:\", scores)\n",
    "print(\"Mean Accuracy:\", scores.mean())\n",
    "\n",
    "scores = cross_val_score(log_reg, X, y_response, cv=5, scoring='accuracy')\n",
    "print(\"Log Reg 5-fold Accuracy:\", scores)\n",
    "print(\"Mean Accuracy:\", scores.mean())"
   ]
  },
  {
   "cell_type": "code",
   "execution_count": 210,
   "id": "07a3670f",
   "metadata": {},
   "outputs": [
    {
     "name": "stderr",
     "output_type": "stream",
     "text": [
      "C:\\Users\\Yamlak\\anaconda3\\lib\\site-packages\\sklearn\\metrics\\_classification.py:1318: UndefinedMetricWarning: Precision is ill-defined and being set to 0.0 in labels with no predicted samples. Use `zero_division` parameter to control this behavior.\n",
      "  _warn_prf(average, modifier, msg_start, len(result))\n",
      "C:\\Users\\Yamlak\\anaconda3\\lib\\site-packages\\sklearn\\metrics\\_classification.py:1318: UndefinedMetricWarning: Precision is ill-defined and being set to 0.0 in labels with no predicted samples. Use `zero_division` parameter to control this behavior.\n",
      "  _warn_prf(average, modifier, msg_start, len(result))\n",
      "C:\\Users\\Yamlak\\anaconda3\\lib\\site-packages\\sklearn\\metrics\\_classification.py:1318: UndefinedMetricWarning: Precision is ill-defined and being set to 0.0 in labels with no predicted samples. Use `zero_division` parameter to control this behavior.\n",
      "  _warn_prf(average, modifier, msg_start, len(result))\n",
      "C:\\Users\\Yamlak\\anaconda3\\lib\\site-packages\\sklearn\\metrics\\_classification.py:1318: UndefinedMetricWarning: Precision is ill-defined and being set to 0.0 in labels with no predicted samples. Use `zero_division` parameter to control this behavior.\n",
      "  _warn_prf(average, modifier, msg_start, len(result))\n",
      "C:\\Users\\Yamlak\\anaconda3\\lib\\site-packages\\sklearn\\metrics\\_classification.py:1318: UndefinedMetricWarning: Precision is ill-defined and being set to 0.0 in labels with no predicted samples. Use `zero_division` parameter to control this behavior.\n",
      "  _warn_prf(average, modifier, msg_start, len(result))\n"
     ]
    },
    {
     "name": "stdout",
     "output_type": "stream",
     "text": [
      "SVM 5-Fold Cross-Validation Results:\n",
      "accuracy: 0.7198\n",
      "precision_macro: 0.2399\n",
      "recall_macro: 0.3333\n",
      "f1_macro: 0.2790\n",
      "\n",
      "Logistic Regression 5-Fold Cross-Validation Results:\n",
      "accuracy: 0.6889\n",
      "precision_macro: 0.5873\n",
      "recall_macro: 0.4569\n",
      "f1_macro: 0.4764\n"
     ]
    }
   ],
   "source": [
    "scoring = {\n",
    "    'accuracy': 'accuracy',\n",
    "    'precision_macro': 'precision_macro',\n",
    "    'recall_macro': 'recall_macro',\n",
    "    'f1_macro': 'f1_macro'\n",
    "}\n",
    "\n",
    "# SVM Cross-Validation\n",
    "svc = SVC(probability=True)\n",
    "cv_results_svm = cross_validate(svc, X, y_response, cv=5, scoring=scoring)\n",
    "print(\"SVM 5-Fold Cross-Validation Results:\")\n",
    "for metric in scoring.keys():\n",
    "    print(f\"{metric}: {cv_results_svm['test_' + metric].mean():.4f}\")\n",
    "\n",
    "# Logistic Regression Cross-Validation\n",
    "cv_results_log_reg = cross_validate(log_reg, X, y_response, cv=5, scoring=scoring)\n",
    "print(\"\\nLogistic Regression 5-Fold Cross-Validation Results:\")\n",
    "for metric in scoring.keys():\n",
    "    print(f\"{metric}: {cv_results_log_reg['test_' + metric].mean():.4f}\")"
   ]
  },
  {
   "cell_type": "markdown",
   "id": "b7acf148",
   "metadata": {},
   "source": [
    "### Neural Network"
   ]
  },
  {
   "cell_type": "code",
   "execution_count": 213,
   "id": "5c95990f",
   "metadata": {},
   "outputs": [
    {
     "name": "stdout",
     "output_type": "stream",
     "text": [
      "Epoch 10/50, Loss: 0.8652\n",
      "Epoch 20/50, Loss: 0.7743\n",
      "Epoch 30/50, Loss: 0.7583\n",
      "Epoch 40/50, Loss: 0.7384\n",
      "Epoch 50/50, Loss: 0.7164\n",
      "\n",
      "Classification Report:\n",
      "              precision    recall  f1-score   support\n",
      "\n",
      "         1.0       0.00      0.00      0.00        16\n",
      "         2.0       0.70      1.00      0.83        69\n",
      "         3.0       0.00      0.00      0.00        13\n",
      "\n",
      "    accuracy                           0.70        98\n",
      "   macro avg       0.23      0.33      0.28        98\n",
      "weighted avg       0.50      0.70      0.58        98\n",
      "\n"
     ]
    },
    {
     "name": "stderr",
     "output_type": "stream",
     "text": [
      "C:\\Users\\Yamlak\\anaconda3\\lib\\site-packages\\sklearn\\metrics\\_classification.py:1318: UndefinedMetricWarning: Precision and F-score are ill-defined and being set to 0.0 in labels with no predicted samples. Use `zero_division` parameter to control this behavior.\n",
      "  _warn_prf(average, modifier, msg_start, len(result))\n",
      "C:\\Users\\Yamlak\\anaconda3\\lib\\site-packages\\sklearn\\metrics\\_classification.py:1318: UndefinedMetricWarning: Precision and F-score are ill-defined and being set to 0.0 in labels with no predicted samples. Use `zero_division` parameter to control this behavior.\n",
      "  _warn_prf(average, modifier, msg_start, len(result))\n",
      "C:\\Users\\Yamlak\\anaconda3\\lib\\site-packages\\sklearn\\metrics\\_classification.py:1318: UndefinedMetricWarning: Precision and F-score are ill-defined and being set to 0.0 in labels with no predicted samples. Use `zero_division` parameter to control this behavior.\n",
      "  _warn_prf(average, modifier, msg_start, len(result))\n"
     ]
    },
    {
     "data": {
      "image/png": "[encoded data removed]",
      "text/plain": [
       "<Figure size 576x360 with 1 Axes>"
      ]
     },
     "metadata": {
      "needs_background": "light"
     },
     "output_type": "display_data"
    }
   ],
   "source": [
    "\n",
    "X = data_filtered[selected_features_for_response].values\n",
    "y = data_filtered['NEW_TUMOR_EVENT_AFTER_INITIAL_TREATMENT'] .values\n",
    "\n",
    "label_encoder = LabelEncoder()\n",
    "y_encoded = label_encoder.fit_transform(y)\n",
    "\n",
    "# Train/test split with encoded label\n",
    "X_train, X_test, y_train, y_test = train_test_split(\n",
    "    X, y_encoded, test_size=0.2, random_state=42\n",
    ")\n",
    "\n",
    "# Convert to PyTorch tensors\n",
    "X_train_tensor = torch.tensor(X_train, dtype=torch.float32)\n",
    "X_test_tensor = torch.tensor(X_test, dtype=torch.float32)\n",
    "y_train_tensor = torch.tensor(y_train, dtype=torch.long)\n",
    "y_test_tensor = torch.tensor(y_test, dtype=torch.long)\n",
    "\n",
    "# building the Neural Network\n",
    "class NeuralNet(nn.Module):\n",
    "    def __init__(self, input_dim, num_classes):\n",
    "        super(NeuralNet, self).__init__()\n",
    "        self.hidden1 = nn.Linear(input_dim, 32)\n",
    "        self.hidden2 = nn.Linear(32, 16)\n",
    "        self.output = nn.Linear(16, num_classes)\n",
    "        self.tanh = nn.Tanh()\n",
    "\n",
    "    def forward(self, x):\n",
    "        x = self.tanh(self.hidden1(x))\n",
    "        x = self.tanh(self.hidden2(x))\n",
    "        x = self.output(x)  # No softmax (CrossEntropyLoss handles that)\n",
    "        return x\n",
    "\n",
    "# Model setup\n",
    "input_dim = X_train.shape[1]\n",
    "num_classes = len(label_encoder.classes_)\n",
    "model = NeuralNet(input_dim, num_classes)\n",
    "\n",
    "# Loss and optimizer\n",
    "criterion = nn.CrossEntropyLoss()\n",
    "optimizer = optim.Adam(model.parameters(), lr=0.001)\n",
    "\n",
    "# Training Loop \n",
    "loss_history = []\n",
    "num_epochs = 50\n",
    "for epoch in range(num_epochs):\n",
    "    model.train()\n",
    "    optimizer.zero_grad()\n",
    "    outputs = model(X_train_tensor)\n",
    "    loss = criterion(outputs, y_train_tensor)\n",
    "    loss.backward()\n",
    "    optimizer.step()\n",
    "\n",
    "    # Store loss\n",
    "    loss_history.append(loss.item())\n",
    "\n",
    "    if (epoch + 1) % 10 == 0:\n",
    "        print(f\"Epoch {epoch+1}/{num_epochs}, Loss: {loss.item():.4f}\")\n",
    "\n",
    "# Evaluation \n",
    "model.eval()\n",
    "with torch.no_grad():\n",
    "    outputs = model(X_test_tensor)\n",
    "    _, predicted = torch.max(outputs, 1)\n",
    "\n",
    "print(\"\\nClassification Report:\")\n",
    "\n",
    "target_names = [str(cls) for cls in label_encoder.classes_]\n",
    "print(classification_report(y_test_tensor, predicted, target_names=target_names))\n",
    "\n",
    "plt.figure(figsize=(8, 5))\n",
    "plt.plot(range(1, num_epochs + 1), loss_history, marker='o', linestyle='-')\n",
    "plt.title(\"Training Loss Over Epochs\")\n",
    "plt.xlabel(\"Epoch\")\n",
    "plt.ylabel(\"Loss\")\n",
    "plt.grid(True)\n",
    "plt.tight_layout()\n",
    "plt.show()\n",
    "\n",
    "\n"
   ]
  },
  {
   "cell_type": "code",
   "execution_count": 214,
   "id": "f54f987f",
   "metadata": {},
   "outputs": [
    {
     "name": "stdout",
     "output_type": "stream",
     "text": [
      "\n",
      "Training on Fold 1/5\n"
     ]
    },
    {
     "name": "stderr",
     "output_type": "stream",
     "text": [
      "C:\\Users\\Yamlak\\anaconda3\\lib\\site-packages\\sklearn\\metrics\\_classification.py:1318: UndefinedMetricWarning: Precision and F-score are ill-defined and being set to 0.0 in labels with no predicted samples. Use `zero_division` parameter to control this behavior.\n",
      "  _warn_prf(average, modifier, msg_start, len(result))\n",
      "C:\\Users\\Yamlak\\anaconda3\\lib\\site-packages\\sklearn\\metrics\\_classification.py:1318: UndefinedMetricWarning: Precision and F-score are ill-defined and being set to 0.0 in labels with no predicted samples. Use `zero_division` parameter to control this behavior.\n",
      "  _warn_prf(average, modifier, msg_start, len(result))\n",
      "C:\\Users\\Yamlak\\anaconda3\\lib\\site-packages\\sklearn\\metrics\\_classification.py:1318: UndefinedMetricWarning: Precision and F-score are ill-defined and being set to 0.0 in labels with no predicted samples. Use `zero_division` parameter to control this behavior.\n",
      "  _warn_prf(average, modifier, msg_start, len(result))\n",
      "C:\\Users\\Yamlak\\anaconda3\\lib\\site-packages\\sklearn\\metrics\\_classification.py:1318: UndefinedMetricWarning: Precision and F-score are ill-defined and being set to 0.0 in labels with no predicted samples. Use `zero_division` parameter to control this behavior.\n",
      "  _warn_prf(average, modifier, msg_start, len(result))\n",
      "C:\\Users\\Yamlak\\anaconda3\\lib\\site-packages\\sklearn\\metrics\\_classification.py:1318: UndefinedMetricWarning: Precision and F-score are ill-defined and being set to 0.0 in labels with no predicted samples. Use `zero_division` parameter to control this behavior.\n",
      "  _warn_prf(average, modifier, msg_start, len(result))\n",
      "C:\\Users\\Yamlak\\anaconda3\\lib\\site-packages\\sklearn\\metrics\\_classification.py:1318: UndefinedMetricWarning: Precision and F-score are ill-defined and being set to 0.0 in labels with no predicted samples. Use `zero_division` parameter to control this behavior.\n",
      "  _warn_prf(average, modifier, msg_start, len(result))\n"
     ]
    },
    {
     "name": "stdout",
     "output_type": "stream",
     "text": [
      "\n",
      "Training on Fold 2/5\n",
      "\n",
      "Training on Fold 3/5\n"
     ]
    },
    {
     "name": "stderr",
     "output_type": "stream",
     "text": [
      "C:\\Users\\Yamlak\\anaconda3\\lib\\site-packages\\sklearn\\metrics\\_classification.py:1318: UndefinedMetricWarning: Precision and F-score are ill-defined and being set to 0.0 in labels with no predicted samples. Use `zero_division` parameter to control this behavior.\n",
      "  _warn_prf(average, modifier, msg_start, len(result))\n",
      "C:\\Users\\Yamlak\\anaconda3\\lib\\site-packages\\sklearn\\metrics\\_classification.py:1318: UndefinedMetricWarning: Precision and F-score are ill-defined and being set to 0.0 in labels with no predicted samples. Use `zero_division` parameter to control this behavior.\n",
      "  _warn_prf(average, modifier, msg_start, len(result))\n",
      "C:\\Users\\Yamlak\\anaconda3\\lib\\site-packages\\sklearn\\metrics\\_classification.py:1318: UndefinedMetricWarning: Precision and F-score are ill-defined and being set to 0.0 in labels with no predicted samples. Use `zero_division` parameter to control this behavior.\n",
      "  _warn_prf(average, modifier, msg_start, len(result))\n",
      "C:\\Users\\Yamlak\\anaconda3\\lib\\site-packages\\sklearn\\metrics\\_classification.py:1318: UndefinedMetricWarning: Precision and F-score are ill-defined and being set to 0.0 in labels with no predicted samples. Use `zero_division` parameter to control this behavior.\n",
      "  _warn_prf(average, modifier, msg_start, len(result))\n",
      "C:\\Users\\Yamlak\\anaconda3\\lib\\site-packages\\sklearn\\metrics\\_classification.py:1318: UndefinedMetricWarning: Precision and F-score are ill-defined and being set to 0.0 in labels with no predicted samples. Use `zero_division` parameter to control this behavior.\n",
      "  _warn_prf(average, modifier, msg_start, len(result))\n",
      "C:\\Users\\Yamlak\\anaconda3\\lib\\site-packages\\sklearn\\metrics\\_classification.py:1318: UndefinedMetricWarning: Precision and F-score are ill-defined and being set to 0.0 in labels with no predicted samples. Use `zero_division` parameter to control this behavior.\n",
      "  _warn_prf(average, modifier, msg_start, len(result))\n"
     ]
    },
    {
     "name": "stdout",
     "output_type": "stream",
     "text": [
      "\n",
      "Training on Fold 4/5\n",
      "\n",
      "Training on Fold 5/5\n",
      "\n",
      "Averaged Classification Report:\n",
      "Class 0: Precision: 0.0667, Recall: 0.0154, F1-Score: 0.0250\n",
      "Class 1: Precision: 0.7204, Recall: 0.9944, F1-Score: 0.8348\n",
      "Class 2: Precision: 0.0000, Recall: 0.0000, F1-Score: 0.0000\n",
      "\n",
      "Overall Accuracy: 0.7179\n"
     ]
    },
    {
     "name": "stderr",
     "output_type": "stream",
     "text": [
      "C:\\Users\\Yamlak\\anaconda3\\lib\\site-packages\\sklearn\\metrics\\_classification.py:1318: UndefinedMetricWarning: Precision and F-score are ill-defined and being set to 0.0 in labels with no predicted samples. Use `zero_division` parameter to control this behavior.\n",
      "  _warn_prf(average, modifier, msg_start, len(result))\n",
      "C:\\Users\\Yamlak\\anaconda3\\lib\\site-packages\\sklearn\\metrics\\_classification.py:1318: UndefinedMetricWarning: Precision and F-score are ill-defined and being set to 0.0 in labels with no predicted samples. Use `zero_division` parameter to control this behavior.\n",
      "  _warn_prf(average, modifier, msg_start, len(result))\n",
      "C:\\Users\\Yamlak\\anaconda3\\lib\\site-packages\\sklearn\\metrics\\_classification.py:1318: UndefinedMetricWarning: Precision and F-score are ill-defined and being set to 0.0 in labels with no predicted samples. Use `zero_division` parameter to control this behavior.\n",
      "  _warn_prf(average, modifier, msg_start, len(result))\n"
     ]
    }
   ],
   "source": [
    "avg_report = kfold_cross_validation(X, y_encoded, num_folds=5, num_epochs=50)\n",
    "\n",
    "# Print the averaged classification metrics\n",
    "print(\"\\nAveraged Classification Report:\")\n",
    "for i in range(len(avg_report['precision'])):\n",
    "    print(f\"Class {i}: Precision: {avg_report['precision'][i]:.4f}, Recall: {avg_report['recall'][i]:.4f}, F1-Score: {avg_report['f1-score'][i]:.4f}\")\n",
    "\n",
    "print(f\"\\nOverall Accuracy: {avg_report['accuracy']:.4f}\")"
   ]
  },
  {
   "cell_type": "markdown",
   "id": "b95e96a3",
   "metadata": {},
   "source": [
    "### Randomforest classifier"
   ]
  },
  {
   "cell_type": "code",
   "execution_count": 186,
   "id": "1eaa2297",
   "metadata": {},
   "outputs": [
    {
     "name": "stdout",
     "output_type": "stream",
     "text": [
      "              precision    recall  f1-score   support\n",
      "\n",
      "           0       0.00      0.00      0.00        16\n",
      "           1       0.71      0.96      0.81        69\n",
      "           2       0.00      0.00      0.00        13\n",
      "\n",
      "    accuracy                           0.67        98\n",
      "   macro avg       0.24      0.32      0.27        98\n",
      "weighted avg       0.50      0.67      0.57        98\n",
      "\n"
     ]
    }
   ],
   "source": [
    "model = RandomForestClassifier(class_weight='balanced')\n",
    "model.fit(X_train, y_train)\n",
    "\n",
    "\n",
    "y_pred = model.predict(X_test)\n",
    "print(classification_report(y_test, y_pred, zero_division=0))"
   ]
  },
  {
   "cell_type": "code",
   "execution_count": 187,
   "id": "9f371373",
   "metadata": {},
   "outputs": [
    {
     "name": "stderr",
     "output_type": "stream",
     "text": [
      "C:\\Users\\Yamlak\\anaconda3\\lib\\site-packages\\sklearn\\metrics\\_classification.py:1318: UndefinedMetricWarning: Precision is ill-defined and being set to 0.0 in labels with no predicted samples. Use `zero_division` parameter to control this behavior.\n",
      "  _warn_prf(average, modifier, msg_start, len(result))\n",
      "C:\\Users\\Yamlak\\anaconda3\\lib\\site-packages\\sklearn\\metrics\\_classification.py:1318: UndefinedMetricWarning: Precision is ill-defined and being set to 0.0 in labels with no predicted samples. Use `zero_division` parameter to control this behavior.\n",
      "  _warn_prf(average, modifier, msg_start, len(result))\n"
     ]
    },
    {
     "name": "stdout",
     "output_type": "stream",
     "text": [
      "Random Forest 5-Fold Cross-Validation Results:\n",
      "accuracy: 0.6931\n",
      "precision_macro: 0.4844\n",
      "recall_macro: 0.3685\n",
      "f1_macro: 0.3498\n"
     ]
    },
    {
     "name": "stderr",
     "output_type": "stream",
     "text": [
      "C:\\Users\\Yamlak\\anaconda3\\lib\\site-packages\\sklearn\\metrics\\_classification.py:1318: UndefinedMetricWarning: Precision is ill-defined and being set to 0.0 in labels with no predicted samples. Use `zero_division` parameter to control this behavior.\n",
      "  _warn_prf(average, modifier, msg_start, len(result))\n"
     ]
    }
   ],
   "source": [
    "scoring = ['accuracy', 'precision_macro', 'recall_macro', 'f1_macro']\n",
    "cv_results = cross_validate(model, X, y_response, cv=5, scoring=scoring)\n",
    "\n",
    "# Display mean scores across 5 folds\n",
    "print(\"Random Forest 5-Fold Cross-Validation Results:\")\n",
    "for metric in scoring:\n",
    "    print(f\"{metric}: {cv_results['test_' + metric].mean():.4f}\")"
   ]
  },
  {
   "cell_type": "markdown",
   "id": "c14ba2b4",
   "metadata": {},
   "source": [
    "### Randomforest with SMOTE"
   ]
  },
  {
   "cell_type": "code",
   "execution_count": 191,
   "id": "a4e4020b",
   "metadata": {},
   "outputs": [
    {
     "name": "stdout",
     "output_type": "stream",
     "text": [
      "              precision    recall  f1-score   support\n",
      "\n",
      "         1.0       0.28      0.31      0.29        16\n",
      "         2.0       0.83      0.84      0.83        69\n",
      "         3.0       0.60      0.46      0.52        13\n",
      "\n",
      "    accuracy                           0.70        98\n",
      "   macro avg       0.57      0.54      0.55        98\n",
      "weighted avg       0.71      0.70      0.70        98\n",
      "\n"
     ]
    }
   ],
   "source": [
    "pipeline.fit(X_train, y_train)\n",
    "\n",
    "\n",
    "y_pred = pipeline.predict(X_test)\n",
    "print(classification_report(y_test, y_pred, zero_division=0))"
   ]
  },
  {
   "cell_type": "code",
   "execution_count": 192,
   "id": "a6a6e72b",
   "metadata": {},
   "outputs": [
    {
     "name": "stdout",
     "output_type": "stream",
     "text": [
      "SMOTE + Random Forest 5-Fold Cross-Validation Results:\n",
      "accuracy: 0.6888\n",
      "precision_macro: 0.6537\n",
      "recall_macro: 0.5096\n",
      "f1_macro: 0.5218\n"
     ]
    }
   ],
   "source": [
    "scoring = {\n",
    "    'accuracy': 'accuracy',\n",
    "    'precision_macro': make_scorer(precision_score, average='macro', zero_division=0),\n",
    "    'recall_macro': make_scorer(recall_score, average='macro', zero_division=0),\n",
    "    'f1_macro': make_scorer(f1_score, average='macro', zero_division=0)\n",
    "}\n",
    "\n",
    "# Perform cross-validation\n",
    "cv_results = cross_validate(pipeline, X, y_response, cv=5, scoring=scoring)\n",
    "\n",
    "# Display results\n",
    "print(\"SMOTE + Random Forest 5-Fold Cross-Validation Results:\")\n",
    "for metric in scoring:\n",
    "    mean_score = np.mean(cv_results[f'test_{metric}'])\n",
    "    print(f\"{metric}: {mean_score:.4f}\")"
   ]
  },
  {
   "cell_type": "code",
   "execution_count": null,
   "id": "e40eb901",
   "metadata": {},
   "outputs": [],
   "source": []
  }
 ],
 "metadata": {
  "kernelspec": {
   "display_name": "Python 3",
   "language": "python",
   "name": "python3"
  },
  "language_info": {
   "codemirror_mode": {
    "name": "ipython",
    "version": 3
   },
   "file_extension": ".py",
   "mimetype": "text/x-python",
   "name": "python",
   "nbconvert_exporter": "python",
   "pygments_lexer": "ipython3",
   "version": "3.9.12"
  }
 },
 "nbformat": 4,
 "nbformat_minor": 5
}
