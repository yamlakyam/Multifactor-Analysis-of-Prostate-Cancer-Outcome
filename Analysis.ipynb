{
 "cells": [
  {
   "cell_type": "code",
   "execution_count": 1,
   "id": "57a84183",
   "metadata": {},
   "outputs": [
    {
     "name": "stdout",
     "output_type": "stream",
     "text": [
      " Volume in drive C is Windows \n",
      " Volume Serial Number is 04F5-FC96\n",
      "\n",
      " Directory of C:\\Users\\Yamlak\\Documents\\IU PhD Journey\\ML for BioInformatics\\Multifactor Analysis of Prostate Cancer\n",
      "\n",
      "22/03/2025  10:27    <DIR>          .\n",
      "22/03/2025  09:46    <DIR>          ..\n",
      "22/03/2025  10:27    <DIR>          .ipynb_checkpoints\n",
      "22/03/2025  10:27                72 Analysis.ipynb\n",
      "22/03/2025  10:21       127,450,102 data_curated_trans.csv\n",
      "               2 File(s)    127,450,174 bytes\n",
      "               3 Dir(s)  10,952,663,040 bytes free\n"
     ]
    }
   ],
   "source": [
    "ls\n"
   ]
  },
  {
   "cell_type": "code",
   "execution_count": 43,
   "id": "30a92aef",
   "metadata": {},
   "outputs": [],
   "source": [
    "import pandas as pd\n",
    "import matplotlib.pyplot as plt\n",
    "import numpy as np\n"
   ]
  },
  {
   "cell_type": "code",
   "execution_count": 58,
   "id": "ff31855c",
   "metadata": {},
   "outputs": [],
   "source": [
    "data = pd.read_csv('data_curated_trans.csv')"
   ]
  },
  {
   "cell_type": "code",
   "execution_count": 59,
   "id": "603a77ca",
   "metadata": {},
   "outputs": [
    {
     "name": "stdout",
     "output_type": "stream",
     "text": [
      "<class 'pandas.core.frame.DataFrame'>\n",
      "RangeIndex: 489 entries, 0 to 488\n",
      "Columns: 45606 entries, PATIENT_ID to hsa-mir-224\n",
      "dtypes: float64(45605), object(1)\n",
      "memory usage: 170.1+ MB\n"
     ]
    }
   ],
   "source": [
    "data.info()"
   ]
  },
  {
   "cell_type": "code",
   "execution_count": 60,
   "id": "298423b3",
   "metadata": {},
   "outputs": [
    {
     "name": "stdout",
     "output_type": "stream",
     "text": [
      "Dataset Shape: (489, 45606)\n",
      "\n",
      "First 5 rows of the dataset:\n",
      "     PATIENT_ID  PATH_N_STAGE  NEW_TUMOR_EVENT_AFTER_INITIAL_TREATMENT  \\\n",
      "0  TCGA-2A-A8VL           2.0                                      2.0   \n",
      "1  TCGA-2A-A8VO           3.0                                      2.0   \n",
      "2  TCGA-2A-A8VT           1.0                                      2.0   \n",
      "3  TCGA-2A-A8VV           2.0                                      2.0   \n",
      "4  TCGA-2A-A8VX           2.0                                      2.0   \n",
      "\n",
      "   PATH_T_STAGE  PRIOR_DX  RADIATION_THERAPY   AGE  M_UBE2Q2P2  M_HMGB1P1  \\\n",
      "0           1.0       2.0                2.0  51.0     -0.0361        NaN   \n",
      "1           2.0       2.0                2.0  57.0     -0.3004        NaN   \n",
      "2           2.0       2.0                1.0  47.0      3.1758        NaN   \n",
      "3           1.0       2.0                2.0  52.0     -0.1102        NaN   \n",
      "4           2.0       2.0                2.0  70.0     -0.7052        NaN   \n",
      "\n",
      "   M_LOC155060  ...  hsa-mir-1321  hsa-mir-361  hsa-mir-548m  hsa-mir-652  \\\n",
      "0       0.3014  ...           0.0          0.0           0.0          0.0   \n",
      "1       0.6841  ...           0.0          0.0           0.0          0.0   \n",
      "2       2.8191  ...          -1.0         -1.0          -1.0         -1.0   \n",
      "3      -0.1719  ...           0.0          0.0           0.0          0.0   \n",
      "4       0.3580  ...           0.0          0.0           0.0          0.0   \n",
      "\n",
      "   hsa-mir-220a  hsa-mir-513c  hsa-mir-513b  hsa-mir-513a-1  hsa-mir-513a-2  \\\n",
      "0           0.0           0.0           0.0             0.0             0.0   \n",
      "1           0.0           0.0           0.0             0.0             0.0   \n",
      "2          -1.0          -1.0          -1.0            -1.0            -1.0   \n",
      "3           0.0           0.0           0.0             0.0             0.0   \n",
      "4           0.0           0.0           0.0             0.0             0.0   \n",
      "\n",
      "   hsa-mir-224  \n",
      "0          0.0  \n",
      "1          0.0  \n",
      "2         -1.0  \n",
      "3          0.0  \n",
      "4          0.0  \n",
      "\n",
      "[5 rows x 45606 columns]\n",
      "\n",
      "Total number of columns: 45606\n"
     ]
    }
   ],
   "source": [
    "print(\"Dataset Shape:\", data.shape)  # (rows, columns)\n",
    "print(\"\\nFirst 5 rows of the dataset:\")\n",
    "print(data.head())\n",
    "\n",
    "\n",
    "num_columns = data.shape[1]\n",
    "print(f\"\\nTotal number of columns: {num_columns}\")"
   ]
  },
  {
   "cell_type": "code",
   "execution_count": 61,
   "id": "0e15eec4",
   "metadata": {},
   "outputs": [
    {
     "data": {
      "text/plain": [
       "PATIENT_ID                                 0\n",
       "PATH_N_STAGE                               0\n",
       "NEW_TUMOR_EVENT_AFTER_INITIAL_TREATMENT    0\n",
       "PATH_T_STAGE                               0\n",
       "PRIOR_DX                                   0\n",
       "                                          ..\n",
       "hsa-mir-513c                               0\n",
       "hsa-mir-513b                               0\n",
       "hsa-mir-513a-1                             0\n",
       "hsa-mir-513a-2                             0\n",
       "hsa-mir-224                                0\n",
       "Length: 45606, dtype: int64"
      ]
     },
     "execution_count": 61,
     "metadata": {},
     "output_type": "execute_result"
    }
   ],
   "source": [
    "missing_values = data.isnull().sum()\n",
    "missing_values "
   ]
  },
  {
   "cell_type": "code",
   "execution_count": 62,
   "id": "95fc295a",
   "metadata": {},
   "outputs": [
    {
     "data": {
      "text/plain": [
       "281754"
      ]
     },
     "execution_count": 62,
     "metadata": {},
     "output_type": "execute_result"
    }
   ],
   "source": [
    "missing_values.sum()"
   ]
  },
  {
   "cell_type": "code",
   "execution_count": 63,
   "id": "4c2dffb3",
   "metadata": {},
   "outputs": [
    {
     "name": "stdout",
     "output_type": "stream",
     "text": [
      "\n",
      "Columns with missing values and their count:\n",
      "M_HMGB1P1     489\n",
      "M_RNU12-2P    489\n",
      "M_SSX9         33\n",
      "M_CXORF67     489\n",
      "M_EFCAB8      489\n",
      "             ... \n",
      "M_ZNF679       33\n",
      "M_ZNF735       33\n",
      "M_ZNF99        33\n",
      "M_ZP4          33\n",
      "M_ZSWIM2       33\n",
      "Length: 1546, dtype: int64\n"
     ]
    }
   ],
   "source": [
    "\n",
    "# Filter columns that have missing values\n",
    "columns_with_missing = missing_values[missing_values > 0]\n",
    "\n",
    "# Display missing values\n",
    "print(\"\\nColumns with missing values and their count:\")\n",
    "print(columns_with_missing)\n"
   ]
  },
  {
   "cell_type": "code",
   "execution_count": 64,
   "id": "84144b87",
   "metadata": {},
   "outputs": [],
   "source": [
    "data_cleaned = data.dropna(axis=1)"
   ]
  },
  {
   "cell_type": "code",
   "execution_count": 65,
   "id": "82d72ae1",
   "metadata": {},
   "outputs": [
    {
     "data": {
      "text/plain": [
       "((489, 45606), (489, 44060))"
      ]
     },
     "execution_count": 65,
     "metadata": {},
     "output_type": "execute_result"
    }
   ],
   "source": [
    "data.shape, data_cleaned.shape"
   ]
  },
  {
   "cell_type": "code",
   "execution_count": 66,
   "id": "87310121",
   "metadata": {},
   "outputs": [
    {
     "data": {
      "text/plain": [
       "0"
      ]
     },
     "execution_count": 66,
     "metadata": {},
     "output_type": "execute_result"
    }
   ],
   "source": [
    "data_cleaned.isnull().sum().sum()"
   ]
  },
  {
   "cell_type": "code",
   "execution_count": 67,
   "id": "71ccf040",
   "metadata": {},
   "outputs": [],
   "source": [
    "numerical_cols = data_cleaned.select_dtypes(include=['number']).columns\n",
    "\n",
    "num_features = len(numerical_cols)\n",
    "features_per_plot = 20\n",
    "num_plots = int(np.ceil(num_features / features_per_plot))\n",
    "\n",
    "# Generate box plots in batches of 20 features\n",
    "# for i in range(num_plots):\n",
    "#     plt.figure(figsize=(15, 6))\n",
    "    \n",
    "\n",
    "#     subset_cols = numerical_cols[i * features_per_plot : (i + 1) * features_per_plot]\n",
    "    \n",
    "\n",
    "#     data_cleaned[subset_cols].boxplot()\n",
    "#     plt.xticks(rotation=90)\n",
    "#     plt.title(f\"Boxplot for Features {i * features_per_plot + 1} to {(i + 1) * features_per_plot}\")\n",
    "#     plt.show()"
   ]
  },
  {
   "cell_type": "code",
   "execution_count": 68,
   "id": "b8a2c56c",
   "metadata": {},
   "outputs": [
    {
     "data": {
      "text/plain": [
       "Index(['PATIENT_ID', 'PATH_N_STAGE', 'NEW_TUMOR_EVENT_AFTER_INITIAL_TREATMENT',\n",
       "       'PATH_T_STAGE', 'PRIOR_DX', 'RADIATION_THERAPY', 'AGE', 'M_UBE2Q2P2',\n",
       "       'M_LOC155060', 'M_GTPBP6',\n",
       "       ...\n",
       "       'hsa-mir-1321', 'hsa-mir-361', 'hsa-mir-548m', 'hsa-mir-652',\n",
       "       'hsa-mir-220a', 'hsa-mir-513c', 'hsa-mir-513b', 'hsa-mir-513a-1',\n",
       "       'hsa-mir-513a-2', 'hsa-mir-224'],\n",
       "      dtype='object', length=44060)"
      ]
     },
     "execution_count": 68,
     "metadata": {},
     "output_type": "execute_result"
    }
   ],
   "source": [
    "data_cleaned.columns "
   ]
  },
  {
   "cell_type": "code",
   "execution_count": 69,
   "id": "8c01b562",
   "metadata": {},
   "outputs": [],
   "source": [
    "exclude_columns = ['PATIENT_ID', 'PATH_N_STAGE', 'NEW_TUMOR_EVENT_AFTER_INITIAL_TREATMENT', \n",
    "                   'PATH_T_STAGE', 'PRIOR_DX', 'RADIATION_THERAPY', 'AGE']\n",
    "\n",
    "# Exclude the specified columns\n",
    "data_filtered = data_cleaned.drop(columns=exclude_columns)"
   ]
  },
  {
   "cell_type": "code",
   "execution_count": 70,
   "id": "fef8fa8b",
   "metadata": {},
   "outputs": [
    {
     "name": "stdout",
     "output_type": "stream",
     "text": [
      "Original number of features: 44060\n",
      "Number of features after filtering: 43964\n",
      "\n",
      "Columns with smaller variability (excluding excluded ones):\n",
      "Index(['M_UBE2Q2P2', 'M_LOC155060', 'M_GTPBP6', 'M_EFCAB12', 'M_A1BG',\n",
      "       'M_A1CF', 'M_RBFOX1', 'M_GGACT', 'M_A2M', 'M_A2ML1',\n",
      "       ...\n",
      "       'hsa-mir-1321', 'hsa-mir-361', 'hsa-mir-548m', 'hsa-mir-652',\n",
      "       'hsa-mir-220a', 'hsa-mir-513c', 'hsa-mir-513b', 'hsa-mir-513a-1',\n",
      "       'hsa-mir-513a-2', 'hsa-mir-224'],\n",
      "      dtype='object', length=43957)\n"
     ]
    }
   ],
   "source": [
    "exclude_columns = ['PATIENT_ID', 'PATH_N_STAGE', 'NEW_TUMOR_EVENT_AFTER_INITIAL_TREATMENT', \n",
    "                   'PATH_T_STAGE', 'PRIOR_DX', 'RADIATION_THERAPY', 'AGE']\n",
    "\n",
    "# Remove the excluded columns before computing the standard deviation\n",
    "data_filtered_for_sd = data_cleaned.drop(columns=exclude_columns)\n",
    "\n",
    "# Calculate the standard deviation for the remaining columns\n",
    "std_dev = data_filtered_for_sd.std()\n",
    "\n",
    "# Set a threshold to filter out high-variability columns (optional: you can adjust the threshold)\n",
    "threshold = std_dev.mean() + 1 * std_dev.std()  # Keep columns with SD below (mean + 1*SD)\n",
    "\n",
    "# Get the filtered columns based on the threshold\n",
    "filtered_columns = std_dev[std_dev < threshold].index\n",
    "\n",
    "# Create a new dataset with only the selected columns (filtered columns + excluded columns)\n",
    "data_filtered = data_cleaned[exclude_columns + filtered_columns.tolist() ]\n",
    "\n",
    "# Display the number of features before and after filtering\n",
    "print(f\"Original number of features: {data_cleaned.shape[1]}\")\n",
    "print(f\"Number of features after filtering: {data_filtered.shape[1]}\")\n",
    "\n",
    "\n",
    "# Show the filtered columns\n",
    "print(\"\\nColumns with smaller variability (excluding excluded ones):\")\n",
    "print(filtered_columns)"
   ]
  },
  {
   "cell_type": "code",
   "execution_count": 71,
   "id": "3fe90001",
   "metadata": {},
   "outputs": [
    {
     "data": {
      "text/html": [
       "<div>\n",
       "<style scoped>\n",
       "    .dataframe tbody tr th:only-of-type {\n",
       "        vertical-align: middle;\n",
       "    }\n",
       "\n",
       "    .dataframe tbody tr th {\n",
       "        vertical-align: top;\n",
       "    }\n",
       "\n",
       "    .dataframe thead th {\n",
       "        text-align: right;\n",
       "    }\n",
       "</style>\n",
       "<table border=\"1\" class=\"dataframe\">\n",
       "  <thead>\n",
       "    <tr style=\"text-align: right;\">\n",
       "      <th></th>\n",
       "      <th>M_UBE2Q2P2</th>\n",
       "      <th>M_LOC155060</th>\n",
       "      <th>M_GTPBP6</th>\n",
       "      <th>M_EFCAB12</th>\n",
       "      <th>M_A1BG</th>\n",
       "      <th>M_A1CF</th>\n",
       "      <th>M_RBFOX1</th>\n",
       "      <th>M_GGACT</th>\n",
       "      <th>M_A2M</th>\n",
       "      <th>M_A2ML1</th>\n",
       "      <th>...</th>\n",
       "      <th>hsa-mir-1321</th>\n",
       "      <th>hsa-mir-361</th>\n",
       "      <th>hsa-mir-548m</th>\n",
       "      <th>hsa-mir-652</th>\n",
       "      <th>hsa-mir-220a</th>\n",
       "      <th>hsa-mir-513c</th>\n",
       "      <th>hsa-mir-513b</th>\n",
       "      <th>hsa-mir-513a-1</th>\n",
       "      <th>hsa-mir-513a-2</th>\n",
       "      <th>hsa-mir-224</th>\n",
       "    </tr>\n",
       "  </thead>\n",
       "  <tbody>\n",
       "    <tr>\n",
       "      <th>0</th>\n",
       "      <td>-0.0361</td>\n",
       "      <td>0.3014</td>\n",
       "      <td>-0.2867</td>\n",
       "      <td>0.9115</td>\n",
       "      <td>0.2252</td>\n",
       "      <td>-0.1838</td>\n",
       "      <td>0.3830</td>\n",
       "      <td>-0.5284</td>\n",
       "      <td>-0.7255</td>\n",
       "      <td>0.1866</td>\n",
       "      <td>...</td>\n",
       "      <td>0.0</td>\n",
       "      <td>0.0</td>\n",
       "      <td>0.0</td>\n",
       "      <td>0.0</td>\n",
       "      <td>0.0</td>\n",
       "      <td>0.0</td>\n",
       "      <td>0.0</td>\n",
       "      <td>0.0</td>\n",
       "      <td>0.0</td>\n",
       "      <td>0.0</td>\n",
       "    </tr>\n",
       "    <tr>\n",
       "      <th>1</th>\n",
       "      <td>-0.3004</td>\n",
       "      <td>0.6841</td>\n",
       "      <td>0.6619</td>\n",
       "      <td>1.7160</td>\n",
       "      <td>-0.6237</td>\n",
       "      <td>-0.1838</td>\n",
       "      <td>0.1567</td>\n",
       "      <td>-0.0413</td>\n",
       "      <td>0.4708</td>\n",
       "      <td>-0.4744</td>\n",
       "      <td>...</td>\n",
       "      <td>0.0</td>\n",
       "      <td>0.0</td>\n",
       "      <td>0.0</td>\n",
       "      <td>0.0</td>\n",
       "      <td>0.0</td>\n",
       "      <td>0.0</td>\n",
       "      <td>0.0</td>\n",
       "      <td>0.0</td>\n",
       "      <td>0.0</td>\n",
       "      <td>0.0</td>\n",
       "    </tr>\n",
       "    <tr>\n",
       "      <th>2</th>\n",
       "      <td>3.1758</td>\n",
       "      <td>2.8191</td>\n",
       "      <td>0.2520</td>\n",
       "      <td>-0.6433</td>\n",
       "      <td>-0.6380</td>\n",
       "      <td>-0.1633</td>\n",
       "      <td>-0.3436</td>\n",
       "      <td>-0.1908</td>\n",
       "      <td>-0.7193</td>\n",
       "      <td>-0.4985</td>\n",
       "      <td>...</td>\n",
       "      <td>-1.0</td>\n",
       "      <td>-1.0</td>\n",
       "      <td>-1.0</td>\n",
       "      <td>-1.0</td>\n",
       "      <td>-1.0</td>\n",
       "      <td>-1.0</td>\n",
       "      <td>-1.0</td>\n",
       "      <td>-1.0</td>\n",
       "      <td>-1.0</td>\n",
       "      <td>-1.0</td>\n",
       "    </tr>\n",
       "    <tr>\n",
       "      <th>3</th>\n",
       "      <td>-0.1102</td>\n",
       "      <td>-0.1719</td>\n",
       "      <td>-0.2612</td>\n",
       "      <td>0.2185</td>\n",
       "      <td>-0.6294</td>\n",
       "      <td>-0.1838</td>\n",
       "      <td>-0.2837</td>\n",
       "      <td>0.0488</td>\n",
       "      <td>-0.4417</td>\n",
       "      <td>-0.5010</td>\n",
       "      <td>...</td>\n",
       "      <td>0.0</td>\n",
       "      <td>0.0</td>\n",
       "      <td>0.0</td>\n",
       "      <td>0.0</td>\n",
       "      <td>0.0</td>\n",
       "      <td>0.0</td>\n",
       "      <td>0.0</td>\n",
       "      <td>0.0</td>\n",
       "      <td>0.0</td>\n",
       "      <td>0.0</td>\n",
       "    </tr>\n",
       "    <tr>\n",
       "      <th>4</th>\n",
       "      <td>-0.7052</td>\n",
       "      <td>0.3580</td>\n",
       "      <td>0.9095</td>\n",
       "      <td>-0.1748</td>\n",
       "      <td>-0.1893</td>\n",
       "      <td>-0.1838</td>\n",
       "      <td>-0.3850</td>\n",
       "      <td>1.3400</td>\n",
       "      <td>-0.4493</td>\n",
       "      <td>-0.4765</td>\n",
       "      <td>...</td>\n",
       "      <td>0.0</td>\n",
       "      <td>0.0</td>\n",
       "      <td>0.0</td>\n",
       "      <td>0.0</td>\n",
       "      <td>0.0</td>\n",
       "      <td>0.0</td>\n",
       "      <td>0.0</td>\n",
       "      <td>0.0</td>\n",
       "      <td>0.0</td>\n",
       "      <td>0.0</td>\n",
       "    </tr>\n",
       "    <tr>\n",
       "      <th>...</th>\n",
       "      <td>...</td>\n",
       "      <td>...</td>\n",
       "      <td>...</td>\n",
       "      <td>...</td>\n",
       "      <td>...</td>\n",
       "      <td>...</td>\n",
       "      <td>...</td>\n",
       "      <td>...</td>\n",
       "      <td>...</td>\n",
       "      <td>...</td>\n",
       "      <td>...</td>\n",
       "      <td>...</td>\n",
       "      <td>...</td>\n",
       "      <td>...</td>\n",
       "      <td>...</td>\n",
       "      <td>...</td>\n",
       "      <td>...</td>\n",
       "      <td>...</td>\n",
       "      <td>...</td>\n",
       "      <td>...</td>\n",
       "      <td>...</td>\n",
       "    </tr>\n",
       "    <tr>\n",
       "      <th>484</th>\n",
       "      <td>0.6768</td>\n",
       "      <td>10.6747</td>\n",
       "      <td>-0.9893</td>\n",
       "      <td>0.0690</td>\n",
       "      <td>-0.3671</td>\n",
       "      <td>-0.1838</td>\n",
       "      <td>-0.3078</td>\n",
       "      <td>-1.8237</td>\n",
       "      <td>-0.4308</td>\n",
       "      <td>0.4972</td>\n",
       "      <td>...</td>\n",
       "      <td>0.0</td>\n",
       "      <td>0.0</td>\n",
       "      <td>0.0</td>\n",
       "      <td>0.0</td>\n",
       "      <td>0.0</td>\n",
       "      <td>-1.0</td>\n",
       "      <td>-1.0</td>\n",
       "      <td>-1.0</td>\n",
       "      <td>-1.0</td>\n",
       "      <td>0.0</td>\n",
       "    </tr>\n",
       "    <tr>\n",
       "      <th>485</th>\n",
       "      <td>-0.2252</td>\n",
       "      <td>-0.0288</td>\n",
       "      <td>-0.1738</td>\n",
       "      <td>-1.3305</td>\n",
       "      <td>0.1966</td>\n",
       "      <td>-0.1838</td>\n",
       "      <td>0.0035</td>\n",
       "      <td>-0.6731</td>\n",
       "      <td>0.7859</td>\n",
       "      <td>0.5392</td>\n",
       "      <td>...</td>\n",
       "      <td>0.0</td>\n",
       "      <td>0.0</td>\n",
       "      <td>0.0</td>\n",
       "      <td>0.0</td>\n",
       "      <td>0.0</td>\n",
       "      <td>0.0</td>\n",
       "      <td>0.0</td>\n",
       "      <td>0.0</td>\n",
       "      <td>0.0</td>\n",
       "      <td>0.0</td>\n",
       "    </tr>\n",
       "    <tr>\n",
       "      <th>486</th>\n",
       "      <td>-0.8350</td>\n",
       "      <td>-0.5767</td>\n",
       "      <td>0.5719</td>\n",
       "      <td>-1.2691</td>\n",
       "      <td>-0.6668</td>\n",
       "      <td>-0.1838</td>\n",
       "      <td>-0.4006</td>\n",
       "      <td>-0.5881</td>\n",
       "      <td>0.0745</td>\n",
       "      <td>-0.2450</td>\n",
       "      <td>...</td>\n",
       "      <td>0.0</td>\n",
       "      <td>0.0</td>\n",
       "      <td>0.0</td>\n",
       "      <td>0.0</td>\n",
       "      <td>0.0</td>\n",
       "      <td>0.0</td>\n",
       "      <td>0.0</td>\n",
       "      <td>0.0</td>\n",
       "      <td>0.0</td>\n",
       "      <td>0.0</td>\n",
       "    </tr>\n",
       "    <tr>\n",
       "      <th>487</th>\n",
       "      <td>0.4274</td>\n",
       "      <td>-0.0456</td>\n",
       "      <td>0.0093</td>\n",
       "      <td>-0.0881</td>\n",
       "      <td>-0.3998</td>\n",
       "      <td>-0.1838</td>\n",
       "      <td>-0.4006</td>\n",
       "      <td>2.6657</td>\n",
       "      <td>-0.7081</td>\n",
       "      <td>-0.0225</td>\n",
       "      <td>...</td>\n",
       "      <td>-1.0</td>\n",
       "      <td>-1.0</td>\n",
       "      <td>-1.0</td>\n",
       "      <td>-1.0</td>\n",
       "      <td>-1.0</td>\n",
       "      <td>-1.0</td>\n",
       "      <td>-1.0</td>\n",
       "      <td>-1.0</td>\n",
       "      <td>-1.0</td>\n",
       "      <td>-1.0</td>\n",
       "    </tr>\n",
       "    <tr>\n",
       "      <th>488</th>\n",
       "      <td>-0.8230</td>\n",
       "      <td>-0.8958</td>\n",
       "      <td>0.2423</td>\n",
       "      <td>-0.3481</td>\n",
       "      <td>-0.0813</td>\n",
       "      <td>4.7908</td>\n",
       "      <td>0.0428</td>\n",
       "      <td>-0.8089</td>\n",
       "      <td>0.0321</td>\n",
       "      <td>0.4160</td>\n",
       "      <td>...</td>\n",
       "      <td>0.0</td>\n",
       "      <td>0.0</td>\n",
       "      <td>0.0</td>\n",
       "      <td>0.0</td>\n",
       "      <td>0.0</td>\n",
       "      <td>0.0</td>\n",
       "      <td>0.0</td>\n",
       "      <td>0.0</td>\n",
       "      <td>0.0</td>\n",
       "      <td>0.0</td>\n",
       "    </tr>\n",
       "  </tbody>\n",
       "</table>\n",
       "<p>489 rows × 43957 columns</p>\n",
       "</div>"
      ],
      "text/plain": [
       "     M_UBE2Q2P2  M_LOC155060  M_GTPBP6  M_EFCAB12  M_A1BG  M_A1CF  M_RBFOX1  \\\n",
       "0       -0.0361       0.3014   -0.2867     0.9115  0.2252 -0.1838    0.3830   \n",
       "1       -0.3004       0.6841    0.6619     1.7160 -0.6237 -0.1838    0.1567   \n",
       "2        3.1758       2.8191    0.2520    -0.6433 -0.6380 -0.1633   -0.3436   \n",
       "3       -0.1102      -0.1719   -0.2612     0.2185 -0.6294 -0.1838   -0.2837   \n",
       "4       -0.7052       0.3580    0.9095    -0.1748 -0.1893 -0.1838   -0.3850   \n",
       "..          ...          ...       ...        ...     ...     ...       ...   \n",
       "484      0.6768      10.6747   -0.9893     0.0690 -0.3671 -0.1838   -0.3078   \n",
       "485     -0.2252      -0.0288   -0.1738    -1.3305  0.1966 -0.1838    0.0035   \n",
       "486     -0.8350      -0.5767    0.5719    -1.2691 -0.6668 -0.1838   -0.4006   \n",
       "487      0.4274      -0.0456    0.0093    -0.0881 -0.3998 -0.1838   -0.4006   \n",
       "488     -0.8230      -0.8958    0.2423    -0.3481 -0.0813  4.7908    0.0428   \n",
       "\n",
       "     M_GGACT   M_A2M  M_A2ML1  ...  hsa-mir-1321  hsa-mir-361  hsa-mir-548m  \\\n",
       "0    -0.5284 -0.7255   0.1866  ...           0.0          0.0           0.0   \n",
       "1    -0.0413  0.4708  -0.4744  ...           0.0          0.0           0.0   \n",
       "2    -0.1908 -0.7193  -0.4985  ...          -1.0         -1.0          -1.0   \n",
       "3     0.0488 -0.4417  -0.5010  ...           0.0          0.0           0.0   \n",
       "4     1.3400 -0.4493  -0.4765  ...           0.0          0.0           0.0   \n",
       "..       ...     ...      ...  ...           ...          ...           ...   \n",
       "484  -1.8237 -0.4308   0.4972  ...           0.0          0.0           0.0   \n",
       "485  -0.6731  0.7859   0.5392  ...           0.0          0.0           0.0   \n",
       "486  -0.5881  0.0745  -0.2450  ...           0.0          0.0           0.0   \n",
       "487   2.6657 -0.7081  -0.0225  ...          -1.0         -1.0          -1.0   \n",
       "488  -0.8089  0.0321   0.4160  ...           0.0          0.0           0.0   \n",
       "\n",
       "     hsa-mir-652  hsa-mir-220a  hsa-mir-513c  hsa-mir-513b  hsa-mir-513a-1  \\\n",
       "0            0.0           0.0           0.0           0.0             0.0   \n",
       "1            0.0           0.0           0.0           0.0             0.0   \n",
       "2           -1.0          -1.0          -1.0          -1.0            -1.0   \n",
       "3            0.0           0.0           0.0           0.0             0.0   \n",
       "4            0.0           0.0           0.0           0.0             0.0   \n",
       "..           ...           ...           ...           ...             ...   \n",
       "484          0.0           0.0          -1.0          -1.0            -1.0   \n",
       "485          0.0           0.0           0.0           0.0             0.0   \n",
       "486          0.0           0.0           0.0           0.0             0.0   \n",
       "487         -1.0          -1.0          -1.0          -1.0            -1.0   \n",
       "488          0.0           0.0           0.0           0.0             0.0   \n",
       "\n",
       "     hsa-mir-513a-2  hsa-mir-224  \n",
       "0               0.0          0.0  \n",
       "1               0.0          0.0  \n",
       "2              -1.0         -1.0  \n",
       "3               0.0          0.0  \n",
       "4               0.0          0.0  \n",
       "..              ...          ...  \n",
       "484            -1.0          0.0  \n",
       "485             0.0          0.0  \n",
       "486             0.0          0.0  \n",
       "487            -1.0         -1.0  \n",
       "488             0.0          0.0  \n",
       "\n",
       "[489 rows x 43957 columns]"
      ]
     },
     "execution_count": 71,
     "metadata": {},
     "output_type": "execute_result"
    }
   ],
   "source": [
    "data_filtered[filtered_columns]"
   ]
  },
  {
   "cell_type": "code",
   "execution_count": null,
   "id": "b37f77b1",
   "metadata": {},
   "outputs": [
    {
     "name": "stderr",
     "output_type": "stream",
     "text": [
      "<ipython-input-72-fe714ff2cc52>:7: SettingWithCopyWarning: \n",
      "A value is trying to be set on a copy of a slice from a DataFrame.\n",
      "Try using .loc[row_indexer,col_indexer] = value instead\n",
      "\n",
      "See the caveats in the documentation: https://pandas.pydata.org/pandas-docs/stable/user_guide/indexing.html#returning-a-view-versus-a-copy\n",
      "  data_filtered[filtered_columns] = scaler.fit_transform(data_filtered[filtered_columns])\n"
     ]
    }
   ],
   "source": [
    "from sklearn.preprocessing import StandardScaler\n",
    "\n",
    "# Initialize the scaler\n",
    "scaler = StandardScaler()\n",
    "\n",
    "# Apply the scaler to the selected filtered columns\n",
    "data_filtered[filtered_columns] = scaler.fit_transform(data_filtered[filtered_columns])\n",
    "\n",
    "# Display the first few rows of the normalized data\n",
    "print(data_filtered[filtered_columns].head())\n"
   ]
  },
  {
   "cell_type": "code",
   "execution_count": 73,
   "id": "77534c88",
   "metadata": {},
   "outputs": [
    {
     "data": {
      "text/plain": [
       "Index(['M_UBE2Q2P2', 'M_LOC155060', 'M_GTPBP6', 'M_EFCAB12', 'M_A1BG',\n",
       "       'M_A1CF', 'M_RBFOX1', 'M_GGACT', 'M_A2M', 'M_A2ML1',\n",
       "       ...\n",
       "       'hsa-mir-1321', 'hsa-mir-361', 'hsa-mir-548m', 'hsa-mir-652',\n",
       "       'hsa-mir-220a', 'hsa-mir-513c', 'hsa-mir-513b', 'hsa-mir-513a-1',\n",
       "       'hsa-mir-513a-2', 'hsa-mir-224'],\n",
       "      dtype='object', length=43957)"
      ]
     },
     "execution_count": 73,
     "metadata": {},
     "output_type": "execute_result"
    }
   ],
   "source": [
    "filtered_columns"
   ]
  },
  {
   "cell_type": "code",
   "execution_count": 74,
   "id": "f861825b",
   "metadata": {},
   "outputs": [
    {
     "data": {
      "text/plain": [
       "Index(['PATIENT_ID', 'PATH_N_STAGE', 'NEW_TUMOR_EVENT_AFTER_INITIAL_TREATMENT',\n",
       "       'PATH_T_STAGE', 'PRIOR_DX', 'RADIATION_THERAPY', 'AGE', 'M_UBE2Q2P2',\n",
       "       'M_LOC155060', 'M_GTPBP6',\n",
       "       ...\n",
       "       'hsa-mir-1321', 'hsa-mir-361', 'hsa-mir-548m', 'hsa-mir-652',\n",
       "       'hsa-mir-220a', 'hsa-mir-513c', 'hsa-mir-513b', 'hsa-mir-513a-1',\n",
       "       'hsa-mir-513a-2', 'hsa-mir-224'],\n",
       "      dtype='object', length=43964)"
      ]
     },
     "execution_count": 74,
     "metadata": {},
     "output_type": "execute_result"
    }
   ],
   "source": [
    "data_filtered.columns"
   ]
  },
  {
   "cell_type": "markdown",
   "id": "4d14b0b2",
   "metadata": {},
   "source": [
    "# Progression"
   ]
  },
  {
   "cell_type": "code",
   "execution_count": 75,
   "id": "a696c076",
   "metadata": {},
   "outputs": [
    {
     "name": "stdout",
     "output_type": "stream",
     "text": [
      "Selected features by Lasso: Index(['AGE', 'M_AJAP1', 'M_ALPI', 'M_BARX1', 'M_BTBD18', 'M_TMEM52B',\n",
      "       'M_DHRS4-AS1', 'M_PRR35', 'M_SPATA46', 'M_C1ORF115', 'M_SPANXC.4',\n",
      "       'M_C20ORF203', 'M_C9ORF163', 'M_CARS', 'M_CC2D2A', 'M_CCL8', 'M_CHRNA6',\n",
      "       'M_CSTL1', 'M_DDX5', 'M_DNAH8', 'M_FAF2', 'M_FAM19A1', 'M_FAM25A',\n",
      "       'M_FAM76A', 'M_FAR1', 'M_FLI1', 'M_FMOD', 'M_FSCB', 'M_GAL3ST3',\n",
      "       'M_HERC5', 'M_HIST1H3A', 'M_HIST1H3J', 'M_ARHGAP45', 'M_IL1R1',\n",
      "       'M_KCNJ13', 'M_KLC3', 'M_ASH1L-AS1', 'M_LSM11', 'M_MAP2K6', 'M_MMD2',\n",
      "       'M_NRP1', 'M_OMP', 'M_OR1J1', 'M_PCSK7', 'M_HELZ2', 'M_RNF213',\n",
      "       'M_SAMD9', 'M_SPOP', 'M_SRI', 'M_UNC93A', 'M_ZNF22', 'SCARNA3',\n",
      "       'HNRNPLL', 'EGFEM1P', 'LOC101927069', 'PRKACG', 'FXN', 'KLF4',\n",
      "       'SLC22A24', 'SLC22A25', 'MIR3680-1', 'MIR4300', 'B4GALNT3', 'AWAT2',\n",
      "       'MIR676'],\n",
      "      dtype='object')\n"
     ]
    }
   ],
   "source": [
    "from sklearn.linear_model import LassoCV\n",
    "from sklearn.model_selection import train_test_split\n",
    "\n",
    "X = data_filtered.drop(columns= ['PATIENT_ID', 'PATH_N_STAGE'])  # All features\n",
    "y = data_filtered['PATH_N_STAGE']  # Replace with the appropriate target variable\n",
    "\n",
    "# Split data into training and testing sets\n",
    "X_train, X_test, y_train, y_test = train_test_split(X, y, test_size=0.2, random_state=42)\n",
    "\n",
    "# Initialize and fit LassoCV\n",
    "lasso = LassoCV(cv=5)  # Lasso with cross-validation\n",
    "lasso.fit(X_train, y_train)\n",
    "\n",
    "# Get the features selected by Lasso (non-zero coefficients)\n",
    "selected_features = X.columns[(lasso.coef_ != 0)]\n",
    "\n",
    "print(f\"Selected features by Lasso: {selected_features}\")\n"
   ]
  },
  {
   "cell_type": "code",
   "execution_count": 79,
   "id": "83322227",
   "metadata": {},
   "outputs": [],
   "source": [
    "selected_features_for_progression = selected_features"
   ]
  },
  {
   "cell_type": "code",
   "execution_count": 80,
   "id": "82d40bf0",
   "metadata": {},
   "outputs": [
    {
     "data": {
      "text/plain": [
       "(65,)"
      ]
     },
     "execution_count": 80,
     "metadata": {},
     "output_type": "execute_result"
    }
   ],
   "source": [
    "len(selected_features_for_progression), "
   ]
  },
  {
   "cell_type": "markdown",
   "id": "ff566a91",
   "metadata": {},
   "source": [
    "# Therapy Response"
   ]
  },
  {
   "cell_type": "code",
   "execution_count": 81,
   "id": "d525658d",
   "metadata": {},
   "outputs": [
    {
     "name": "stdout",
     "output_type": "stream",
     "text": [
      "Selected features by Lasso: Index(['M_ADORA3', 'M_EBPL', 'M_ENSA', 'M_FEZF1', 'M_HYAL4', 'M_KCNK9',\n",
      "       'M_KRTAP5-1', 'M_PP7080', 'M_PLEKHN1', 'M_RELL2', 'M_SRGAP2', 'M_TREM2',\n",
      "       'M_UMOD', 'GATAD2B', 'RP11-463J7.2', 'SRGAP2B', 'SRGAP2C',\n",
      "       'RP13-507P19.2', 'REM2', 'RBM23', 'VPS13C', 'C2CD4A', 'CHTF18', 'GNG13',\n",
      "       'MIR662', 'PPM1F', 'LIF', 'SF3A1'],\n",
      "      dtype='object')\n"
     ]
    }
   ],
   "source": [
    "\n",
    "from sklearn.linear_model import LassoCV\n",
    "from sklearn.model_selection import train_test_split\n",
    "\n",
    "X = data_filtered.drop(columns= ['PATIENT_ID', 'NEW_TUMOR_EVENT_AFTER_INITIAL_TREATMENT'])  # All features\n",
    "y = data_filtered['NEW_TUMOR_EVENT_AFTER_INITIAL_TREATMENT']  # Replace with the appropriate target variable\n",
    "\n",
    "# Split data into training and testing sets\n",
    "X_train, X_test, y_train, y_test = train_test_split(X, y, test_size=0.2, random_state=42)\n",
    "\n",
    "# Initialize and fit LassoCV\n",
    "lasso = LassoCV(cv=5)  # Lasso with cross-validation\n",
    "lasso.fit(X_train, y_train)\n",
    "\n",
    "# Get the features selected by Lasso (non-zero coefficients)\n",
    "selected_features = X.columns[(lasso.coef_ != 0)]\n",
    "\n",
    "print(f\"Selected features by Lasso: {selected_features}\")\n",
    "\n"
   ]
  },
  {
   "cell_type": "code",
   "execution_count": 83,
   "id": "2f245ed3",
   "metadata": {},
   "outputs": [],
   "source": [
    "selected_features_for_response = selected_features"
   ]
  },
  {
   "cell_type": "code",
   "execution_count": 84,
   "id": "dd332a02",
   "metadata": {},
   "outputs": [
    {
     "data": {
      "text/plain": [
       "28"
      ]
     },
     "execution_count": 84,
     "metadata": {},
     "output_type": "execute_result"
    }
   ],
   "source": [
    "len(selected_features_for_response)"
   ]
  },
  {
   "cell_type": "code",
   "execution_count": null,
   "id": "61e95998",
   "metadata": {},
   "outputs": [],
   "source": []
  }
 ],
 "metadata": {
  "kernelspec": {
   "display_name": "Python 3",
   "language": "python",
   "name": "python3"
  },
  "language_info": {
   "codemirror_mode": {
    "name": "ipython",
    "version": 3
   },
   "file_extension": ".py",
   "mimetype": "text/x-python",
   "name": "python",
   "nbconvert_exporter": "python",
   "pygments_lexer": "ipython3",
   "version": "3.9.12"
  }
 },
 "nbformat": 4,
 "nbformat_minor": 5
}
